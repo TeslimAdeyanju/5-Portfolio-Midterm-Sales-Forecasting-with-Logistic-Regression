{
 "cells": [
  {
   "cell_type": "markdown",
   "metadata": {},
   "source": [
    "# Superstore Analysis and Prediction: Sales Data Insights with Data Science\n",
    "____"
   ]
  },
  {
   "cell_type": "markdown",
   "metadata": {},
   "source": [
    "In this notebook, I aim to demonstrate how Data Science, as well as Python, can serve as powerful tools to extract critical insights from SuperStore's sales data. This analysis will uncover actionable trends and support strategic decisions. I will explore drivers of sales and profitability, develop predictive models, and deliver data-driven recommendations to enhance revenue and profitability. This notebook will showcase how data science techniques can transform retail analytics and provide a valuable resource for utilizing such methods effectively in financial and business decisions.\n",
    "\n",
    "**Objective**:  \n",
    "The goal of this project is to analyze sales data and build a machine learning model to predict **profit margins** for different products based on various features such as sales quantity, discounts, and costs.\n",
    "\n",
    "**Problem Statement:**\n",
    "\n",
    "This project is an in-depth analysis of SuperStore’s transaction data aimed at uncovering insights to support strategic business decisions. By exploring this dataset, I seek to understand the key drivers of sales and profitability, with a focus on customer segments, product categories, discounting practices, and regional performance.\n",
    "\n",
    "The objectives of this analysis are:\n",
    "\n",
    "1. Identify Financial Drivers: Conduct an in-depth examination of factors such as customer demographics, discount levels, and regional sales to determine which variables most significantly impact revenue and profitability. This will highlight high-value areas that SuperStore may prioritize to enhance overall financial performance.\n",
    "\n",
    "2. Develop Predictive Models: Utilize linear regression to forecast sales and profit margins and logistic regression to classify orders as profitable or non-profitable. These models will aid in projecting future performance and guiding inventory, pricing, and marketing decisions.\n",
    "\n",
    "3. Provide Actionable Recommendations: Based on the insights gained from financial analysis and predictive modeling, this project will offer data-driven strategies to optimize SuperStore’s revenue growth and profitability. Recommendations will cover discount policies, customer targeting, and inventory management.\n",
    "\n",
    "This project serves as both a personal development initiative to refine my data science and financial analysis skills and a practical exploration of how data-driven insights can address real-world business challenges in the retail sector."
   ]
  },
  {
   "cell_type": "markdown",
   "metadata": {},
   "source": [
    "#### Table of Contents\n",
    "\n",
    "- [Introduction](#introduction)\n",
    "- [Essential Libraries](#essential-libraries)\n",
    "  - [Pandas](#pandas)\n",
    "  - [Matplotlib & Seaborn](#matplotlib-seaborn)\n",
    "  - [Scikit-Learn](#scikit-learn)\n",
    "- [1 | Getting Started](#getting-started)\n",
    "  - [Data Overview](#data-overview)\n",
    "  - [Data Cleaning and Preprocessing](#data-cleaning-and-preprocessing)\n",
    "  - [Exploratory Data Analysis](#exploratory-data-analysis)\n",
    "- [2 | Predictive Modeling](#predictive-modeling)\n",
    "  - [Linear Regression for Sales Prediction](#linear-regression-for-sales-prediction)\n",
    "  - [Logistic Regression for Profit Classification](#logistic-regression-for-profit-classification)\n",
    "- [3 | Key Insights](#key-insights)\n",
    "  - [High-Value Customers](#high-value-customers)\n",
    "  - [Profit Margin Trends](#profit-margin-trends)\n",
    "  - [Regional Performance](#regional-performance)\n",
    "- [4 | Recommendations](#recommendations)\n",
    "  - [Optimizing Discount Strategies](#optimizing-discount-strategies)\n",
    "  - [Customer Segmentation for Targeted Marketing](#customer-segmentation-for-targeted-marketing)\n",
    "  - [Efficient Inventory Planning](#efficient-inventory-planning)\n",
    "- [Conclusion](#conclusion)\n"
   ]
  },
  {
   "cell_type": "markdown",
   "metadata": {},
   "source": [
    "\n",
    "## Introduction\n",
    "_____"
   ]
  },
  {
   "cell_type": "markdown",
   "metadata": {},
   "source": [
    "\n",
    "Retail businesses like SuperStore rely on data-driven insights to optimize sales, profitability, and customer satisfaction. The ability to analyze transaction data, identify trends, and predict future performance is crucial for strategic decision-making. This project aims to leverage data science techniques to extract actionable insights from SuperStore's sales data and develop predictive models to forecast sales revenue and profit margins.\n",
    "\n",
    "**Dataset Overview**\n",
    "\n",
    "The dataset includes records of sales transactions with the following key features:\n",
    "\n",
    "**Most Relevant Features**\n",
    "\n",
    "1. **Order Date (`order_date`)**  \n",
    "   Useful for capturing seasonality and sales trends.\n",
    "   \n",
    "2. **Ship Date (`ship_date`)**  \n",
    "   Provides insights into logistics efficiency and its effect on customer satisfaction and repeat sales.\n",
    "\n",
    "3. **Product Name (`product_name`)**  \n",
    "   Highlights specific products that drive sales or profitability.\n",
    "\n",
    "4. **Segment (`segment`)**  \n",
    "   Differentiates sales across segments like Corporate, Consumer, and Home Office.\n",
    "\n",
    "5. **Category (`category`)** and **Subcategory (`subcategory`)**  \n",
    "   Groups products into broader classifications to reveal sales patterns.\n",
    "\n",
    "6. **Region (`region`)**, **City (`city`)**, **State (`state`)**, **Country (`country`)**  \n",
    "   Indicates geographical variations in demand and consumer behavior.\n",
    "\n",
    "7. **Discount (`discount`)**  \n",
    "   A significant factor influencing sales volumes and profitability.\n",
    "\n",
    "8. **Quantity (`quantity`)**  \n",
    "   The quantity sold is directly proportional to sales revenue.\n",
    "\n",
    "9.**Customer Name (`customer_name`)**  \n",
    "   This is useful for customer segmentation, critical for predicting sales at the order level.\n",
    "\n",
    "9. **Profit (`profit`)**  \n",
    "   Provides an understanding of the relationship between sales and profitability.\n",
    "\n",
    "3. **Manufacturer (`manufacturer`)**  \n",
    "   Relevant for predicting sales revenue directly.\n",
    "\n",
    "6. **Profit Margin (`profit_margin`)**  \n",
    "   A derived metric; the ratio of profit to sales revenue.\n",
    "\n",
    "**Less Relevant Features**\n",
    "1. **Order ID (`order_id`)**  \n",
    "   Unique identifier for each order; not predictive of sales.\n",
    "\n",
    "4. **Zip Code (`zip`)**  \n",
    "   Too granular for this analysis; broader geographical features are more useful.\n",
    "\n",
    "5. **Country (`country`)**  \n",
    "   Since all data is from the United States, this feature adds no variability.\n",
    "\n",
    "\n",
    "**Key Features of the Project**\n",
    "\n",
    "- **Sales Prediction**: Develop predictive models to forecast sales revenue.\n",
    "- **Profitability Analysis**: Understand factors contributing to profitable transactions using logistic regression.\n",
    "- **Actionable Insights**: Identify trends and drivers of sales to guide strategic decisions in retail operations.\n",
    "- **Recommendations**: Deliver data-driven strategies for optimizing discounts, targeting customers, and managing inventory effectively.\n",
    "\n",
    "This project illustrates the transformative power of data science in retail analytics, making it an invaluable resource for financial and business decision-making.\n"
   ]
  },
  {
   "cell_type": "markdown",
   "metadata": {},
   "source": [
    "\n",
    "## Essential Libraries\n",
    "_____"
   ]
  },
  {
   "cell_type": "markdown",
   "metadata": {},
   "source": [
    "The following libraries are essential for data analysis, visualization, and machine learning tasks in Python. We will use these libraries to explore the SuperStore sales data, develop predictive models, and derive actionable insights."
   ]
  },
  {
   "cell_type": "code",
   "execution_count": 28,
   "metadata": {},
   "outputs": [],
   "source": [
    "# data analysis and wrangling\n",
    "import pandas as pd\n",
    "import numpy as np\n",
    "import skimpy as sp\n",
    "\n",
    "\n",
    "# visualization\n",
    "import matplotlib.pyplot as plt\n",
    "import seaborn as sns\n",
    "\n",
    "\n",
    "from sklearn.preprocessing import LabelEncoder\n",
    "from sklearn.model_selection import train_test_split\n",
    "from sklearn.metrics import mutual_info_score\n",
    "from sklearn.feature_extraction import DictVectorizer\n",
    "from sklearn.linear_model import LogisticRegression\n",
    "from sklearn.metrics import accuracy_score"
   ]
  },
  {
   "cell_type": "markdown",
   "metadata": {},
   "source": [
    "## Getting Started\n",
    "_____"
   ]
  },
  {
   "cell_type": "markdown",
   "metadata": {},
   "source": [
    "### Data Overview"
   ]
  },
  {
   "cell_type": "code",
   "execution_count": 29,
   "metadata": {},
   "outputs": [
    {
     "data": {
      "application/vnd.microsoft.datawrangler.viewer.v0+json": {
       "columns": [
        {
         "name": "index",
         "rawType": "int64",
         "type": "integer"
        },
        {
         "name": "order_id",
         "rawType": "object",
         "type": "string"
        },
        {
         "name": "order_date",
         "rawType": "object",
         "type": "string"
        },
        {
         "name": "ship_date",
         "rawType": "object",
         "type": "string"
        },
        {
         "name": "customer",
         "rawType": "object",
         "type": "string"
        },
        {
         "name": "manufactory",
         "rawType": "object",
         "type": "string"
        },
        {
         "name": "product_name",
         "rawType": "object",
         "type": "string"
        },
        {
         "name": "segment",
         "rawType": "object",
         "type": "string"
        },
        {
         "name": "category",
         "rawType": "object",
         "type": "string"
        },
        {
         "name": "subcategory",
         "rawType": "object",
         "type": "string"
        },
        {
         "name": "region",
         "rawType": "object",
         "type": "string"
        },
        {
         "name": "zip",
         "rawType": "int64",
         "type": "integer"
        },
        {
         "name": "city",
         "rawType": "object",
         "type": "string"
        },
        {
         "name": "state",
         "rawType": "object",
         "type": "string"
        },
        {
         "name": "country",
         "rawType": "object",
         "type": "string"
        },
        {
         "name": "discount",
         "rawType": "float64",
         "type": "float"
        },
        {
         "name": "profit",
         "rawType": "float64",
         "type": "float"
        },
        {
         "name": "quantity",
         "rawType": "int64",
         "type": "integer"
        },
        {
         "name": "sales",
         "rawType": "float64",
         "type": "float"
        },
        {
         "name": "profit_margin",
         "rawType": "float64",
         "type": "float"
        }
       ],
       "conversionMethod": "pd.DataFrame",
       "ref": "24d5e106-081a-4e88-b25c-db1288fecca3",
       "rows": [
        [
         "0",
         "US-2020-103800",
         "1/3/2019",
         "1/7/2019",
         "Darren Powers",
         "Message Book",
         "Message Book, Wirebound, Four 5 1/2\" X 4\" Forms/Pg., 200 Dupl. Sets/Book",
         "Consumer",
         "Office Supplies",
         "Paper",
         "Central",
         "77095",
         "Houston",
         "Texas",
         "United States",
         "0.2",
         "5.5512",
         "2",
         "16.448",
         "0.3375"
        ],
        [
         "1",
         "US-2020-112326",
         "1/4/2019",
         "1/8/2019",
         "Phillina Ober",
         "GBC",
         "GBC Standard Plastic Binding Systems Combs",
         "Home Office",
         "Office Supplies",
         "Binders",
         "Central",
         "60540",
         "Naperville",
         "Illinois",
         "United States",
         "0.8",
         "-5.487",
         "2",
         "3.54",
         "-1.55"
        ],
        [
         "2",
         "US-2020-112326",
         "1/4/2019",
         "1/8/2019",
         "Phillina Ober",
         "Avery",
         "Avery 508",
         "Home Office",
         "Office Supplies",
         "Labels",
         "Central",
         "60540",
         "Naperville",
         "Illinois",
         "United States",
         "0.2",
         "4.2717",
         "3",
         "11.784",
         "0.3625"
        ],
        [
         "3",
         "US-2020-112326",
         "1/4/2019",
         "1/8/2019",
         "Phillina Ober",
         "SAFCO",
         "SAFCO Boltless Steel Shelving",
         "Home Office",
         "Office Supplies",
         "Storage",
         "Central",
         "60540",
         "Naperville",
         "Illinois",
         "United States",
         "0.2",
         "-64.7748",
         "3",
         "272.736",
         "-0.2375"
        ],
        [
         "4",
         "US-2020-141817",
         "1/5/2019",
         "1/12/2019",
         "Mick Brown",
         "Avery",
         "Avery Hi-Liter EverBold Pen Style Fluorescent Highlighters, 4/Pack",
         "Consumer",
         "Office Supplies",
         "Art",
         "East",
         "19143",
         "Philadelphia",
         "Pennsylvania",
         "United States",
         "0.2",
         "4.884",
         "3",
         "19.536",
         "0.25"
        ]
       ],
       "shape": {
        "columns": 19,
        "rows": 5
       }
      },
      "text/html": [
       "<div>\n",
       "<style scoped>\n",
       "    .dataframe tbody tr th:only-of-type {\n",
       "        vertical-align: middle;\n",
       "    }\n",
       "\n",
       "    .dataframe tbody tr th {\n",
       "        vertical-align: top;\n",
       "    }\n",
       "\n",
       "    .dataframe thead th {\n",
       "        text-align: right;\n",
       "    }\n",
       "</style>\n",
       "<table border=\"1\" class=\"dataframe\">\n",
       "  <thead>\n",
       "    <tr style=\"text-align: right;\">\n",
       "      <th></th>\n",
       "      <th>order_id</th>\n",
       "      <th>order_date</th>\n",
       "      <th>ship_date</th>\n",
       "      <th>customer</th>\n",
       "      <th>manufactory</th>\n",
       "      <th>product_name</th>\n",
       "      <th>segment</th>\n",
       "      <th>category</th>\n",
       "      <th>subcategory</th>\n",
       "      <th>region</th>\n",
       "      <th>zip</th>\n",
       "      <th>city</th>\n",
       "      <th>state</th>\n",
       "      <th>country</th>\n",
       "      <th>discount</th>\n",
       "      <th>profit</th>\n",
       "      <th>quantity</th>\n",
       "      <th>sales</th>\n",
       "      <th>profit_margin</th>\n",
       "    </tr>\n",
       "  </thead>\n",
       "  <tbody>\n",
       "    <tr>\n",
       "      <th>0</th>\n",
       "      <td>US-2020-103800</td>\n",
       "      <td>1/3/2019</td>\n",
       "      <td>1/7/2019</td>\n",
       "      <td>Darren Powers</td>\n",
       "      <td>Message Book</td>\n",
       "      <td>Message Book, Wirebound, Four 5 1/2\" X 4\" Form...</td>\n",
       "      <td>Consumer</td>\n",
       "      <td>Office Supplies</td>\n",
       "      <td>Paper</td>\n",
       "      <td>Central</td>\n",
       "      <td>77095</td>\n",
       "      <td>Houston</td>\n",
       "      <td>Texas</td>\n",
       "      <td>United States</td>\n",
       "      <td>0.2</td>\n",
       "      <td>5.5512</td>\n",
       "      <td>2</td>\n",
       "      <td>16.448</td>\n",
       "      <td>0.3375</td>\n",
       "    </tr>\n",
       "    <tr>\n",
       "      <th>1</th>\n",
       "      <td>US-2020-112326</td>\n",
       "      <td>1/4/2019</td>\n",
       "      <td>1/8/2019</td>\n",
       "      <td>Phillina Ober</td>\n",
       "      <td>GBC</td>\n",
       "      <td>GBC Standard Plastic Binding Systems Combs</td>\n",
       "      <td>Home Office</td>\n",
       "      <td>Office Supplies</td>\n",
       "      <td>Binders</td>\n",
       "      <td>Central</td>\n",
       "      <td>60540</td>\n",
       "      <td>Naperville</td>\n",
       "      <td>Illinois</td>\n",
       "      <td>United States</td>\n",
       "      <td>0.8</td>\n",
       "      <td>-5.4870</td>\n",
       "      <td>2</td>\n",
       "      <td>3.540</td>\n",
       "      <td>-1.5500</td>\n",
       "    </tr>\n",
       "    <tr>\n",
       "      <th>2</th>\n",
       "      <td>US-2020-112326</td>\n",
       "      <td>1/4/2019</td>\n",
       "      <td>1/8/2019</td>\n",
       "      <td>Phillina Ober</td>\n",
       "      <td>Avery</td>\n",
       "      <td>Avery 508</td>\n",
       "      <td>Home Office</td>\n",
       "      <td>Office Supplies</td>\n",
       "      <td>Labels</td>\n",
       "      <td>Central</td>\n",
       "      <td>60540</td>\n",
       "      <td>Naperville</td>\n",
       "      <td>Illinois</td>\n",
       "      <td>United States</td>\n",
       "      <td>0.2</td>\n",
       "      <td>4.2717</td>\n",
       "      <td>3</td>\n",
       "      <td>11.784</td>\n",
       "      <td>0.3625</td>\n",
       "    </tr>\n",
       "    <tr>\n",
       "      <th>3</th>\n",
       "      <td>US-2020-112326</td>\n",
       "      <td>1/4/2019</td>\n",
       "      <td>1/8/2019</td>\n",
       "      <td>Phillina Ober</td>\n",
       "      <td>SAFCO</td>\n",
       "      <td>SAFCO Boltless Steel Shelving</td>\n",
       "      <td>Home Office</td>\n",
       "      <td>Office Supplies</td>\n",
       "      <td>Storage</td>\n",
       "      <td>Central</td>\n",
       "      <td>60540</td>\n",
       "      <td>Naperville</td>\n",
       "      <td>Illinois</td>\n",
       "      <td>United States</td>\n",
       "      <td>0.2</td>\n",
       "      <td>-64.7748</td>\n",
       "      <td>3</td>\n",
       "      <td>272.736</td>\n",
       "      <td>-0.2375</td>\n",
       "    </tr>\n",
       "    <tr>\n",
       "      <th>4</th>\n",
       "      <td>US-2020-141817</td>\n",
       "      <td>1/5/2019</td>\n",
       "      <td>1/12/2019</td>\n",
       "      <td>Mick Brown</td>\n",
       "      <td>Avery</td>\n",
       "      <td>Avery Hi-Liter EverBold Pen Style Fluorescent ...</td>\n",
       "      <td>Consumer</td>\n",
       "      <td>Office Supplies</td>\n",
       "      <td>Art</td>\n",
       "      <td>East</td>\n",
       "      <td>19143</td>\n",
       "      <td>Philadelphia</td>\n",
       "      <td>Pennsylvania</td>\n",
       "      <td>United States</td>\n",
       "      <td>0.2</td>\n",
       "      <td>4.8840</td>\n",
       "      <td>3</td>\n",
       "      <td>19.536</td>\n",
       "      <td>0.2500</td>\n",
       "    </tr>\n",
       "  </tbody>\n",
       "</table>\n",
       "</div>"
      ],
      "text/plain": [
       "         order_id order_date  ship_date       customer   manufactory  \\\n",
       "0  US-2020-103800   1/3/2019   1/7/2019  Darren Powers  Message Book   \n",
       "1  US-2020-112326   1/4/2019   1/8/2019  Phillina Ober           GBC   \n",
       "2  US-2020-112326   1/4/2019   1/8/2019  Phillina Ober         Avery   \n",
       "3  US-2020-112326   1/4/2019   1/8/2019  Phillina Ober         SAFCO   \n",
       "4  US-2020-141817   1/5/2019  1/12/2019     Mick Brown         Avery   \n",
       "\n",
       "                                        product_name      segment  \\\n",
       "0  Message Book, Wirebound, Four 5 1/2\" X 4\" Form...     Consumer   \n",
       "1         GBC Standard Plastic Binding Systems Combs  Home Office   \n",
       "2                                          Avery 508  Home Office   \n",
       "3                      SAFCO Boltless Steel Shelving  Home Office   \n",
       "4  Avery Hi-Liter EverBold Pen Style Fluorescent ...     Consumer   \n",
       "\n",
       "          category subcategory   region    zip          city         state  \\\n",
       "0  Office Supplies       Paper  Central  77095       Houston         Texas   \n",
       "1  Office Supplies     Binders  Central  60540    Naperville      Illinois   \n",
       "2  Office Supplies      Labels  Central  60540    Naperville      Illinois   \n",
       "3  Office Supplies     Storage  Central  60540    Naperville      Illinois   \n",
       "4  Office Supplies         Art     East  19143  Philadelphia  Pennsylvania   \n",
       "\n",
       "         country  discount   profit  quantity    sales  profit_margin  \n",
       "0  United States       0.2   5.5512         2   16.448         0.3375  \n",
       "1  United States       0.8  -5.4870         2    3.540        -1.5500  \n",
       "2  United States       0.2   4.2717         3   11.784         0.3625  \n",
       "3  United States       0.2 -64.7748         3  272.736        -0.2375  \n",
       "4  United States       0.2   4.8840         3   19.536         0.2500  "
      ]
     },
     "execution_count": 29,
     "metadata": {},
     "output_type": "execute_result"
    }
   ],
   "source": [
    "# file path of the CSV file\n",
    "file_path = 'dataset.csv'\n",
    "\n",
    "# Load the dataset into a pandas DataFrame\n",
    "df = pd.read_csv(file_path)\n",
    "\n",
    "# Preview the loaded data\n",
    "df.head()"
   ]
  },
  {
   "cell_type": "code",
   "execution_count": 30,
   "metadata": {},
   "outputs": [
    {
     "name": "stdout",
     "output_type": "stream",
     "text": [
      "<class 'pandas.core.frame.DataFrame'>\n",
      "RangeIndex: 9994 entries, 0 to 9993\n",
      "Data columns (total 19 columns):\n",
      " #   Column         Non-Null Count  Dtype  \n",
      "---  ------         --------------  -----  \n",
      " 0   order_id       9994 non-null   object \n",
      " 1   order_date     9994 non-null   object \n",
      " 2   ship_date      9994 non-null   object \n",
      " 3   customer       9994 non-null   object \n",
      " 4   manufactory    9994 non-null   object \n",
      " 5   product_name   9994 non-null   object \n",
      " 6   segment        9994 non-null   object \n",
      " 7   category       9994 non-null   object \n",
      " 8   subcategory    9994 non-null   object \n",
      " 9   region         9994 non-null   object \n",
      " 10  zip            9994 non-null   int64  \n",
      " 11  city           9994 non-null   object \n",
      " 12  state          9994 non-null   object \n",
      " 13  country        9994 non-null   object \n",
      " 14  discount       9994 non-null   float64\n",
      " 15  profit         9994 non-null   float64\n",
      " 16  quantity       9994 non-null   int64  \n",
      " 17  sales          9994 non-null   float64\n",
      " 18  profit_margin  9994 non-null   float64\n",
      "dtypes: float64(4), int64(2), object(13)\n",
      "memory usage: 1.4+ MB\n"
     ]
    }
   ],
   "source": [
    "df.info()"
   ]
  },
  {
   "cell_type": "markdown",
   "metadata": {},
   "source": [
    "### Data Cleaning and Preprocessing\n"
   ]
  },
  {
   "cell_type": "code",
   "execution_count": 31,
   "metadata": {},
   "outputs": [
    {
     "data": {
      "application/vnd.microsoft.datawrangler.viewer.v0+json": {
       "columns": [
        {
         "name": "index",
         "rawType": "int64",
         "type": "integer"
        },
        {
         "name": "order_id",
         "rawType": "object",
         "type": "string"
        },
        {
         "name": "order_date",
         "rawType": "object",
         "type": "string"
        },
        {
         "name": "ship_date",
         "rawType": "object",
         "type": "string"
        },
        {
         "name": "customer",
         "rawType": "object",
         "type": "string"
        },
        {
         "name": "manufactory",
         "rawType": "object",
         "type": "string"
        },
        {
         "name": "product_name",
         "rawType": "object",
         "type": "string"
        },
        {
         "name": "segment",
         "rawType": "object",
         "type": "string"
        },
        {
         "name": "category",
         "rawType": "object",
         "type": "string"
        },
        {
         "name": "subcategory",
         "rawType": "object",
         "type": "string"
        },
        {
         "name": "region",
         "rawType": "object",
         "type": "string"
        },
        {
         "name": "zip",
         "rawType": "int64",
         "type": "integer"
        },
        {
         "name": "city",
         "rawType": "object",
         "type": "string"
        },
        {
         "name": "state",
         "rawType": "object",
         "type": "string"
        },
        {
         "name": "country",
         "rawType": "object",
         "type": "string"
        },
        {
         "name": "discount",
         "rawType": "float64",
         "type": "float"
        },
        {
         "name": "profit",
         "rawType": "float64",
         "type": "float"
        },
        {
         "name": "quantity",
         "rawType": "int64",
         "type": "integer"
        },
        {
         "name": "sales",
         "rawType": "float64",
         "type": "float"
        },
        {
         "name": "profit_margin",
         "rawType": "float64",
         "type": "float"
        }
       ],
       "conversionMethod": "pd.DataFrame",
       "ref": "15e62c55-10e6-41cc-899b-bf1a9b0fcec1",
       "rows": [
        [
         "0",
         "US-2020-103800",
         "1/3/2019",
         "1/7/2019",
         "Darren Powers",
         "Message Book",
         "Message Book, Wirebound, Four 5 1/2\" X 4\" Forms/Pg., 200 Dupl. Sets/Book",
         "Consumer",
         "Office Supplies",
         "Paper",
         "Central",
         "77095",
         "Houston",
         "Texas",
         "United States",
         "0.2",
         "5.5512",
         "2",
         "16.448",
         "0.3375"
        ],
        [
         "1",
         "US-2020-112326",
         "1/4/2019",
         "1/8/2019",
         "Phillina Ober",
         "GBC",
         "GBC Standard Plastic Binding Systems Combs",
         "Home Office",
         "Office Supplies",
         "Binders",
         "Central",
         "60540",
         "Naperville",
         "Illinois",
         "United States",
         "0.8",
         "-5.487",
         "2",
         "3.54",
         "-1.55"
        ],
        [
         "2",
         "US-2020-112326",
         "1/4/2019",
         "1/8/2019",
         "Phillina Ober",
         "Avery",
         "Avery 508",
         "Home Office",
         "Office Supplies",
         "Labels",
         "Central",
         "60540",
         "Naperville",
         "Illinois",
         "United States",
         "0.2",
         "4.2717",
         "3",
         "11.784",
         "0.3625"
        ],
        [
         "3",
         "US-2020-112326",
         "1/4/2019",
         "1/8/2019",
         "Phillina Ober",
         "SAFCO",
         "SAFCO Boltless Steel Shelving",
         "Home Office",
         "Office Supplies",
         "Storage",
         "Central",
         "60540",
         "Naperville",
         "Illinois",
         "United States",
         "0.2",
         "-64.7748",
         "3",
         "272.736",
         "-0.2375"
        ],
        [
         "4",
         "US-2020-141817",
         "1/5/2019",
         "1/12/2019",
         "Mick Brown",
         "Avery",
         "Avery Hi-Liter EverBold Pen Style Fluorescent Highlighters, 4/Pack",
         "Consumer",
         "Office Supplies",
         "Art",
         "East",
         "19143",
         "Philadelphia",
         "Pennsylvania",
         "United States",
         "0.2",
         "4.884",
         "3",
         "19.536",
         "0.25"
        ]
       ],
       "shape": {
        "columns": 19,
        "rows": 5
       }
      },
      "text/html": [
       "<div>\n",
       "<style scoped>\n",
       "    .dataframe tbody tr th:only-of-type {\n",
       "        vertical-align: middle;\n",
       "    }\n",
       "\n",
       "    .dataframe tbody tr th {\n",
       "        vertical-align: top;\n",
       "    }\n",
       "\n",
       "    .dataframe thead th {\n",
       "        text-align: right;\n",
       "    }\n",
       "</style>\n",
       "<table border=\"1\" class=\"dataframe\">\n",
       "  <thead>\n",
       "    <tr style=\"text-align: right;\">\n",
       "      <th></th>\n",
       "      <th>order_id</th>\n",
       "      <th>order_date</th>\n",
       "      <th>ship_date</th>\n",
       "      <th>customer</th>\n",
       "      <th>manufactory</th>\n",
       "      <th>product_name</th>\n",
       "      <th>segment</th>\n",
       "      <th>category</th>\n",
       "      <th>subcategory</th>\n",
       "      <th>region</th>\n",
       "      <th>zip</th>\n",
       "      <th>city</th>\n",
       "      <th>state</th>\n",
       "      <th>country</th>\n",
       "      <th>discount</th>\n",
       "      <th>profit</th>\n",
       "      <th>quantity</th>\n",
       "      <th>sales</th>\n",
       "      <th>profit_margin</th>\n",
       "    </tr>\n",
       "  </thead>\n",
       "  <tbody>\n",
       "    <tr>\n",
       "      <th>0</th>\n",
       "      <td>US-2020-103800</td>\n",
       "      <td>1/3/2019</td>\n",
       "      <td>1/7/2019</td>\n",
       "      <td>Darren Powers</td>\n",
       "      <td>Message Book</td>\n",
       "      <td>Message Book, Wirebound, Four 5 1/2\" X 4\" Form...</td>\n",
       "      <td>Consumer</td>\n",
       "      <td>Office Supplies</td>\n",
       "      <td>Paper</td>\n",
       "      <td>Central</td>\n",
       "      <td>77095</td>\n",
       "      <td>Houston</td>\n",
       "      <td>Texas</td>\n",
       "      <td>United States</td>\n",
       "      <td>0.2</td>\n",
       "      <td>5.5512</td>\n",
       "      <td>2</td>\n",
       "      <td>16.448</td>\n",
       "      <td>0.3375</td>\n",
       "    </tr>\n",
       "    <tr>\n",
       "      <th>1</th>\n",
       "      <td>US-2020-112326</td>\n",
       "      <td>1/4/2019</td>\n",
       "      <td>1/8/2019</td>\n",
       "      <td>Phillina Ober</td>\n",
       "      <td>GBC</td>\n",
       "      <td>GBC Standard Plastic Binding Systems Combs</td>\n",
       "      <td>Home Office</td>\n",
       "      <td>Office Supplies</td>\n",
       "      <td>Binders</td>\n",
       "      <td>Central</td>\n",
       "      <td>60540</td>\n",
       "      <td>Naperville</td>\n",
       "      <td>Illinois</td>\n",
       "      <td>United States</td>\n",
       "      <td>0.8</td>\n",
       "      <td>-5.4870</td>\n",
       "      <td>2</td>\n",
       "      <td>3.540</td>\n",
       "      <td>-1.5500</td>\n",
       "    </tr>\n",
       "    <tr>\n",
       "      <th>2</th>\n",
       "      <td>US-2020-112326</td>\n",
       "      <td>1/4/2019</td>\n",
       "      <td>1/8/2019</td>\n",
       "      <td>Phillina Ober</td>\n",
       "      <td>Avery</td>\n",
       "      <td>Avery 508</td>\n",
       "      <td>Home Office</td>\n",
       "      <td>Office Supplies</td>\n",
       "      <td>Labels</td>\n",
       "      <td>Central</td>\n",
       "      <td>60540</td>\n",
       "      <td>Naperville</td>\n",
       "      <td>Illinois</td>\n",
       "      <td>United States</td>\n",
       "      <td>0.2</td>\n",
       "      <td>4.2717</td>\n",
       "      <td>3</td>\n",
       "      <td>11.784</td>\n",
       "      <td>0.3625</td>\n",
       "    </tr>\n",
       "    <tr>\n",
       "      <th>3</th>\n",
       "      <td>US-2020-112326</td>\n",
       "      <td>1/4/2019</td>\n",
       "      <td>1/8/2019</td>\n",
       "      <td>Phillina Ober</td>\n",
       "      <td>SAFCO</td>\n",
       "      <td>SAFCO Boltless Steel Shelving</td>\n",
       "      <td>Home Office</td>\n",
       "      <td>Office Supplies</td>\n",
       "      <td>Storage</td>\n",
       "      <td>Central</td>\n",
       "      <td>60540</td>\n",
       "      <td>Naperville</td>\n",
       "      <td>Illinois</td>\n",
       "      <td>United States</td>\n",
       "      <td>0.2</td>\n",
       "      <td>-64.7748</td>\n",
       "      <td>3</td>\n",
       "      <td>272.736</td>\n",
       "      <td>-0.2375</td>\n",
       "    </tr>\n",
       "    <tr>\n",
       "      <th>4</th>\n",
       "      <td>US-2020-141817</td>\n",
       "      <td>1/5/2019</td>\n",
       "      <td>1/12/2019</td>\n",
       "      <td>Mick Brown</td>\n",
       "      <td>Avery</td>\n",
       "      <td>Avery Hi-Liter EverBold Pen Style Fluorescent ...</td>\n",
       "      <td>Consumer</td>\n",
       "      <td>Office Supplies</td>\n",
       "      <td>Art</td>\n",
       "      <td>East</td>\n",
       "      <td>19143</td>\n",
       "      <td>Philadelphia</td>\n",
       "      <td>Pennsylvania</td>\n",
       "      <td>United States</td>\n",
       "      <td>0.2</td>\n",
       "      <td>4.8840</td>\n",
       "      <td>3</td>\n",
       "      <td>19.536</td>\n",
       "      <td>0.2500</td>\n",
       "    </tr>\n",
       "  </tbody>\n",
       "</table>\n",
       "</div>"
      ],
      "text/plain": [
       "         order_id order_date  ship_date       customer   manufactory  \\\n",
       "0  US-2020-103800   1/3/2019   1/7/2019  Darren Powers  Message Book   \n",
       "1  US-2020-112326   1/4/2019   1/8/2019  Phillina Ober           GBC   \n",
       "2  US-2020-112326   1/4/2019   1/8/2019  Phillina Ober         Avery   \n",
       "3  US-2020-112326   1/4/2019   1/8/2019  Phillina Ober         SAFCO   \n",
       "4  US-2020-141817   1/5/2019  1/12/2019     Mick Brown         Avery   \n",
       "\n",
       "                                        product_name      segment  \\\n",
       "0  Message Book, Wirebound, Four 5 1/2\" X 4\" Form...     Consumer   \n",
       "1         GBC Standard Plastic Binding Systems Combs  Home Office   \n",
       "2                                          Avery 508  Home Office   \n",
       "3                      SAFCO Boltless Steel Shelving  Home Office   \n",
       "4  Avery Hi-Liter EverBold Pen Style Fluorescent ...     Consumer   \n",
       "\n",
       "          category subcategory   region    zip          city         state  \\\n",
       "0  Office Supplies       Paper  Central  77095       Houston         Texas   \n",
       "1  Office Supplies     Binders  Central  60540    Naperville      Illinois   \n",
       "2  Office Supplies      Labels  Central  60540    Naperville      Illinois   \n",
       "3  Office Supplies     Storage  Central  60540    Naperville      Illinois   \n",
       "4  Office Supplies         Art     East  19143  Philadelphia  Pennsylvania   \n",
       "\n",
       "         country  discount   profit  quantity    sales  profit_margin  \n",
       "0  United States       0.2   5.5512         2   16.448         0.3375  \n",
       "1  United States       0.8  -5.4870         2    3.540        -1.5500  \n",
       "2  United States       0.2   4.2717         3   11.784         0.3625  \n",
       "3  United States       0.2 -64.7748         3  272.736        -0.2375  \n",
       "4  United States       0.2   4.8840         3   19.536         0.2500  "
      ]
     },
     "execution_count": 31,
     "metadata": {},
     "output_type": "execute_result"
    }
   ],
   "source": [
    "df.head()"
   ]
  },
  {
   "cell_type": "code",
   "execution_count": 32,
   "metadata": {},
   "outputs": [
    {
     "data": {
      "text/plain": [
       "(9994, 19)"
      ]
     },
     "execution_count": 32,
     "metadata": {},
     "output_type": "execute_result"
    }
   ],
   "source": [
    "# check the shape of the dataset\n",
    "df.shape"
   ]
  },
  {
   "cell_type": "code",
   "execution_count": 33,
   "metadata": {},
   "outputs": [],
   "source": [
    "# drop the columns that are not needed\n",
    "df = df.drop(['zip', 'country'], axis=1)"
   ]
  },
  {
   "cell_type": "code",
   "execution_count": 34,
   "metadata": {},
   "outputs": [
    {
     "data": {
      "text/plain": [
       "order_id         0\n",
       "order_date       0\n",
       "ship_date        0\n",
       "customer         0\n",
       "manufactory      0\n",
       "product_name     0\n",
       "segment          0\n",
       "category         0\n",
       "subcategory      0\n",
       "region           0\n",
       "city             0\n",
       "state            0\n",
       "discount         0\n",
       "profit           0\n",
       "quantity         0\n",
       "sales            0\n",
       "profit_margin    0\n",
       "dtype: int64"
      ]
     },
     "execution_count": 34,
     "metadata": {},
     "output_type": "execute_result"
    }
   ],
   "source": [
    "# check for missing values\n",
    "df.isnull().sum()"
   ]
  },
  {
   "cell_type": "code",
   "execution_count": 35,
   "metadata": {},
   "outputs": [
    {
     "data": {
      "text/plain": [
       "order_id         5009\n",
       "order_date       1236\n",
       "ship_date        1334\n",
       "customer          793\n",
       "manufactory       182\n",
       "product_name     1849\n",
       "segment             3\n",
       "category            3\n",
       "subcategory        17\n",
       "region              4\n",
       "city              531\n",
       "state              49\n",
       "discount           12\n",
       "profit           7287\n",
       "quantity           14\n",
       "sales            5825\n",
       "profit_margin     288\n",
       "dtype: int64"
      ]
     },
     "execution_count": 35,
     "metadata": {},
     "output_type": "execute_result"
    }
   ],
   "source": [
    "# check the unique values in the dataset\n",
    "df.nunique()"
   ]
  },
  {
   "cell_type": "code",
   "execution_count": 36,
   "metadata": {},
   "outputs": [],
   "source": [
    "# decompose the 'Order Date' column into year, month, and day\n",
    "df['order_date'] = pd.to_datetime(df['order_date'])\n",
    "df['order_year'] = df['order_date'].dt.year\n",
    "df['order_month'] = df['order_date'].dt.month"
   ]
  },
  {
   "cell_type": "code",
   "execution_count": 37,
   "metadata": {},
   "outputs": [],
   "source": [
    "# decompose the 'Ship Date' column into year, month, and day\n",
    "df['ship_date'] = pd.to_datetime(df['ship_date'])   \n",
    "df['ship_year'] = df['ship_date'].dt.year\n",
    "df['ship_month'] = df['ship_date'].dt.month"
   ]
  },
  {
   "cell_type": "code",
   "execution_count": 38,
   "metadata": {},
   "outputs": [],
   "source": [
    "\n",
    "# collection of object columns\n",
    "object_columns_content = df.select_dtypes(include='object')\n",
    "\n",
    "# transforming those columns to uniform content \n",
    "def clean_column_content(df, column_name):\n",
    "    df[column_name] = df[column_name].astype(str)\n",
    "    df[column_name] = df[column_name].str.lower()\n",
    "    df[column_name] = df[column_name].str.replace(' ', '_')\n",
    "    return df\n",
    "\n",
    "for col in object_columns_content:\n",
    "    clean_categorical_data = clean_column_content(df, col)\n",
    "    \n",
    "df = clean_categorical_data"
   ]
  },
  {
   "cell_type": "code",
   "execution_count": 39,
   "metadata": {},
   "outputs": [
    {
     "data": {
      "application/vnd.microsoft.datawrangler.viewer.v0+json": {
       "columns": [
        {
         "name": "index",
         "rawType": "int64",
         "type": "integer"
        },
        {
         "name": "order_id",
         "rawType": "object",
         "type": "string"
        },
        {
         "name": "order_date",
         "rawType": "datetime64[ns]",
         "type": "datetime"
        },
        {
         "name": "ship_date",
         "rawType": "datetime64[ns]",
         "type": "datetime"
        },
        {
         "name": "customer",
         "rawType": "object",
         "type": "string"
        },
        {
         "name": "manufactory",
         "rawType": "object",
         "type": "string"
        },
        {
         "name": "product_name",
         "rawType": "object",
         "type": "string"
        },
        {
         "name": "segment",
         "rawType": "object",
         "type": "string"
        },
        {
         "name": "category",
         "rawType": "object",
         "type": "string"
        },
        {
         "name": "subcategory",
         "rawType": "object",
         "type": "string"
        },
        {
         "name": "region",
         "rawType": "object",
         "type": "string"
        },
        {
         "name": "city",
         "rawType": "object",
         "type": "string"
        },
        {
         "name": "state",
         "rawType": "object",
         "type": "string"
        },
        {
         "name": "discount",
         "rawType": "float64",
         "type": "float"
        },
        {
         "name": "profit",
         "rawType": "float64",
         "type": "float"
        },
        {
         "name": "quantity",
         "rawType": "int64",
         "type": "integer"
        },
        {
         "name": "sales",
         "rawType": "float64",
         "type": "float"
        },
        {
         "name": "profit_margin",
         "rawType": "float64",
         "type": "float"
        },
        {
         "name": "order_year",
         "rawType": "int32",
         "type": "integer"
        },
        {
         "name": "order_month",
         "rawType": "int32",
         "type": "integer"
        },
        {
         "name": "ship_year",
         "rawType": "int32",
         "type": "integer"
        },
        {
         "name": "ship_month",
         "rawType": "int32",
         "type": "integer"
        }
       ],
       "conversionMethod": "pd.DataFrame",
       "ref": "efb11406-491b-4a16-b172-8c27eb241aec",
       "rows": [
        [
         "0",
         "us-2020-103800",
         "2019-01-03 00:00:00",
         "2019-01-07 00:00:00",
         "darren_powers",
         "message_book",
         "message_book,_wirebound,_four_5_1/2\"_x_4\"_forms/pg.,_200_dupl._sets/book",
         "consumer",
         "office_supplies",
         "paper",
         "central",
         "houston",
         "texas",
         "0.2",
         "5.5512",
         "2",
         "16.448",
         "0.3375",
         "2019",
         "1",
         "2019",
         "1"
        ],
        [
         "1",
         "us-2020-112326",
         "2019-01-04 00:00:00",
         "2019-01-08 00:00:00",
         "phillina_ober",
         "gbc",
         "gbc_standard_plastic_binding_systems_combs",
         "home_office",
         "office_supplies",
         "binders",
         "central",
         "naperville",
         "illinois",
         "0.8",
         "-5.487",
         "2",
         "3.54",
         "-1.55",
         "2019",
         "1",
         "2019",
         "1"
        ],
        [
         "2",
         "us-2020-112326",
         "2019-01-04 00:00:00",
         "2019-01-08 00:00:00",
         "phillina_ober",
         "avery",
         "avery_508",
         "home_office",
         "office_supplies",
         "labels",
         "central",
         "naperville",
         "illinois",
         "0.2",
         "4.2717",
         "3",
         "11.784",
         "0.3625",
         "2019",
         "1",
         "2019",
         "1"
        ],
        [
         "3",
         "us-2020-112326",
         "2019-01-04 00:00:00",
         "2019-01-08 00:00:00",
         "phillina_ober",
         "safco",
         "safco_boltless_steel_shelving",
         "home_office",
         "office_supplies",
         "storage",
         "central",
         "naperville",
         "illinois",
         "0.2",
         "-64.7748",
         "3",
         "272.736",
         "-0.2375",
         "2019",
         "1",
         "2019",
         "1"
        ],
        [
         "4",
         "us-2020-141817",
         "2019-01-05 00:00:00",
         "2019-01-12 00:00:00",
         "mick_brown",
         "avery",
         "avery_hi-liter_everbold_pen_style_fluorescent_highlighters,_4/pack",
         "consumer",
         "office_supplies",
         "art",
         "east",
         "philadelphia",
         "pennsylvania",
         "0.2",
         "4.884",
         "3",
         "19.536",
         "0.25",
         "2019",
         "1",
         "2019",
         "1"
        ]
       ],
       "shape": {
        "columns": 21,
        "rows": 5
       }
      },
      "text/html": [
       "<div>\n",
       "<style scoped>\n",
       "    .dataframe tbody tr th:only-of-type {\n",
       "        vertical-align: middle;\n",
       "    }\n",
       "\n",
       "    .dataframe tbody tr th {\n",
       "        vertical-align: top;\n",
       "    }\n",
       "\n",
       "    .dataframe thead th {\n",
       "        text-align: right;\n",
       "    }\n",
       "</style>\n",
       "<table border=\"1\" class=\"dataframe\">\n",
       "  <thead>\n",
       "    <tr style=\"text-align: right;\">\n",
       "      <th></th>\n",
       "      <th>order_id</th>\n",
       "      <th>order_date</th>\n",
       "      <th>ship_date</th>\n",
       "      <th>customer</th>\n",
       "      <th>manufactory</th>\n",
       "      <th>product_name</th>\n",
       "      <th>segment</th>\n",
       "      <th>category</th>\n",
       "      <th>subcategory</th>\n",
       "      <th>region</th>\n",
       "      <th>...</th>\n",
       "      <th>state</th>\n",
       "      <th>discount</th>\n",
       "      <th>profit</th>\n",
       "      <th>quantity</th>\n",
       "      <th>sales</th>\n",
       "      <th>profit_margin</th>\n",
       "      <th>order_year</th>\n",
       "      <th>order_month</th>\n",
       "      <th>ship_year</th>\n",
       "      <th>ship_month</th>\n",
       "    </tr>\n",
       "  </thead>\n",
       "  <tbody>\n",
       "    <tr>\n",
       "      <th>0</th>\n",
       "      <td>us-2020-103800</td>\n",
       "      <td>2019-01-03</td>\n",
       "      <td>2019-01-07</td>\n",
       "      <td>darren_powers</td>\n",
       "      <td>message_book</td>\n",
       "      <td>message_book,_wirebound,_four_5_1/2\"_x_4\"_form...</td>\n",
       "      <td>consumer</td>\n",
       "      <td>office_supplies</td>\n",
       "      <td>paper</td>\n",
       "      <td>central</td>\n",
       "      <td>...</td>\n",
       "      <td>texas</td>\n",
       "      <td>0.2</td>\n",
       "      <td>5.5512</td>\n",
       "      <td>2</td>\n",
       "      <td>16.448</td>\n",
       "      <td>0.3375</td>\n",
       "      <td>2019</td>\n",
       "      <td>1</td>\n",
       "      <td>2019</td>\n",
       "      <td>1</td>\n",
       "    </tr>\n",
       "    <tr>\n",
       "      <th>1</th>\n",
       "      <td>us-2020-112326</td>\n",
       "      <td>2019-01-04</td>\n",
       "      <td>2019-01-08</td>\n",
       "      <td>phillina_ober</td>\n",
       "      <td>gbc</td>\n",
       "      <td>gbc_standard_plastic_binding_systems_combs</td>\n",
       "      <td>home_office</td>\n",
       "      <td>office_supplies</td>\n",
       "      <td>binders</td>\n",
       "      <td>central</td>\n",
       "      <td>...</td>\n",
       "      <td>illinois</td>\n",
       "      <td>0.8</td>\n",
       "      <td>-5.4870</td>\n",
       "      <td>2</td>\n",
       "      <td>3.540</td>\n",
       "      <td>-1.5500</td>\n",
       "      <td>2019</td>\n",
       "      <td>1</td>\n",
       "      <td>2019</td>\n",
       "      <td>1</td>\n",
       "    </tr>\n",
       "    <tr>\n",
       "      <th>2</th>\n",
       "      <td>us-2020-112326</td>\n",
       "      <td>2019-01-04</td>\n",
       "      <td>2019-01-08</td>\n",
       "      <td>phillina_ober</td>\n",
       "      <td>avery</td>\n",
       "      <td>avery_508</td>\n",
       "      <td>home_office</td>\n",
       "      <td>office_supplies</td>\n",
       "      <td>labels</td>\n",
       "      <td>central</td>\n",
       "      <td>...</td>\n",
       "      <td>illinois</td>\n",
       "      <td>0.2</td>\n",
       "      <td>4.2717</td>\n",
       "      <td>3</td>\n",
       "      <td>11.784</td>\n",
       "      <td>0.3625</td>\n",
       "      <td>2019</td>\n",
       "      <td>1</td>\n",
       "      <td>2019</td>\n",
       "      <td>1</td>\n",
       "    </tr>\n",
       "    <tr>\n",
       "      <th>3</th>\n",
       "      <td>us-2020-112326</td>\n",
       "      <td>2019-01-04</td>\n",
       "      <td>2019-01-08</td>\n",
       "      <td>phillina_ober</td>\n",
       "      <td>safco</td>\n",
       "      <td>safco_boltless_steel_shelving</td>\n",
       "      <td>home_office</td>\n",
       "      <td>office_supplies</td>\n",
       "      <td>storage</td>\n",
       "      <td>central</td>\n",
       "      <td>...</td>\n",
       "      <td>illinois</td>\n",
       "      <td>0.2</td>\n",
       "      <td>-64.7748</td>\n",
       "      <td>3</td>\n",
       "      <td>272.736</td>\n",
       "      <td>-0.2375</td>\n",
       "      <td>2019</td>\n",
       "      <td>1</td>\n",
       "      <td>2019</td>\n",
       "      <td>1</td>\n",
       "    </tr>\n",
       "    <tr>\n",
       "      <th>4</th>\n",
       "      <td>us-2020-141817</td>\n",
       "      <td>2019-01-05</td>\n",
       "      <td>2019-01-12</td>\n",
       "      <td>mick_brown</td>\n",
       "      <td>avery</td>\n",
       "      <td>avery_hi-liter_everbold_pen_style_fluorescent_...</td>\n",
       "      <td>consumer</td>\n",
       "      <td>office_supplies</td>\n",
       "      <td>art</td>\n",
       "      <td>east</td>\n",
       "      <td>...</td>\n",
       "      <td>pennsylvania</td>\n",
       "      <td>0.2</td>\n",
       "      <td>4.8840</td>\n",
       "      <td>3</td>\n",
       "      <td>19.536</td>\n",
       "      <td>0.2500</td>\n",
       "      <td>2019</td>\n",
       "      <td>1</td>\n",
       "      <td>2019</td>\n",
       "      <td>1</td>\n",
       "    </tr>\n",
       "  </tbody>\n",
       "</table>\n",
       "<p>5 rows × 21 columns</p>\n",
       "</div>"
      ],
      "text/plain": [
       "         order_id order_date  ship_date       customer   manufactory  \\\n",
       "0  us-2020-103800 2019-01-03 2019-01-07  darren_powers  message_book   \n",
       "1  us-2020-112326 2019-01-04 2019-01-08  phillina_ober           gbc   \n",
       "2  us-2020-112326 2019-01-04 2019-01-08  phillina_ober         avery   \n",
       "3  us-2020-112326 2019-01-04 2019-01-08  phillina_ober         safco   \n",
       "4  us-2020-141817 2019-01-05 2019-01-12     mick_brown         avery   \n",
       "\n",
       "                                        product_name      segment  \\\n",
       "0  message_book,_wirebound,_four_5_1/2\"_x_4\"_form...     consumer   \n",
       "1         gbc_standard_plastic_binding_systems_combs  home_office   \n",
       "2                                          avery_508  home_office   \n",
       "3                      safco_boltless_steel_shelving  home_office   \n",
       "4  avery_hi-liter_everbold_pen_style_fluorescent_...     consumer   \n",
       "\n",
       "          category subcategory   region  ...         state discount   profit  \\\n",
       "0  office_supplies       paper  central  ...         texas      0.2   5.5512   \n",
       "1  office_supplies     binders  central  ...      illinois      0.8  -5.4870   \n",
       "2  office_supplies      labels  central  ...      illinois      0.2   4.2717   \n",
       "3  office_supplies     storage  central  ...      illinois      0.2 -64.7748   \n",
       "4  office_supplies         art     east  ...  pennsylvania      0.2   4.8840   \n",
       "\n",
       "   quantity    sales  profit_margin  order_year  order_month  ship_year  \\\n",
       "0         2   16.448         0.3375        2019            1       2019   \n",
       "1         2    3.540        -1.5500        2019            1       2019   \n",
       "2         3   11.784         0.3625        2019            1       2019   \n",
       "3         3  272.736        -0.2375        2019            1       2019   \n",
       "4         3   19.536         0.2500        2019            1       2019   \n",
       "\n",
       "   ship_month  \n",
       "0           1  \n",
       "1           1  \n",
       "2           1  \n",
       "3           1  \n",
       "4           1  \n",
       "\n",
       "[5 rows x 21 columns]"
      ]
     },
     "execution_count": 39,
     "metadata": {},
     "output_type": "execute_result"
    }
   ],
   "source": [
    "df.head()"
   ]
  },
  {
   "cell_type": "code",
   "execution_count": 40,
   "metadata": {},
   "outputs": [],
   "source": [
    "# Create a LabelEncoder object\n",
    "le = LabelEncoder()\n",
    "\n",
    "# Fit and transform the product_name column\n",
    "df['product_name_encoded'] = le.fit_transform(df['product_name'])"
   ]
  },
  {
   "cell_type": "code",
   "execution_count": 41,
   "metadata": {},
   "outputs": [
    {
     "data": {
      "application/vnd.microsoft.datawrangler.viewer.v0+json": {
       "columns": [
        {
         "name": "index",
         "rawType": "int64",
         "type": "integer"
        },
        {
         "name": "order_id",
         "rawType": "object",
         "type": "string"
        },
        {
         "name": "order_date",
         "rawType": "datetime64[ns]",
         "type": "datetime"
        },
        {
         "name": "ship_date",
         "rawType": "datetime64[ns]",
         "type": "datetime"
        },
        {
         "name": "customer",
         "rawType": "object",
         "type": "string"
        },
        {
         "name": "manufactory",
         "rawType": "object",
         "type": "string"
        },
        {
         "name": "product_name",
         "rawType": "object",
         "type": "string"
        },
        {
         "name": "segment",
         "rawType": "object",
         "type": "string"
        },
        {
         "name": "category",
         "rawType": "object",
         "type": "string"
        },
        {
         "name": "subcategory",
         "rawType": "object",
         "type": "string"
        },
        {
         "name": "region",
         "rawType": "object",
         "type": "string"
        },
        {
         "name": "city",
         "rawType": "object",
         "type": "string"
        },
        {
         "name": "state",
         "rawType": "object",
         "type": "string"
        },
        {
         "name": "discount",
         "rawType": "float64",
         "type": "float"
        },
        {
         "name": "profit",
         "rawType": "float64",
         "type": "float"
        },
        {
         "name": "quantity",
         "rawType": "int64",
         "type": "integer"
        },
        {
         "name": "sales",
         "rawType": "float64",
         "type": "float"
        },
        {
         "name": "profit_margin",
         "rawType": "float64",
         "type": "float"
        },
        {
         "name": "order_year",
         "rawType": "int32",
         "type": "integer"
        },
        {
         "name": "order_month",
         "rawType": "int32",
         "type": "integer"
        },
        {
         "name": "ship_year",
         "rawType": "int32",
         "type": "integer"
        },
        {
         "name": "ship_month",
         "rawType": "int32",
         "type": "integer"
        },
        {
         "name": "product_name_encoded",
         "rawType": "int64",
         "type": "integer"
        }
       ],
       "conversionMethod": "pd.DataFrame",
       "ref": "722e4674-3e1d-4699-85ce-785c2b976892",
       "rows": [
        [
         "0",
         "us-2020-103800",
         "2019-01-03 00:00:00",
         "2019-01-07 00:00:00",
         "darren_powers",
         "message_book",
         "message_book,_wirebound,_four_5_1/2\"_x_4\"_forms/pg.,_200_dupl._sets/book",
         "consumer",
         "office_supplies",
         "paper",
         "central",
         "houston",
         "texas",
         "0.2",
         "5.5512",
         "2",
         "16.448",
         "0.3375",
         "2019",
         "1",
         "2019",
         "1",
         "1086"
        ],
        [
         "1",
         "us-2020-112326",
         "2019-01-04 00:00:00",
         "2019-01-08 00:00:00",
         "phillina_ober",
         "gbc",
         "gbc_standard_plastic_binding_systems_combs",
         "home_office",
         "office_supplies",
         "binders",
         "central",
         "naperville",
         "illinois",
         "0.8",
         "-5.487",
         "2",
         "3.54",
         "-1.55",
         "2019",
         "1",
         "2019",
         "1",
         "708"
        ],
        [
         "2",
         "us-2020-112326",
         "2019-01-04 00:00:00",
         "2019-01-08 00:00:00",
         "phillina_ober",
         "avery",
         "avery_508",
         "home_office",
         "office_supplies",
         "labels",
         "central",
         "naperville",
         "illinois",
         "0.2",
         "4.2717",
         "3",
         "11.784",
         "0.3625",
         "2019",
         "1",
         "2019",
         "1",
         "217"
        ],
        [
         "3",
         "us-2020-112326",
         "2019-01-04 00:00:00",
         "2019-01-08 00:00:00",
         "phillina_ober",
         "safco",
         "safco_boltless_steel_shelving",
         "home_office",
         "office_supplies",
         "storage",
         "central",
         "naperville",
         "illinois",
         "0.2",
         "-64.7748",
         "3",
         "272.736",
         "-0.2375",
         "2019",
         "1",
         "2019",
         "1",
         "1371"
        ],
        [
         "4",
         "us-2020-141817",
         "2019-01-05 00:00:00",
         "2019-01-12 00:00:00",
         "mick_brown",
         "avery",
         "avery_hi-liter_everbold_pen_style_fluorescent_highlighters,_4/pack",
         "consumer",
         "office_supplies",
         "art",
         "east",
         "philadelphia",
         "pennsylvania",
         "0.2",
         "4.884",
         "3",
         "19.536",
         "0.25",
         "2019",
         "1",
         "2019",
         "1",
         "250"
        ]
       ],
       "shape": {
        "columns": 22,
        "rows": 5
       }
      },
      "text/html": [
       "<div>\n",
       "<style scoped>\n",
       "    .dataframe tbody tr th:only-of-type {\n",
       "        vertical-align: middle;\n",
       "    }\n",
       "\n",
       "    .dataframe tbody tr th {\n",
       "        vertical-align: top;\n",
       "    }\n",
       "\n",
       "    .dataframe thead th {\n",
       "        text-align: right;\n",
       "    }\n",
       "</style>\n",
       "<table border=\"1\" class=\"dataframe\">\n",
       "  <thead>\n",
       "    <tr style=\"text-align: right;\">\n",
       "      <th></th>\n",
       "      <th>order_id</th>\n",
       "      <th>order_date</th>\n",
       "      <th>ship_date</th>\n",
       "      <th>customer</th>\n",
       "      <th>manufactory</th>\n",
       "      <th>product_name</th>\n",
       "      <th>segment</th>\n",
       "      <th>category</th>\n",
       "      <th>subcategory</th>\n",
       "      <th>region</th>\n",
       "      <th>...</th>\n",
       "      <th>discount</th>\n",
       "      <th>profit</th>\n",
       "      <th>quantity</th>\n",
       "      <th>sales</th>\n",
       "      <th>profit_margin</th>\n",
       "      <th>order_year</th>\n",
       "      <th>order_month</th>\n",
       "      <th>ship_year</th>\n",
       "      <th>ship_month</th>\n",
       "      <th>product_name_encoded</th>\n",
       "    </tr>\n",
       "  </thead>\n",
       "  <tbody>\n",
       "    <tr>\n",
       "      <th>0</th>\n",
       "      <td>us-2020-103800</td>\n",
       "      <td>2019-01-03</td>\n",
       "      <td>2019-01-07</td>\n",
       "      <td>darren_powers</td>\n",
       "      <td>message_book</td>\n",
       "      <td>message_book,_wirebound,_four_5_1/2\"_x_4\"_form...</td>\n",
       "      <td>consumer</td>\n",
       "      <td>office_supplies</td>\n",
       "      <td>paper</td>\n",
       "      <td>central</td>\n",
       "      <td>...</td>\n",
       "      <td>0.2</td>\n",
       "      <td>5.5512</td>\n",
       "      <td>2</td>\n",
       "      <td>16.448</td>\n",
       "      <td>0.3375</td>\n",
       "      <td>2019</td>\n",
       "      <td>1</td>\n",
       "      <td>2019</td>\n",
       "      <td>1</td>\n",
       "      <td>1086</td>\n",
       "    </tr>\n",
       "    <tr>\n",
       "      <th>1</th>\n",
       "      <td>us-2020-112326</td>\n",
       "      <td>2019-01-04</td>\n",
       "      <td>2019-01-08</td>\n",
       "      <td>phillina_ober</td>\n",
       "      <td>gbc</td>\n",
       "      <td>gbc_standard_plastic_binding_systems_combs</td>\n",
       "      <td>home_office</td>\n",
       "      <td>office_supplies</td>\n",
       "      <td>binders</td>\n",
       "      <td>central</td>\n",
       "      <td>...</td>\n",
       "      <td>0.8</td>\n",
       "      <td>-5.4870</td>\n",
       "      <td>2</td>\n",
       "      <td>3.540</td>\n",
       "      <td>-1.5500</td>\n",
       "      <td>2019</td>\n",
       "      <td>1</td>\n",
       "      <td>2019</td>\n",
       "      <td>1</td>\n",
       "      <td>708</td>\n",
       "    </tr>\n",
       "    <tr>\n",
       "      <th>2</th>\n",
       "      <td>us-2020-112326</td>\n",
       "      <td>2019-01-04</td>\n",
       "      <td>2019-01-08</td>\n",
       "      <td>phillina_ober</td>\n",
       "      <td>avery</td>\n",
       "      <td>avery_508</td>\n",
       "      <td>home_office</td>\n",
       "      <td>office_supplies</td>\n",
       "      <td>labels</td>\n",
       "      <td>central</td>\n",
       "      <td>...</td>\n",
       "      <td>0.2</td>\n",
       "      <td>4.2717</td>\n",
       "      <td>3</td>\n",
       "      <td>11.784</td>\n",
       "      <td>0.3625</td>\n",
       "      <td>2019</td>\n",
       "      <td>1</td>\n",
       "      <td>2019</td>\n",
       "      <td>1</td>\n",
       "      <td>217</td>\n",
       "    </tr>\n",
       "    <tr>\n",
       "      <th>3</th>\n",
       "      <td>us-2020-112326</td>\n",
       "      <td>2019-01-04</td>\n",
       "      <td>2019-01-08</td>\n",
       "      <td>phillina_ober</td>\n",
       "      <td>safco</td>\n",
       "      <td>safco_boltless_steel_shelving</td>\n",
       "      <td>home_office</td>\n",
       "      <td>office_supplies</td>\n",
       "      <td>storage</td>\n",
       "      <td>central</td>\n",
       "      <td>...</td>\n",
       "      <td>0.2</td>\n",
       "      <td>-64.7748</td>\n",
       "      <td>3</td>\n",
       "      <td>272.736</td>\n",
       "      <td>-0.2375</td>\n",
       "      <td>2019</td>\n",
       "      <td>1</td>\n",
       "      <td>2019</td>\n",
       "      <td>1</td>\n",
       "      <td>1371</td>\n",
       "    </tr>\n",
       "    <tr>\n",
       "      <th>4</th>\n",
       "      <td>us-2020-141817</td>\n",
       "      <td>2019-01-05</td>\n",
       "      <td>2019-01-12</td>\n",
       "      <td>mick_brown</td>\n",
       "      <td>avery</td>\n",
       "      <td>avery_hi-liter_everbold_pen_style_fluorescent_...</td>\n",
       "      <td>consumer</td>\n",
       "      <td>office_supplies</td>\n",
       "      <td>art</td>\n",
       "      <td>east</td>\n",
       "      <td>...</td>\n",
       "      <td>0.2</td>\n",
       "      <td>4.8840</td>\n",
       "      <td>3</td>\n",
       "      <td>19.536</td>\n",
       "      <td>0.2500</td>\n",
       "      <td>2019</td>\n",
       "      <td>1</td>\n",
       "      <td>2019</td>\n",
       "      <td>1</td>\n",
       "      <td>250</td>\n",
       "    </tr>\n",
       "  </tbody>\n",
       "</table>\n",
       "<p>5 rows × 22 columns</p>\n",
       "</div>"
      ],
      "text/plain": [
       "         order_id order_date  ship_date       customer   manufactory  \\\n",
       "0  us-2020-103800 2019-01-03 2019-01-07  darren_powers  message_book   \n",
       "1  us-2020-112326 2019-01-04 2019-01-08  phillina_ober           gbc   \n",
       "2  us-2020-112326 2019-01-04 2019-01-08  phillina_ober         avery   \n",
       "3  us-2020-112326 2019-01-04 2019-01-08  phillina_ober         safco   \n",
       "4  us-2020-141817 2019-01-05 2019-01-12     mick_brown         avery   \n",
       "\n",
       "                                        product_name      segment  \\\n",
       "0  message_book,_wirebound,_four_5_1/2\"_x_4\"_form...     consumer   \n",
       "1         gbc_standard_plastic_binding_systems_combs  home_office   \n",
       "2                                          avery_508  home_office   \n",
       "3                      safco_boltless_steel_shelving  home_office   \n",
       "4  avery_hi-liter_everbold_pen_style_fluorescent_...     consumer   \n",
       "\n",
       "          category subcategory   region  ... discount   profit  quantity  \\\n",
       "0  office_supplies       paper  central  ...      0.2   5.5512         2   \n",
       "1  office_supplies     binders  central  ...      0.8  -5.4870         2   \n",
       "2  office_supplies      labels  central  ...      0.2   4.2717         3   \n",
       "3  office_supplies     storage  central  ...      0.2 -64.7748         3   \n",
       "4  office_supplies         art     east  ...      0.2   4.8840         3   \n",
       "\n",
       "     sales  profit_margin  order_year  order_month  ship_year  ship_month  \\\n",
       "0   16.448         0.3375        2019            1       2019           1   \n",
       "1    3.540        -1.5500        2019            1       2019           1   \n",
       "2   11.784         0.3625        2019            1       2019           1   \n",
       "3  272.736        -0.2375        2019            1       2019           1   \n",
       "4   19.536         0.2500        2019            1       2019           1   \n",
       "\n",
       "   product_name_encoded  \n",
       "0                  1086  \n",
       "1                   708  \n",
       "2                   217  \n",
       "3                  1371  \n",
       "4                   250  \n",
       "\n",
       "[5 rows x 22 columns]"
      ]
     },
     "execution_count": 41,
     "metadata": {},
     "output_type": "execute_result"
    }
   ],
   "source": [
    "df.head()"
   ]
  },
  {
   "cell_type": "code",
   "execution_count": 42,
   "metadata": {},
   "outputs": [],
   "source": [
    "# droping the product_name after encoding \n",
    "df = df.drop('product_name', axis=1)"
   ]
  },
  {
   "cell_type": "code",
   "execution_count": 43,
   "metadata": {},
   "outputs": [],
   "source": [
    "# Setting the profit taget variable to categorical either profitable or not\n",
    "df['profit'] = np.where(df['profit'] > 0, 'yes', 'no')"
   ]
  },
  {
   "cell_type": "code",
   "execution_count": 44,
   "metadata": {},
   "outputs": [
    {
     "data": {
      "text/plain": [
       "profit\n",
       "yes    0.806284\n",
       "no     0.193716\n",
       "Name: proportion, dtype: float64"
      ]
     },
     "execution_count": 44,
     "metadata": {},
     "output_type": "execute_result"
    }
   ],
   "source": [
    "# checking the target variables \n",
    "df['profit'].value_counts(normalize=True)"
   ]
  },
  {
   "cell_type": "code",
   "execution_count": 45,
   "metadata": {},
   "outputs": [],
   "source": [
    "# converting the target column to binary\n",
    "df.profit = (df.profit == 'yes').astype(int)"
   ]
  },
  {
   "cell_type": "code",
   "execution_count": 46,
   "metadata": {},
   "outputs": [
    {
     "data": {
      "text/plain": [
       "0    1\n",
       "1    0\n",
       "2    1\n",
       "3    0\n",
       "4    1\n",
       "Name: profit, dtype: int64"
      ]
     },
     "execution_count": 46,
     "metadata": {},
     "output_type": "execute_result"
    }
   ],
   "source": [
    "df.profit.head()"
   ]
  },
  {
   "cell_type": "code",
   "execution_count": 47,
   "metadata": {},
   "outputs": [
    {
     "data": {
      "application/vnd.microsoft.datawrangler.viewer.v0+json": {
       "columns": [
        {
         "name": "index",
         "rawType": "int64",
         "type": "integer"
        },
        {
         "name": "order_id",
         "rawType": "object",
         "type": "string"
        },
        {
         "name": "order_date",
         "rawType": "datetime64[ns]",
         "type": "datetime"
        },
        {
         "name": "ship_date",
         "rawType": "datetime64[ns]",
         "type": "datetime"
        },
        {
         "name": "customer",
         "rawType": "object",
         "type": "string"
        },
        {
         "name": "manufactory",
         "rawType": "object",
         "type": "string"
        },
        {
         "name": "segment",
         "rawType": "object",
         "type": "string"
        },
        {
         "name": "category",
         "rawType": "object",
         "type": "string"
        },
        {
         "name": "subcategory",
         "rawType": "object",
         "type": "string"
        },
        {
         "name": "region",
         "rawType": "object",
         "type": "string"
        },
        {
         "name": "city",
         "rawType": "object",
         "type": "string"
        },
        {
         "name": "state",
         "rawType": "object",
         "type": "string"
        },
        {
         "name": "discount",
         "rawType": "float64",
         "type": "float"
        },
        {
         "name": "profit",
         "rawType": "int64",
         "type": "integer"
        },
        {
         "name": "quantity",
         "rawType": "int64",
         "type": "integer"
        },
        {
         "name": "sales",
         "rawType": "float64",
         "type": "float"
        },
        {
         "name": "profit_margin",
         "rawType": "float64",
         "type": "float"
        },
        {
         "name": "order_year",
         "rawType": "int32",
         "type": "integer"
        },
        {
         "name": "order_month",
         "rawType": "int32",
         "type": "integer"
        },
        {
         "name": "ship_year",
         "rawType": "int32",
         "type": "integer"
        },
        {
         "name": "ship_month",
         "rawType": "int32",
         "type": "integer"
        },
        {
         "name": "product_name_encoded",
         "rawType": "int64",
         "type": "integer"
        }
       ],
       "conversionMethod": "pd.DataFrame",
       "ref": "b357daf0-d7ac-4970-a017-e80bddb3f6ad",
       "rows": [
        [
         "0",
         "us-2020-103800",
         "2019-01-03 00:00:00",
         "2019-01-07 00:00:00",
         "darren_powers",
         "message_book",
         "consumer",
         "office_supplies",
         "paper",
         "central",
         "houston",
         "texas",
         "0.2",
         "1",
         "2",
         "16.448",
         "0.3375",
         "2019",
         "1",
         "2019",
         "1",
         "1086"
        ],
        [
         "1",
         "us-2020-112326",
         "2019-01-04 00:00:00",
         "2019-01-08 00:00:00",
         "phillina_ober",
         "gbc",
         "home_office",
         "office_supplies",
         "binders",
         "central",
         "naperville",
         "illinois",
         "0.8",
         "0",
         "2",
         "3.54",
         "-1.55",
         "2019",
         "1",
         "2019",
         "1",
         "708"
        ],
        [
         "2",
         "us-2020-112326",
         "2019-01-04 00:00:00",
         "2019-01-08 00:00:00",
         "phillina_ober",
         "avery",
         "home_office",
         "office_supplies",
         "labels",
         "central",
         "naperville",
         "illinois",
         "0.2",
         "1",
         "3",
         "11.784",
         "0.3625",
         "2019",
         "1",
         "2019",
         "1",
         "217"
        ],
        [
         "3",
         "us-2020-112326",
         "2019-01-04 00:00:00",
         "2019-01-08 00:00:00",
         "phillina_ober",
         "safco",
         "home_office",
         "office_supplies",
         "storage",
         "central",
         "naperville",
         "illinois",
         "0.2",
         "0",
         "3",
         "272.736",
         "-0.2375",
         "2019",
         "1",
         "2019",
         "1",
         "1371"
        ],
        [
         "4",
         "us-2020-141817",
         "2019-01-05 00:00:00",
         "2019-01-12 00:00:00",
         "mick_brown",
         "avery",
         "consumer",
         "office_supplies",
         "art",
         "east",
         "philadelphia",
         "pennsylvania",
         "0.2",
         "1",
         "3",
         "19.536",
         "0.25",
         "2019",
         "1",
         "2019",
         "1",
         "250"
        ]
       ],
       "shape": {
        "columns": 21,
        "rows": 5
       }
      },
      "text/html": [
       "<div>\n",
       "<style scoped>\n",
       "    .dataframe tbody tr th:only-of-type {\n",
       "        vertical-align: middle;\n",
       "    }\n",
       "\n",
       "    .dataframe tbody tr th {\n",
       "        vertical-align: top;\n",
       "    }\n",
       "\n",
       "    .dataframe thead th {\n",
       "        text-align: right;\n",
       "    }\n",
       "</style>\n",
       "<table border=\"1\" class=\"dataframe\">\n",
       "  <thead>\n",
       "    <tr style=\"text-align: right;\">\n",
       "      <th></th>\n",
       "      <th>order_id</th>\n",
       "      <th>order_date</th>\n",
       "      <th>ship_date</th>\n",
       "      <th>customer</th>\n",
       "      <th>manufactory</th>\n",
       "      <th>segment</th>\n",
       "      <th>category</th>\n",
       "      <th>subcategory</th>\n",
       "      <th>region</th>\n",
       "      <th>city</th>\n",
       "      <th>...</th>\n",
       "      <th>discount</th>\n",
       "      <th>profit</th>\n",
       "      <th>quantity</th>\n",
       "      <th>sales</th>\n",
       "      <th>profit_margin</th>\n",
       "      <th>order_year</th>\n",
       "      <th>order_month</th>\n",
       "      <th>ship_year</th>\n",
       "      <th>ship_month</th>\n",
       "      <th>product_name_encoded</th>\n",
       "    </tr>\n",
       "  </thead>\n",
       "  <tbody>\n",
       "    <tr>\n",
       "      <th>0</th>\n",
       "      <td>us-2020-103800</td>\n",
       "      <td>2019-01-03</td>\n",
       "      <td>2019-01-07</td>\n",
       "      <td>darren_powers</td>\n",
       "      <td>message_book</td>\n",
       "      <td>consumer</td>\n",
       "      <td>office_supplies</td>\n",
       "      <td>paper</td>\n",
       "      <td>central</td>\n",
       "      <td>houston</td>\n",
       "      <td>...</td>\n",
       "      <td>0.2</td>\n",
       "      <td>1</td>\n",
       "      <td>2</td>\n",
       "      <td>16.448</td>\n",
       "      <td>0.3375</td>\n",
       "      <td>2019</td>\n",
       "      <td>1</td>\n",
       "      <td>2019</td>\n",
       "      <td>1</td>\n",
       "      <td>1086</td>\n",
       "    </tr>\n",
       "    <tr>\n",
       "      <th>1</th>\n",
       "      <td>us-2020-112326</td>\n",
       "      <td>2019-01-04</td>\n",
       "      <td>2019-01-08</td>\n",
       "      <td>phillina_ober</td>\n",
       "      <td>gbc</td>\n",
       "      <td>home_office</td>\n",
       "      <td>office_supplies</td>\n",
       "      <td>binders</td>\n",
       "      <td>central</td>\n",
       "      <td>naperville</td>\n",
       "      <td>...</td>\n",
       "      <td>0.8</td>\n",
       "      <td>0</td>\n",
       "      <td>2</td>\n",
       "      <td>3.540</td>\n",
       "      <td>-1.5500</td>\n",
       "      <td>2019</td>\n",
       "      <td>1</td>\n",
       "      <td>2019</td>\n",
       "      <td>1</td>\n",
       "      <td>708</td>\n",
       "    </tr>\n",
       "    <tr>\n",
       "      <th>2</th>\n",
       "      <td>us-2020-112326</td>\n",
       "      <td>2019-01-04</td>\n",
       "      <td>2019-01-08</td>\n",
       "      <td>phillina_ober</td>\n",
       "      <td>avery</td>\n",
       "      <td>home_office</td>\n",
       "      <td>office_supplies</td>\n",
       "      <td>labels</td>\n",
       "      <td>central</td>\n",
       "      <td>naperville</td>\n",
       "      <td>...</td>\n",
       "      <td>0.2</td>\n",
       "      <td>1</td>\n",
       "      <td>3</td>\n",
       "      <td>11.784</td>\n",
       "      <td>0.3625</td>\n",
       "      <td>2019</td>\n",
       "      <td>1</td>\n",
       "      <td>2019</td>\n",
       "      <td>1</td>\n",
       "      <td>217</td>\n",
       "    </tr>\n",
       "    <tr>\n",
       "      <th>3</th>\n",
       "      <td>us-2020-112326</td>\n",
       "      <td>2019-01-04</td>\n",
       "      <td>2019-01-08</td>\n",
       "      <td>phillina_ober</td>\n",
       "      <td>safco</td>\n",
       "      <td>home_office</td>\n",
       "      <td>office_supplies</td>\n",
       "      <td>storage</td>\n",
       "      <td>central</td>\n",
       "      <td>naperville</td>\n",
       "      <td>...</td>\n",
       "      <td>0.2</td>\n",
       "      <td>0</td>\n",
       "      <td>3</td>\n",
       "      <td>272.736</td>\n",
       "      <td>-0.2375</td>\n",
       "      <td>2019</td>\n",
       "      <td>1</td>\n",
       "      <td>2019</td>\n",
       "      <td>1</td>\n",
       "      <td>1371</td>\n",
       "    </tr>\n",
       "    <tr>\n",
       "      <th>4</th>\n",
       "      <td>us-2020-141817</td>\n",
       "      <td>2019-01-05</td>\n",
       "      <td>2019-01-12</td>\n",
       "      <td>mick_brown</td>\n",
       "      <td>avery</td>\n",
       "      <td>consumer</td>\n",
       "      <td>office_supplies</td>\n",
       "      <td>art</td>\n",
       "      <td>east</td>\n",
       "      <td>philadelphia</td>\n",
       "      <td>...</td>\n",
       "      <td>0.2</td>\n",
       "      <td>1</td>\n",
       "      <td>3</td>\n",
       "      <td>19.536</td>\n",
       "      <td>0.2500</td>\n",
       "      <td>2019</td>\n",
       "      <td>1</td>\n",
       "      <td>2019</td>\n",
       "      <td>1</td>\n",
       "      <td>250</td>\n",
       "    </tr>\n",
       "  </tbody>\n",
       "</table>\n",
       "<p>5 rows × 21 columns</p>\n",
       "</div>"
      ],
      "text/plain": [
       "         order_id order_date  ship_date       customer   manufactory  \\\n",
       "0  us-2020-103800 2019-01-03 2019-01-07  darren_powers  message_book   \n",
       "1  us-2020-112326 2019-01-04 2019-01-08  phillina_ober           gbc   \n",
       "2  us-2020-112326 2019-01-04 2019-01-08  phillina_ober         avery   \n",
       "3  us-2020-112326 2019-01-04 2019-01-08  phillina_ober         safco   \n",
       "4  us-2020-141817 2019-01-05 2019-01-12     mick_brown         avery   \n",
       "\n",
       "       segment         category subcategory   region          city  ...  \\\n",
       "0     consumer  office_supplies       paper  central       houston  ...   \n",
       "1  home_office  office_supplies     binders  central    naperville  ...   \n",
       "2  home_office  office_supplies      labels  central    naperville  ...   \n",
       "3  home_office  office_supplies     storage  central    naperville  ...   \n",
       "4     consumer  office_supplies         art     east  philadelphia  ...   \n",
       "\n",
       "  discount  profit  quantity    sales  profit_margin  order_year  order_month  \\\n",
       "0      0.2       1         2   16.448         0.3375        2019            1   \n",
       "1      0.8       0         2    3.540        -1.5500        2019            1   \n",
       "2      0.2       1         3   11.784         0.3625        2019            1   \n",
       "3      0.2       0         3  272.736        -0.2375        2019            1   \n",
       "4      0.2       1         3   19.536         0.2500        2019            1   \n",
       "\n",
       "   ship_year  ship_month  product_name_encoded  \n",
       "0       2019           1                  1086  \n",
       "1       2019           1                   708  \n",
       "2       2019           1                   217  \n",
       "3       2019           1                  1371  \n",
       "4       2019           1                   250  \n",
       "\n",
       "[5 rows x 21 columns]"
      ]
     },
     "execution_count": 47,
     "metadata": {},
     "output_type": "execute_result"
    }
   ],
   "source": [
    "df.head()"
   ]
  },
  {
   "cell_type": "code",
   "execution_count": 48,
   "metadata": {},
   "outputs": [
    {
     "name": "stdout",
     "output_type": "stream",
     "text": [
      "<class 'pandas.core.frame.DataFrame'>\n",
      "RangeIndex: 9994 entries, 0 to 9993\n",
      "Data columns (total 21 columns):\n",
      " #   Column                Non-Null Count  Dtype         \n",
      "---  ------                --------------  -----         \n",
      " 0   order_id              9994 non-null   object        \n",
      " 1   order_date            9994 non-null   datetime64[ns]\n",
      " 2   ship_date             9994 non-null   datetime64[ns]\n",
      " 3   customer              9994 non-null   object        \n",
      " 4   manufactory           9994 non-null   object        \n",
      " 5   segment               9994 non-null   object        \n",
      " 6   category              9994 non-null   object        \n",
      " 7   subcategory           9994 non-null   object        \n",
      " 8   region                9994 non-null   object        \n",
      " 9   city                  9994 non-null   object        \n",
      " 10  state                 9994 non-null   object        \n",
      " 11  discount              9994 non-null   float64       \n",
      " 12  profit                9994 non-null   int64         \n",
      " 13  quantity              9994 non-null   int64         \n",
      " 14  sales                 9994 non-null   float64       \n",
      " 15  profit_margin         9994 non-null   float64       \n",
      " 16  order_year            9994 non-null   int32         \n",
      " 17  order_month           9994 non-null   int32         \n",
      " 18  ship_year             9994 non-null   int32         \n",
      " 19  ship_month            9994 non-null   int32         \n",
      " 20  product_name_encoded  9994 non-null   int64         \n",
      "dtypes: datetime64[ns](2), float64(3), int32(4), int64(3), object(9)\n",
      "memory usage: 1.4+ MB\n"
     ]
    }
   ],
   "source": [
    "df.info()"
   ]
  },
  {
   "cell_type": "markdown",
   "metadata": {},
   "source": [
    "**Identify categorical and numerical columns**"
   ]
  },
  {
   "cell_type": "code",
   "execution_count": 49,
   "metadata": {},
   "outputs": [],
   "source": [
    "numerical_columns = [\n",
    "            'quantity',\n",
    "            'sales',\n",
    "            'profit_margin',\n",
    "            'order_year',\n",
    "            'order_month',\n",
    "            'ship_year',\n",
    "            'ship_month']\n",
    "\n",
    "\n",
    "\n",
    "categorical_columns = [\n",
    "            'order_id',\n",
    "            'customer',\n",
    "            'manufactory',\n",
    "            'product_name_encoded',\n",
    "            'segment',\n",
    "            'category',\n",
    "            'subcategory',\n",
    "            'region',\n",
    "            'city',\n",
    "            'state']"
   ]
  },
  {
   "cell_type": "markdown",
   "metadata": {},
   "source": [
    "**Understanding Data Distributions**"
   ]
  },
  {
   "cell_type": "code",
   "execution_count": 50,
   "metadata": {},
   "outputs": [
    {
     "data": {
      "image/png": "[encoded data removed]",
      "text/plain": [
       "<Figure size 2000x1000 with 9 Axes>"
      ]
     },
     "metadata": {},
     "output_type": "display_data"
    }
   ],
   "source": [
    "# understanding the distribution of the numerical columns\n",
    "df[numerical_columns].hist(figsize=(20, 10), bins=20, xlabelsize=8, ylabelsize=8)\n",
    "plt.show()"
   ]
  },
  {
   "cell_type": "code",
   "execution_count": 51,
   "metadata": {},
   "outputs": [
    {
     "data": {
      "image/png": "[encoded data removed]",
      "text/plain": [
       "<Figure size 1500x1000 with 1 Axes>"
      ]
     },
     "metadata": {},
     "output_type": "display_data"
    }
   ],
   "source": [
    "# using Box Plots to understand the distribution of the numerical columns\n",
    "df[numerical_columns].boxplot(figsize=(15,10))\n",
    "plt.show()"
   ]
  },
  {
   "cell_type": "markdown",
   "metadata": {},
   "source": [
    "From the visualisation above, it is obvious that the sales column contain outlier, thus, log transformation will apply to the sales columnn to normalised it "
   ]
  },
  {
   "cell_type": "code",
   "execution_count": 52,
   "metadata": {},
   "outputs": [
    {
     "data": {
      "image/png": "[encoded data removed]",
      "text/plain": [
       "<Figure size 640x480 with 1 Axes>"
      ]
     },
     "metadata": {},
     "output_type": "display_data"
    }
   ],
   "source": [
    "# view the sales target variable before normalisation \n",
    "sns.histplot(df['sales'], kde=True)\n",
    "plt.show()"
   ]
  },
  {
   "cell_type": "code",
   "execution_count": 53,
   "metadata": {},
   "outputs": [],
   "source": [
    "# using the log scale to plot the histogram\n",
    "df['sales'] = np.log1p(df.sales)"
   ]
  },
  {
   "cell_type": "code",
   "execution_count": 54,
   "metadata": {},
   "outputs": [
    {
     "data": {
      "image/png": "[encoded data removed]",
      "text/plain": [
       "<Figure size 640x480 with 1 Axes>"
      ]
     },
     "metadata": {},
     "output_type": "display_data"
    }
   ],
   "source": [
    "# view after transformation \n",
    "sns.histplot(df['sales'], kde=True)\n",
    "plt.show()"
   ]
  },
  {
   "cell_type": "code",
   "execution_count": 55,
   "metadata": {},
   "outputs": [
    {
     "data": {
      "image/png": "[encoded data removed]",
      "text/plain": [
       "<Figure size 1000x800 with 2 Axes>"
      ]
     },
     "metadata": {},
     "output_type": "display_data"
    }
   ],
   "source": [
    "# viewing the relationship between the numeric features\n",
    "correlation = df[numerical_columns].corr()\n",
    "plt.figure(figsize=(10,8))\n",
    "sns.heatmap(correlation, annot=True, cmap=\"coolwarm\")\n",
    "plt.show()"
   ]
  },
  {
   "cell_type": "markdown",
   "metadata": {},
   "source": [
    "## Setting Up Validation Framework\n",
    "___"
   ]
  },
  {
   "cell_type": "markdown",
   "metadata": {},
   "source": [
    "**Splitting the data into training and testing sets**"
   ]
  },
  {
   "cell_type": "code",
   "execution_count": 56,
   "metadata": {},
   "outputs": [],
   "source": [
    "# splitting the data into training and testing\n",
    "df_train_full, df_test = train_test_split(df, test_size=0.2, random_state=8)\n",
    "\n",
    "# splitting the training data into training and validation\n",
    "df_train, df_val = train_test_split(df_train_full, test_size=0.25, random_state=9)"
   ]
  },
  {
   "cell_type": "code",
   "execution_count": 57,
   "metadata": {},
   "outputs": [
    {
     "data": {
      "text/plain": [
       "(5996, 1999, 1999)"
      ]
     },
     "execution_count": 57,
     "metadata": {},
     "output_type": "execute_result"
    }
   ],
   "source": [
    "# checking the length of the data\n",
    "len(df_train), len(df_val), len(df_test)"
   ]
  },
  {
   "cell_type": "markdown",
   "metadata": {},
   "source": [
    "**Resseting the index of the training and testing set**"
   ]
  },
  {
   "cell_type": "code",
   "execution_count": 58,
   "metadata": {},
   "outputs": [],
   "source": [
    "# reseting the index after splitting \n",
    "df_train_full = df_train_full.reset_index(drop=True)\n",
    "df_train = df_train.reset_index(drop=True)\n",
    "df_val = df_val.reset_index(drop=True)\n",
    "df_test = df_test.reset_index(drop=True)"
   ]
  },
  {
   "cell_type": "markdown",
   "metadata": {},
   "source": [
    "**assigning the target variable to the y_train, y_val and y_test**"
   ]
  },
  {
   "cell_type": "code",
   "execution_count": 59,
   "metadata": {},
   "outputs": [],
   "source": [
    "# assigning the target variables to the y_train and y_val\n",
    "y_train = df_train['profit'].values\n",
    "y_val = df_val['profit'].values\n",
    "y_test = df_test['profit'].values"
   ]
  },
  {
   "cell_type": "markdown",
   "metadata": {},
   "source": [
    "**Dropping the target variable from the training and testing set**"
   ]
  },
  {
   "cell_type": "code",
   "execution_count": 60,
   "metadata": {},
   "outputs": [],
   "source": [
    "# deleting the target variables from the data\n",
    "del df_train['profit']\n",
    "del df_val['profit']\n",
    "del df_test['profit']"
   ]
  },
  {
   "cell_type": "code",
   "execution_count": 61,
   "metadata": {},
   "outputs": [
    {
     "data": {
      "text/plain": [
       "((5996, 20), (1999, 20), (1999, 20))"
      ]
     },
     "execution_count": 61,
     "metadata": {},
     "output_type": "execute_result"
    }
   ],
   "source": [
    "df_train.shape, df_val.shape, df_test.shape"
   ]
  },
  {
   "cell_type": "markdown",
   "metadata": {},
   "source": [
    "## Exploratory Data Analysis\n",
    "___"
   ]
  },
  {
   "cell_type": "markdown",
   "metadata": {},
   "source": [
    "**Features Importance: Profit and Sales**"
   ]
  },
  {
   "cell_type": "code",
   "execution_count": 62,
   "metadata": {},
   "outputs": [
    {
     "name": "stdout",
     "output_type": "stream",
     "text": [
      "0.8038\n"
     ]
    }
   ],
   "source": [
    "# calculating the probability of product profit rate direct \n",
    "global_profit_mean = df_train_full.profit.mean()\n",
    "\n",
    "# rounding the result to 3 decimal \n",
    "print(round(global_profit_mean, 4))"
   ]
  },
  {
   "cell_type": "code",
   "execution_count": 63,
   "metadata": {},
   "outputs": [
    {
     "data": {
      "application/vnd.microsoft.datawrangler.viewer.v0+json": {
       "columns": [
        {
         "name": "index",
         "rawType": "int64",
         "type": "integer"
        },
        {
         "name": "order_id",
         "rawType": "object",
         "type": "string"
        },
        {
         "name": "customer",
         "rawType": "object",
         "type": "string"
        },
        {
         "name": "manufactory",
         "rawType": "object",
         "type": "string"
        },
        {
         "name": "product_name_encoded",
         "rawType": "int64",
         "type": "integer"
        },
        {
         "name": "segment",
         "rawType": "object",
         "type": "string"
        },
        {
         "name": "category",
         "rawType": "object",
         "type": "string"
        },
        {
         "name": "subcategory",
         "rawType": "object",
         "type": "string"
        },
        {
         "name": "region",
         "rawType": "object",
         "type": "string"
        },
        {
         "name": "city",
         "rawType": "object",
         "type": "string"
        },
        {
         "name": "state",
         "rawType": "object",
         "type": "string"
        }
       ],
       "conversionMethod": "pd.DataFrame",
       "ref": "efafc1ad-09d7-4ce6-9006-209380159e3e",
       "rows": [
        [
         "0",
         "us-2023-167395",
         "kunst_miller",
         "ge",
         "724",
         "consumer",
         "technology",
         "phones",
         "east",
         "lowell",
         "massachusetts"
        ],
        [
         "1",
         "us-2023-140480",
         "harold_engle",
         "hunt",
         "885",
         "corporate",
         "office_supplies",
         "art",
         "east",
         "newark",
         "delaware"
        ],
        [
         "2",
         "us-2021-111395",
         "victoria_brennan",
         "tenex",
         "1544",
         "corporate",
         "office_supplies",
         "storage",
         "central",
         "san_antonio",
         "texas"
        ],
        [
         "3",
         "us-2023-100622",
         "dave_kipp",
         "hunt",
         "885",
         "consumer",
         "office_supplies",
         "art",
         "south",
         "orlando",
         "florida"
        ],
        [
         "4",
         "us-2021-159513",
         "john_dryer",
         "other",
         "1608",
         "consumer",
         "technology",
         "machines",
         "west",
         "los_angeles",
         "california"
        ]
       ],
       "shape": {
        "columns": 10,
        "rows": 5
       }
      },
      "text/html": [
       "<div>\n",
       "<style scoped>\n",
       "    .dataframe tbody tr th:only-of-type {\n",
       "        vertical-align: middle;\n",
       "    }\n",
       "\n",
       "    .dataframe tbody tr th {\n",
       "        vertical-align: top;\n",
       "    }\n",
       "\n",
       "    .dataframe thead th {\n",
       "        text-align: right;\n",
       "    }\n",
       "</style>\n",
       "<table border=\"1\" class=\"dataframe\">\n",
       "  <thead>\n",
       "    <tr style=\"text-align: right;\">\n",
       "      <th></th>\n",
       "      <th>order_id</th>\n",
       "      <th>customer</th>\n",
       "      <th>manufactory</th>\n",
       "      <th>product_name_encoded</th>\n",
       "      <th>segment</th>\n",
       "      <th>category</th>\n",
       "      <th>subcategory</th>\n",
       "      <th>region</th>\n",
       "      <th>city</th>\n",
       "      <th>state</th>\n",
       "    </tr>\n",
       "  </thead>\n",
       "  <tbody>\n",
       "    <tr>\n",
       "      <th>0</th>\n",
       "      <td>us-2023-167395</td>\n",
       "      <td>kunst_miller</td>\n",
       "      <td>ge</td>\n",
       "      <td>724</td>\n",
       "      <td>consumer</td>\n",
       "      <td>technology</td>\n",
       "      <td>phones</td>\n",
       "      <td>east</td>\n",
       "      <td>lowell</td>\n",
       "      <td>massachusetts</td>\n",
       "    </tr>\n",
       "    <tr>\n",
       "      <th>1</th>\n",
       "      <td>us-2023-140480</td>\n",
       "      <td>harold_engle</td>\n",
       "      <td>hunt</td>\n",
       "      <td>885</td>\n",
       "      <td>corporate</td>\n",
       "      <td>office_supplies</td>\n",
       "      <td>art</td>\n",
       "      <td>east</td>\n",
       "      <td>newark</td>\n",
       "      <td>delaware</td>\n",
       "    </tr>\n",
       "    <tr>\n",
       "      <th>2</th>\n",
       "      <td>us-2021-111395</td>\n",
       "      <td>victoria_brennan</td>\n",
       "      <td>tenex</td>\n",
       "      <td>1544</td>\n",
       "      <td>corporate</td>\n",
       "      <td>office_supplies</td>\n",
       "      <td>storage</td>\n",
       "      <td>central</td>\n",
       "      <td>san_antonio</td>\n",
       "      <td>texas</td>\n",
       "    </tr>\n",
       "    <tr>\n",
       "      <th>3</th>\n",
       "      <td>us-2023-100622</td>\n",
       "      <td>dave_kipp</td>\n",
       "      <td>hunt</td>\n",
       "      <td>885</td>\n",
       "      <td>consumer</td>\n",
       "      <td>office_supplies</td>\n",
       "      <td>art</td>\n",
       "      <td>south</td>\n",
       "      <td>orlando</td>\n",
       "      <td>florida</td>\n",
       "    </tr>\n",
       "    <tr>\n",
       "      <th>4</th>\n",
       "      <td>us-2021-159513</td>\n",
       "      <td>john_dryer</td>\n",
       "      <td>other</td>\n",
       "      <td>1608</td>\n",
       "      <td>consumer</td>\n",
       "      <td>technology</td>\n",
       "      <td>machines</td>\n",
       "      <td>west</td>\n",
       "      <td>los_angeles</td>\n",
       "      <td>california</td>\n",
       "    </tr>\n",
       "  </tbody>\n",
       "</table>\n",
       "</div>"
      ],
      "text/plain": [
       "         order_id          customer manufactory  product_name_encoded  \\\n",
       "0  us-2023-167395      kunst_miller          ge                   724   \n",
       "1  us-2023-140480      harold_engle        hunt                   885   \n",
       "2  us-2021-111395  victoria_brennan       tenex                  1544   \n",
       "3  us-2023-100622         dave_kipp        hunt                   885   \n",
       "4  us-2021-159513        john_dryer       other                  1608   \n",
       "\n",
       "     segment         category subcategory   region         city          state  \n",
       "0   consumer       technology      phones     east       lowell  massachusetts  \n",
       "1  corporate  office_supplies         art     east       newark       delaware  \n",
       "2  corporate  office_supplies     storage  central  san_antonio          texas  \n",
       "3   consumer  office_supplies         art    south      orlando        florida  \n",
       "4   consumer       technology    machines     west  los_angeles     california  "
      ]
     },
     "execution_count": 63,
     "metadata": {},
     "output_type": "execute_result"
    }
   ],
   "source": [
    "df_train_full[categorical_columns].head()"
   ]
  },
  {
   "cell_type": "code",
   "execution_count": 171,
   "metadata": {},
   "outputs": [
    {
     "data": {
      "text/plain": [
       "order_id                4452\n",
       "customer                 792\n",
       "manufactory              182\n",
       "product_name_encoded    1822\n",
       "segment                    3\n",
       "category                   3\n",
       "subcategory               17\n",
       "region                     4\n",
       "city                     513\n",
       "state                     48\n",
       "dtype: int64"
      ]
     },
     "execution_count": 171,
     "metadata": {},
     "output_type": "execute_result"
    }
   ],
   "source": [
    "df_train_full[categorical_columns].nunique()"
   ]
  },
  {
   "cell_type": "code",
   "execution_count": 172,
   "metadata": {},
   "outputs": [
    {
     "data": {
      "text/plain": [
       "segment\n",
       "consumer       4164\n",
       "corporate      2416\n",
       "home_office    1415\n",
       "Name: count, dtype: int64"
      ]
     },
     "execution_count": 172,
     "metadata": {},
     "output_type": "execute_result"
    }
   ],
   "source": [
    "df_train_full[categorical_columns].segment.value_counts()"
   ]
  },
  {
   "cell_type": "code",
   "execution_count": 173,
   "metadata": {},
   "outputs": [
    {
     "data": {
      "text/html": [
       "<div>\n",
       "<style scoped>\n",
       "    .dataframe tbody tr th:only-of-type {\n",
       "        vertical-align: middle;\n",
       "    }\n",
       "\n",
       "    .dataframe tbody tr th {\n",
       "        vertical-align: top;\n",
       "    }\n",
       "\n",
       "    .dataframe thead th {\n",
       "        text-align: right;\n",
       "    }\n",
       "</style>\n",
       "<table border=\"1\" class=\"dataframe\">\n",
       "  <thead>\n",
       "    <tr style=\"text-align: right;\">\n",
       "      <th></th>\n",
       "      <th>segment</th>\n",
       "      <th>profit</th>\n",
       "    </tr>\n",
       "  </thead>\n",
       "  <tbody>\n",
       "    <tr>\n",
       "      <th>0</th>\n",
       "      <td>consumer</td>\n",
       "      <td>0.797310</td>\n",
       "    </tr>\n",
       "    <tr>\n",
       "      <th>1</th>\n",
       "      <td>corporate</td>\n",
       "      <td>0.808361</td>\n",
       "    </tr>\n",
       "    <tr>\n",
       "      <th>2</th>\n",
       "      <td>home_office</td>\n",
       "      <td>0.814841</td>\n",
       "    </tr>\n",
       "  </tbody>\n",
       "</table>\n",
       "</div>"
      ],
      "text/plain": [
       "       segment    profit\n",
       "0     consumer  0.797310\n",
       "1    corporate  0.808361\n",
       "2  home_office  0.814841"
      ]
     },
     "execution_count": 173,
     "metadata": {},
     "output_type": "execute_result"
    }
   ],
   "source": [
    "# calclating profit for the segment\n",
    "segment_profit = df_train_full.groupby('segment').agg({'profit': 'mean'}).reset_index()\n",
    "segment_profit"
   ]
  },
  {
   "cell_type": "code",
   "execution_count": 174,
   "metadata": {},
   "outputs": [
    {
     "data": {
      "text/html": [
       "<div>\n",
       "<style scoped>\n",
       "    .dataframe tbody tr th:only-of-type {\n",
       "        vertical-align: middle;\n",
       "    }\n",
       "\n",
       "    .dataframe tbody tr th {\n",
       "        vertical-align: top;\n",
       "    }\n",
       "\n",
       "    .dataframe thead th {\n",
       "        text-align: right;\n",
       "    }\n",
       "</style>\n",
       "<table border=\"1\" class=\"dataframe\">\n",
       "  <thead>\n",
       "    <tr style=\"text-align: right;\">\n",
       "      <th></th>\n",
       "      <th>region</th>\n",
       "      <th>profit</th>\n",
       "    </tr>\n",
       "  </thead>\n",
       "  <tbody>\n",
       "    <tr>\n",
       "      <th>0</th>\n",
       "      <td>central</td>\n",
       "      <td>0.666844</td>\n",
       "    </tr>\n",
       "    <tr>\n",
       "      <th>1</th>\n",
       "      <td>east</td>\n",
       "      <td>0.799825</td>\n",
       "    </tr>\n",
       "    <tr>\n",
       "      <th>2</th>\n",
       "      <td>south</td>\n",
       "      <td>0.833849</td>\n",
       "    </tr>\n",
       "    <tr>\n",
       "      <th>3</th>\n",
       "      <td>west</td>\n",
       "      <td>0.893449</td>\n",
       "    </tr>\n",
       "  </tbody>\n",
       "</table>\n",
       "</div>"
      ],
      "text/plain": [
       "    region    profit\n",
       "0  central  0.666844\n",
       "1     east  0.799825\n",
       "2    south  0.833849\n",
       "3     west  0.893449"
      ]
     },
     "execution_count": 174,
     "metadata": {},
     "output_type": "execute_result"
    }
   ],
   "source": [
    "# calculating the profit for the region\n",
    "region_profit = df_train_full.groupby('region').agg({'profit': 'mean'}).reset_index()\n",
    "region_profit"
   ]
  },
  {
   "cell_type": "code",
   "execution_count": 175,
   "metadata": {},
   "outputs": [
    {
     "data": {
      "text/html": [
       "<div>\n",
       "<style scoped>\n",
       "    .dataframe tbody tr th:only-of-type {\n",
       "        vertical-align: middle;\n",
       "    }\n",
       "\n",
       "    .dataframe tbody tr th {\n",
       "        vertical-align: top;\n",
       "    }\n",
       "\n",
       "    .dataframe thead th {\n",
       "        text-align: right;\n",
       "    }\n",
       "</style>\n",
       "<table border=\"1\" class=\"dataframe\">\n",
       "  <thead>\n",
       "    <tr style=\"text-align: right;\">\n",
       "      <th></th>\n",
       "      <th>category</th>\n",
       "      <th>profit</th>\n",
       "    </tr>\n",
       "  </thead>\n",
       "  <tbody>\n",
       "    <tr>\n",
       "      <th>0</th>\n",
       "      <td>furniture</td>\n",
       "      <td>0.646136</td>\n",
       "    </tr>\n",
       "    <tr>\n",
       "      <th>1</th>\n",
       "      <td>office_supplies</td>\n",
       "      <td>0.847306</td>\n",
       "    </tr>\n",
       "    <tr>\n",
       "      <th>2</th>\n",
       "      <td>technology</td>\n",
       "      <td>0.845944</td>\n",
       "    </tr>\n",
       "  </tbody>\n",
       "</table>\n",
       "</div>"
      ],
      "text/plain": [
       "          category    profit\n",
       "0        furniture  0.646136\n",
       "1  office_supplies  0.847306\n",
       "2       technology  0.845944"
      ]
     },
     "execution_count": 175,
     "metadata": {},
     "output_type": "execute_result"
    }
   ],
   "source": [
    "# calculating the profit for the category\n",
    "category_profit = df_train_full.groupby('category').agg({'profit': 'mean'}).reset_index()\n",
    "category_profit"
   ]
  },
  {
   "cell_type": "code",
   "execution_count": 176,
   "metadata": {},
   "outputs": [
    {
     "data": {
      "text/html": [
       "<div>\n",
       "<style scoped>\n",
       "    .dataframe tbody tr th:only-of-type {\n",
       "        vertical-align: middle;\n",
       "    }\n",
       "\n",
       "    .dataframe tbody tr th {\n",
       "        vertical-align: top;\n",
       "    }\n",
       "\n",
       "    .dataframe thead th {\n",
       "        text-align: right;\n",
       "    }\n",
       "</style>\n",
       "<table border=\"1\" class=\"dataframe\">\n",
       "  <thead>\n",
       "    <tr style=\"text-align: right;\">\n",
       "      <th></th>\n",
       "      <th>mean</th>\n",
       "      <th>diff</th>\n",
       "      <th>risk</th>\n",
       "    </tr>\n",
       "    <tr>\n",
       "      <th>segment</th>\n",
       "      <th></th>\n",
       "      <th></th>\n",
       "      <th></th>\n",
       "    </tr>\n",
       "  </thead>\n",
       "  <tbody>\n",
       "    <tr>\n",
       "      <th>consumer</th>\n",
       "      <td>0.797310</td>\n",
       "      <td>-0.006442</td>\n",
       "      <td>0.991985</td>\n",
       "    </tr>\n",
       "    <tr>\n",
       "      <th>corporate</th>\n",
       "      <td>0.808361</td>\n",
       "      <td>0.004609</td>\n",
       "      <td>1.005734</td>\n",
       "    </tr>\n",
       "    <tr>\n",
       "      <th>home_office</th>\n",
       "      <td>0.814841</td>\n",
       "      <td>0.011089</td>\n",
       "      <td>1.013796</td>\n",
       "    </tr>\n",
       "  </tbody>\n",
       "</table>\n",
       "</div>"
      ],
      "text/plain": [
       "                 mean      diff      risk\n",
       "segment                                  \n",
       "consumer     0.797310 -0.006442  0.991985\n",
       "corporate    0.808361  0.004609  1.005734\n",
       "home_office  0.814841  0.011089  1.013796"
      ]
     },
     "execution_count": 176,
     "metadata": {},
     "output_type": "execute_result"
    }
   ],
   "source": [
    "# ceating a function to calculate the mean of the profit rate for categorical columns\n",
    "\n",
    "global_profit_mean = df_train_full.profit.mean()\n",
    " \n",
    "df_group = df_train_full.groupby(by='segment').profit.agg(['mean'])\n",
    "df_group['diff'] = df_group['mean'] - global_profit_mean\n",
    "df_group['risk'] = df_group['mean'] / global_profit_mean\n",
    " \n",
    "df_group"
   ]
  },
  {
   "cell_type": "code",
   "execution_count": 64,
   "metadata": {},
   "outputs": [
    {
     "data": {
      "application/vnd.microsoft.datawrangler.viewer.v0+json": {
       "columns": [
        {
         "name": "order_id",
         "rawType": "object",
         "type": "string"
        },
        {
         "name": "mean",
         "rawType": "float64",
         "type": "float"
        },
        {
         "name": "diff",
         "rawType": "float64",
         "type": "float"
        },
        {
         "name": "rate",
         "rawType": "float64",
         "type": "float"
        }
       ],
       "conversionMethod": "pd.DataFrame",
       "ref": "b1778225-0a22-4b5e-8fea-61ea9ffcfb39",
       "rows": [
        [
         "us-2020-100090",
         "1.0",
         "0.1962476547842401",
         "1.2441643323996265"
        ],
        [
         "us-2020-100293",
         "1.0",
         "0.1962476547842401",
         "1.2441643323996265"
        ],
        [
         "us-2020-100363",
         "1.0",
         "0.1962476547842401",
         "1.2441643323996265"
        ],
        [
         "us-2020-100391",
         "1.0",
         "0.1962476547842401",
         "1.2441643323996265"
        ],
        [
         "us-2020-100678",
         "0.75",
         "-0.05375234521575989",
         "0.9331232492997198"
        ],
        [
         "us-2020-100706",
         "1.0",
         "0.1962476547842401",
         "1.2441643323996265"
        ],
        [
         "us-2020-100762",
         "1.0",
         "0.1962476547842401",
         "1.2441643323996265"
        ],
        [
         "us-2020-100853",
         "0.5",
         "-0.3037523452157599",
         "0.6220821661998133"
        ],
        [
         "us-2020-100860",
         "1.0",
         "0.1962476547842401",
         "1.2441643323996265"
        ],
        [
         "us-2020-100867",
         "1.0",
         "0.1962476547842401",
         "1.2441643323996265"
        ],
        [
         "us-2020-100881",
         "1.0",
         "0.1962476547842401",
         "1.2441643323996265"
        ],
        [
         "us-2020-100895",
         "1.0",
         "0.1962476547842401",
         "1.2441643323996265"
        ],
        [
         "us-2020-100916",
         "1.0",
         "0.1962476547842401",
         "1.2441643323996265"
        ],
        [
         "us-2020-100972",
         "1.0",
         "0.1962476547842401",
         "1.2441643323996265"
        ],
        [
         "us-2020-101147",
         "0.0",
         "-0.8037523452157599",
         "0.0"
        ],
        [
         "us-2020-101266",
         "1.0",
         "0.1962476547842401",
         "1.2441643323996265"
        ],
        [
         "us-2020-101364",
         "1.0",
         "0.1962476547842401",
         "1.2441643323996265"
        ],
        [
         "us-2020-101392",
         "1.0",
         "0.1962476547842401",
         "1.2441643323996265"
        ],
        [
         "us-2020-101427",
         "1.0",
         "0.1962476547842401",
         "1.2441643323996265"
        ],
        [
         "us-2020-101462",
         "1.0",
         "0.1962476547842401",
         "1.2441643323996265"
        ],
        [
         "us-2020-101560",
         "1.0",
         "0.1962476547842401",
         "1.2441643323996265"
        ],
        [
         "us-2020-101602",
         "0.0",
         "-0.8037523452157599",
         "0.0"
        ],
        [
         "us-2020-101833",
         "1.0",
         "0.1962476547842401",
         "1.2441643323996265"
        ],
        [
         "us-2020-101931",
         "0.8",
         "-0.0037523452157598447",
         "0.9953314659197012"
        ],
        [
         "us-2020-102008",
         "1.0",
         "0.1962476547842401",
         "1.2441643323996265"
        ],
        [
         "us-2020-102071",
         "1.0",
         "0.1962476547842401",
         "1.2441643323996265"
        ],
        [
         "us-2020-102274",
         "1.0",
         "0.1962476547842401",
         "1.2441643323996265"
        ],
        [
         "us-2020-102295",
         "0.0",
         "-0.8037523452157599",
         "0.0"
        ],
        [
         "us-2020-102330",
         "1.0",
         "0.1962476547842401",
         "1.2441643323996265"
        ],
        [
         "us-2020-102645",
         "1.0",
         "0.1962476547842401",
         "1.2441643323996265"
        ],
        [
         "us-2020-102652",
         "1.0",
         "0.1962476547842401",
         "1.2441643323996265"
        ],
        [
         "us-2020-102673",
         "1.0",
         "0.1962476547842401",
         "1.2441643323996265"
        ],
        [
         "us-2020-102715",
         "1.0",
         "0.1962476547842401",
         "1.2441643323996265"
        ],
        [
         "us-2020-102869",
         "0.5",
         "-0.3037523452157599",
         "0.6220821661998133"
        ],
        [
         "us-2020-102988",
         "1.0",
         "0.1962476547842401",
         "1.2441643323996265"
        ],
        [
         "us-2020-103086",
         "0.0",
         "-0.8037523452157599",
         "0.0"
        ],
        [
         "us-2020-103100",
         "1.0",
         "0.1962476547842401",
         "1.2441643323996265"
        ],
        [
         "us-2020-103191",
         "0.0",
         "-0.8037523452157599",
         "0.0"
        ],
        [
         "us-2020-103310",
         "1.0",
         "0.1962476547842401",
         "1.2441643323996265"
        ],
        [
         "us-2020-103317",
         "0.6666666666666666",
         "-0.13708567854909326",
         "0.8294428882664175"
        ],
        [
         "us-2020-103331",
         "1.0",
         "0.1962476547842401",
         "1.2441643323996265"
        ],
        [
         "us-2020-103338",
         "1.0",
         "0.1962476547842401",
         "1.2441643323996265"
        ],
        [
         "us-2020-103366",
         "1.0",
         "0.1962476547842401",
         "1.2441643323996265"
        ],
        [
         "us-2020-103373",
         "0.0",
         "-0.8037523452157599",
         "0.0"
        ],
        [
         "us-2020-103401",
         "1.0",
         "0.1962476547842401",
         "1.2441643323996265"
        ],
        [
         "us-2020-103429",
         "1.0",
         "0.1962476547842401",
         "1.2441643323996265"
        ],
        [
         "us-2020-103492",
         "0.3333333333333333",
         "-0.4704190118824266",
         "0.41472144413320877"
        ],
        [
         "us-2020-103590",
         "1.0",
         "0.1962476547842401",
         "1.2441643323996265"
        ],
        [
         "us-2020-103660",
         "1.0",
         "0.1962476547842401",
         "1.2441643323996265"
        ],
        [
         "us-2020-103702",
         "0.0",
         "-0.8037523452157599",
         "0.0"
        ]
       ],
       "shape": {
        "columns": 3,
        "rows": 4452
       }
      },
      "text/html": [
       "<div>\n",
       "<style scoped>\n",
       "    .dataframe tbody tr th:only-of-type {\n",
       "        vertical-align: middle;\n",
       "    }\n",
       "\n",
       "    .dataframe tbody tr th {\n",
       "        vertical-align: top;\n",
       "    }\n",
       "\n",
       "    .dataframe thead th {\n",
       "        text-align: right;\n",
       "    }\n",
       "</style>\n",
       "<table border=\"1\" class=\"dataframe\">\n",
       "  <thead>\n",
       "    <tr style=\"text-align: right;\">\n",
       "      <th></th>\n",
       "      <th>mean</th>\n",
       "      <th>diff</th>\n",
       "      <th>rate</th>\n",
       "    </tr>\n",
       "    <tr>\n",
       "      <th>order_id</th>\n",
       "      <th></th>\n",
       "      <th></th>\n",
       "      <th></th>\n",
       "    </tr>\n",
       "  </thead>\n",
       "  <tbody>\n",
       "    <tr>\n",
       "      <th>us-2020-100090</th>\n",
       "      <td>1.00</td>\n",
       "      <td>0.196248</td>\n",
       "      <td>1.244164</td>\n",
       "    </tr>\n",
       "    <tr>\n",
       "      <th>us-2020-100293</th>\n",
       "      <td>1.00</td>\n",
       "      <td>0.196248</td>\n",
       "      <td>1.244164</td>\n",
       "    </tr>\n",
       "    <tr>\n",
       "      <th>us-2020-100363</th>\n",
       "      <td>1.00</td>\n",
       "      <td>0.196248</td>\n",
       "      <td>1.244164</td>\n",
       "    </tr>\n",
       "    <tr>\n",
       "      <th>us-2020-100391</th>\n",
       "      <td>1.00</td>\n",
       "      <td>0.196248</td>\n",
       "      <td>1.244164</td>\n",
       "    </tr>\n",
       "    <tr>\n",
       "      <th>us-2020-100678</th>\n",
       "      <td>0.75</td>\n",
       "      <td>-0.053752</td>\n",
       "      <td>0.933123</td>\n",
       "    </tr>\n",
       "    <tr>\n",
       "      <th>...</th>\n",
       "      <td>...</td>\n",
       "      <td>...</td>\n",
       "      <td>...</td>\n",
       "    </tr>\n",
       "    <tr>\n",
       "      <th>us-2023-169894</th>\n",
       "      <td>0.00</td>\n",
       "      <td>-0.803752</td>\n",
       "      <td>0.000000</td>\n",
       "    </tr>\n",
       "    <tr>\n",
       "      <th>us-2023-169901</th>\n",
       "      <td>1.00</td>\n",
       "      <td>0.196248</td>\n",
       "      <td>1.244164</td>\n",
       "    </tr>\n",
       "    <tr>\n",
       "      <th>us-2023-169929</th>\n",
       "      <td>1.00</td>\n",
       "      <td>0.196248</td>\n",
       "      <td>1.244164</td>\n",
       "    </tr>\n",
       "    <tr>\n",
       "      <th>us-2023-169978</th>\n",
       "      <td>1.00</td>\n",
       "      <td>0.196248</td>\n",
       "      <td>1.244164</td>\n",
       "    </tr>\n",
       "    <tr>\n",
       "      <th>us-2023-169999</th>\n",
       "      <td>1.00</td>\n",
       "      <td>0.196248</td>\n",
       "      <td>1.244164</td>\n",
       "    </tr>\n",
       "  </tbody>\n",
       "</table>\n",
       "<p>4452 rows × 3 columns</p>\n",
       "</div>"
      ],
      "text/plain": [
       "                mean      diff      rate\n",
       "order_id                                \n",
       "us-2020-100090  1.00  0.196248  1.244164\n",
       "us-2020-100293  1.00  0.196248  1.244164\n",
       "us-2020-100363  1.00  0.196248  1.244164\n",
       "us-2020-100391  1.00  0.196248  1.244164\n",
       "us-2020-100678  0.75 -0.053752  0.933123\n",
       "...              ...       ...       ...\n",
       "us-2023-169894  0.00 -0.803752  0.000000\n",
       "us-2023-169901  1.00  0.196248  1.244164\n",
       "us-2023-169929  1.00  0.196248  1.244164\n",
       "us-2023-169978  1.00  0.196248  1.244164\n",
       "us-2023-169999  1.00  0.196248  1.244164\n",
       "\n",
       "[4452 rows x 3 columns]"
      ]
     },
     "metadata": {},
     "output_type": "display_data"
    },
    {
     "data": {
      "application/vnd.microsoft.datawrangler.viewer.v0+json": {
       "columns": [
        {
         "name": "customer",
         "rawType": "object",
         "type": "string"
        },
        {
         "name": "mean",
         "rawType": "float64",
         "type": "float"
        },
        {
         "name": "diff",
         "rawType": "float64",
         "type": "float"
        },
        {
         "name": "rate",
         "rawType": "float64",
         "type": "float"
        }
       ],
       "conversionMethod": "pd.DataFrame",
       "ref": "9f1b24c2-0d20-4fd3-9d53-a1b26f3d2d60",
       "rows": [
        [
         "aaron_bergman",
         "0.8",
         "-0.0037523452157598447",
         "0.9953314659197012"
        ],
        [
         "aaron_hawkins",
         "1.0",
         "0.1962476547842401",
         "1.2441643323996265"
        ],
        [
         "aaron_smayling",
         "0.42857142857142855",
         "-0.37518091664433134",
         "0.5332132853141256"
        ],
        [
         "adam_bellavance",
         "0.9411764705882353",
         "0.1374241253724754",
         "1.1709781951996485"
        ],
        [
         "adam_hart",
         "0.6666666666666666",
         "-0.13708567854909326",
         "0.8294428882664175"
        ],
        [
         "adam_shillingsburg",
         "0.7368421052631579",
         "-0.06691023995260204",
         "0.9167526659786721"
        ],
        [
         "adrian_barton",
         "0.6",
         "-0.2037523452157599",
         "0.7464985994397758"
        ],
        [
         "adrian_hane",
         "0.5",
         "-0.3037523452157599",
         "0.6220821661998133"
        ],
        [
         "adrian_shami",
         "1.0",
         "0.1962476547842401",
         "1.2441643323996265"
        ],
        [
         "aimee_bixby",
         "0.9",
         "0.09624765478424013",
         "1.1197478991596639"
        ],
        [
         "alan_barnes",
         "0.8",
         "-0.0037523452157598447",
         "0.9953314659197012"
        ],
        [
         "alan_dominguez",
         "0.8571428571428571",
         "0.053390511927097206",
         "1.0664265706282512"
        ],
        [
         "alan_haines",
         "0.6",
         "-0.2037523452157599",
         "0.7464985994397758"
        ],
        [
         "alan_hwang",
         "1.0",
         "0.1962476547842401",
         "1.2441643323996265"
        ],
        [
         "alan_schoenberger",
         "0.9166666666666666",
         "0.11291432145090674",
         "1.1404839713663242"
        ],
        [
         "alan_shonely",
         "0.7",
         "-0.10375234521575993",
         "0.8709150326797385"
        ],
        [
         "alejandro_ballentine",
         "0.9166666666666666",
         "0.11291432145090674",
         "1.1404839713663242"
        ],
        [
         "alejandro_grove",
         "1.0",
         "0.1962476547842401",
         "1.2441643323996265"
        ],
        [
         "alejandro_savely",
         "0.75",
         "-0.05375234521575989",
         "0.9331232492997198"
        ],
        [
         "aleksandra_gannaway",
         "1.0",
         "0.1962476547842401",
         "1.2441643323996265"
        ],
        [
         "alex_avila",
         "0.9",
         "0.09624765478424013",
         "1.1197478991596639"
        ],
        [
         "alex_grayson",
         "0.8",
         "-0.0037523452157598447",
         "0.9953314659197012"
        ],
        [
         "alex_russell",
         "0.4",
         "-0.40375234521575987",
         "0.4976657329598506"
        ],
        [
         "alice_mccarthy",
         "0.8571428571428571",
         "0.053390511927097206",
         "1.0664265706282512"
        ],
        [
         "allen_armold",
         "1.0",
         "0.1962476547842401",
         "1.2441643323996265"
        ],
        [
         "allen_goldenen",
         "0.8571428571428571",
         "0.053390511927097206",
         "1.0664265706282512"
        ],
        [
         "allen_rosenblatt",
         "0.8571428571428571",
         "0.053390511927097206",
         "1.0664265706282512"
        ],
        [
         "alyssa_crouse",
         "0.5",
         "-0.3037523452157599",
         "0.6220821661998133"
        ],
        [
         "alyssa_tate",
         "0.75",
         "-0.05375234521575989",
         "0.9331232492997198"
        ],
        [
         "amy_cox",
         "0.7777777777777778",
         "-0.0259745674379821",
         "0.9676833696441539"
        ],
        [
         "amy_hunt",
         "0.7142857142857143",
         "-0.08946663093004559",
         "0.8886888088568761"
        ],
        [
         "andrew_allen",
         "1.0",
         "0.1962476547842401",
         "1.2441643323996265"
        ],
        [
         "andrew_gjertsen",
         "0.8571428571428571",
         "0.053390511927097206",
         "1.0664265706282512"
        ],
        [
         "andrew_roberts",
         "0.7142857142857143",
         "-0.08946663093004559",
         "0.8886888088568761"
        ],
        [
         "andy_gerbode",
         "0.7142857142857143",
         "-0.08946663093004559",
         "0.8886888088568761"
        ],
        [
         "andy_reiter",
         "1.0",
         "0.1962476547842401",
         "1.2441643323996265"
        ],
        [
         "andy_yotov",
         "1.0",
         "0.1962476547842401",
         "1.2441643323996265"
        ],
        [
         "anemone_ratner",
         "1.0",
         "0.1962476547842401",
         "1.2441643323996265"
        ],
        [
         "angele_hood",
         "1.0",
         "0.1962476547842401",
         "1.2441643323996265"
        ],
        [
         "ann_blume",
         "0.4",
         "-0.40375234521575987",
         "0.4976657329598506"
        ],
        [
         "ann_chong",
         "0.7857142857142857",
         "-0.01803805950147419",
         "0.9775576897425636"
        ],
        [
         "ann_steele",
         "0.9",
         "0.09624765478424013",
         "1.1197478991596639"
        ],
        [
         "anna_andreadi",
         "0.8333333333333334",
         "0.02958098811757348",
         "1.036803610333022"
        ],
        [
         "anna_chung",
         "0.5",
         "-0.3037523452157599",
         "0.6220821661998133"
        ],
        [
         "anna_gayman",
         "0.9090909090909091",
         "0.10533856387514917",
         "1.1310584839996605"
        ],
        [
         "anna_häberlin",
         "0.6842105263157895",
         "-0.1195418188999704",
         "0.8512703326944813"
        ],
        [
         "anne_mcfarland",
         "0.9047619047619048",
         "0.10100955954614488",
         "1.1256724912187097"
        ],
        [
         "anne_pryor",
         "0.8",
         "-0.0037523452157598447",
         "0.9953314659197012"
        ],
        [
         "annie_thurman",
         "1.0",
         "0.1962476547842401",
         "1.2441643323996265"
        ],
        [
         "annie_zypern",
         "0.9166666666666666",
         "0.11291432145090674",
         "1.1404839713663242"
        ]
       ],
       "shape": {
        "columns": 3,
        "rows": 792
       }
      },
      "text/html": [
       "<div>\n",
       "<style scoped>\n",
       "    .dataframe tbody tr th:only-of-type {\n",
       "        vertical-align: middle;\n",
       "    }\n",
       "\n",
       "    .dataframe tbody tr th {\n",
       "        vertical-align: top;\n",
       "    }\n",
       "\n",
       "    .dataframe thead th {\n",
       "        text-align: right;\n",
       "    }\n",
       "</style>\n",
       "<table border=\"1\" class=\"dataframe\">\n",
       "  <thead>\n",
       "    <tr style=\"text-align: right;\">\n",
       "      <th></th>\n",
       "      <th>mean</th>\n",
       "      <th>diff</th>\n",
       "      <th>rate</th>\n",
       "    </tr>\n",
       "    <tr>\n",
       "      <th>customer</th>\n",
       "      <th></th>\n",
       "      <th></th>\n",
       "      <th></th>\n",
       "    </tr>\n",
       "  </thead>\n",
       "  <tbody>\n",
       "    <tr>\n",
       "      <th>aaron_bergman</th>\n",
       "      <td>0.800000</td>\n",
       "      <td>-0.003752</td>\n",
       "      <td>0.995331</td>\n",
       "    </tr>\n",
       "    <tr>\n",
       "      <th>aaron_hawkins</th>\n",
       "      <td>1.000000</td>\n",
       "      <td>0.196248</td>\n",
       "      <td>1.244164</td>\n",
       "    </tr>\n",
       "    <tr>\n",
       "      <th>aaron_smayling</th>\n",
       "      <td>0.428571</td>\n",
       "      <td>-0.375181</td>\n",
       "      <td>0.533213</td>\n",
       "    </tr>\n",
       "    <tr>\n",
       "      <th>adam_bellavance</th>\n",
       "      <td>0.941176</td>\n",
       "      <td>0.137424</td>\n",
       "      <td>1.170978</td>\n",
       "    </tr>\n",
       "    <tr>\n",
       "      <th>adam_hart</th>\n",
       "      <td>0.666667</td>\n",
       "      <td>-0.137086</td>\n",
       "      <td>0.829443</td>\n",
       "    </tr>\n",
       "    <tr>\n",
       "      <th>...</th>\n",
       "      <td>...</td>\n",
       "      <td>...</td>\n",
       "      <td>...</td>\n",
       "    </tr>\n",
       "    <tr>\n",
       "      <th>xylona_preis</th>\n",
       "      <td>1.000000</td>\n",
       "      <td>0.196248</td>\n",
       "      <td>1.244164</td>\n",
       "    </tr>\n",
       "    <tr>\n",
       "      <th>yana_sorensen</th>\n",
       "      <td>0.875000</td>\n",
       "      <td>0.071248</td>\n",
       "      <td>1.088644</td>\n",
       "    </tr>\n",
       "    <tr>\n",
       "      <th>yoseph_carroll</th>\n",
       "      <td>1.000000</td>\n",
       "      <td>0.196248</td>\n",
       "      <td>1.244164</td>\n",
       "    </tr>\n",
       "    <tr>\n",
       "      <th>zuschuss_carroll</th>\n",
       "      <td>0.560000</td>\n",
       "      <td>-0.243752</td>\n",
       "      <td>0.696732</td>\n",
       "    </tr>\n",
       "    <tr>\n",
       "      <th>zuschuss_donatelli</th>\n",
       "      <td>1.000000</td>\n",
       "      <td>0.196248</td>\n",
       "      <td>1.244164</td>\n",
       "    </tr>\n",
       "  </tbody>\n",
       "</table>\n",
       "<p>792 rows × 3 columns</p>\n",
       "</div>"
      ],
      "text/plain": [
       "                        mean      diff      rate\n",
       "customer                                        \n",
       "aaron_bergman       0.800000 -0.003752  0.995331\n",
       "aaron_hawkins       1.000000  0.196248  1.244164\n",
       "aaron_smayling      0.428571 -0.375181  0.533213\n",
       "adam_bellavance     0.941176  0.137424  1.170978\n",
       "adam_hart           0.666667 -0.137086  0.829443\n",
       "...                      ...       ...       ...\n",
       "xylona_preis        1.000000  0.196248  1.244164\n",
       "yana_sorensen       0.875000  0.071248  1.088644\n",
       "yoseph_carroll      1.000000  0.196248  1.244164\n",
       "zuschuss_carroll    0.560000 -0.243752  0.696732\n",
       "zuschuss_donatelli  1.000000  0.196248  1.244164\n",
       "\n",
       "[792 rows x 3 columns]"
      ]
     },
     "metadata": {},
     "output_type": "display_data"
    },
    {
     "data": {
      "application/vnd.microsoft.datawrangler.viewer.v0+json": {
       "columns": [
        {
         "name": "manufactory",
         "rawType": "object",
         "type": "string"
        },
        {
         "name": "mean",
         "rawType": "float64",
         "type": "float"
        },
        {
         "name": "diff",
         "rawType": "float64",
         "type": "float"
        },
        {
         "name": "rate",
         "rawType": "float64",
         "type": "float"
        }
       ],
       "conversionMethod": "pd.DataFrame",
       "ref": "c35b1b3d-751a-4543-a7d8-d17ce2245502",
       "rows": [
        [
         "3-ring_staple_pack",
         "1.0",
         "0.1962476547842401",
         "1.2441643323996265"
        ],
        [
         "3d_systems",
         "0.75",
         "-0.05375234521575989",
         "0.9331232492997198"
        ],
        [
         "3m",
         "0.75",
         "-0.05375234521575989",
         "0.9331232492997198"
        ],
        [
         "acco",
         "0.672514619883041",
         "-0.13123772533271894",
         "0.8367187030757722"
        ],
        [
         "accohide",
         "0.75",
         "-0.05375234521575989",
         "0.9331232492997198"
        ],
        [
         "acme",
         "0.975",
         "0.1712476547842401",
         "1.2130602240896358"
        ],
        [
         "adams",
         "1.0",
         "0.1962476547842401",
         "1.2441643323996265"
        ],
        [
         "advantus",
         "0.9848484848484849",
         "0.18109613963272497",
         "1.225313357666299"
        ],
        [
         "akro",
         "0.625",
         "-0.1787523452157599",
         "0.7776027077497666"
        ],
        [
         "alliance",
         "0.625",
         "-0.1787523452157599",
         "0.7776027077497666"
        ],
        [
         "ampad",
         "1.0",
         "0.1962476547842401",
         "1.2441643323996265"
        ],
        [
         "angle-d",
         "0.6153846153846154",
         "-0.18836772983114447",
         "0.765639589169001"
        ],
        [
         "anker",
         "0.6521739130434783",
         "-0.15157843217228162",
         "0.8114115211301912"
        ],
        [
         "apple",
         "0.875",
         "0.07124765478424011",
         "1.088643790849673"
        ],
        [
         "array",
         "1.0",
         "0.1962476547842401",
         "1.2441643323996265"
        ],
        [
         "at&t",
         "0.918918918918919",
         "0.11516657370315908",
         "1.1432861432861432"
        ],
        [
         "ativa",
         "1.0",
         "0.1962476547842401",
         "1.2441643323996265"
        ],
        [
         "atlantic",
         "0.5",
         "-0.3037523452157599",
         "0.6220821661998133"
        ],
        [
         "avanti",
         "0.9",
         "0.09624765478424013",
         "1.1197478991596639"
        ],
        [
         "avaya",
         "0.7777777777777778",
         "-0.0259745674379821",
         "0.9676833696441539"
        ],
        [
         "avery",
         "0.8187772925764192",
         "0.015024947360659291",
         "1.0186935036023141"
        ],
        [
         "balt",
         "0.25",
         "-0.5537523452157599",
         "0.31104108309990663"
        ],
        [
         "barricks",
         "0.2",
         "-0.6037523452157598",
         "0.2488328664799253"
        ],
        [
         "belkin",
         "0.7830188679245284",
         "-0.02073347729123154",
         "0.9742041470676321"
        ],
        [
         "berol",
         "1.0",
         "0.1962476547842401",
         "1.2441643323996265"
        ],
        [
         "bestar",
         "0.6666666666666666",
         "-0.13708567854909326",
         "0.8294428882664175"
        ],
        [
         "bevis",
         "0.41304347826086957",
         "-0.3907088669548903",
         "0.5138939633824544"
        ],
        [
         "bic",
         "1.0",
         "0.1962476547842401",
         "1.2441643323996265"
        ],
        [
         "binney_&_smith",
         "1.0",
         "0.1962476547842401",
         "1.2441643323996265"
        ],
        [
         "bionaire",
         "0.8333333333333334",
         "0.02958098811757348",
         "1.036803610333022"
        ],
        [
         "boston",
         "1.0",
         "0.1962476547842401",
         "1.2441643323996265"
        ],
        [
         "bretford",
         "0.4444444444444444",
         "-0.35930790077131547",
         "0.552961925510945"
        ],
        [
         "brother",
         "0.8571428571428571",
         "0.053390511927097206",
         "1.0664265706282512"
        ],
        [
         "bulldog",
         "1.0",
         "0.1962476547842401",
         "1.2441643323996265"
        ],
        [
         "bush",
         "0.5576923076923077",
         "-0.24606003752345218",
         "0.6938608776844071"
        ],
        [
         "c-line",
         "0.8947368421052632",
         "0.09098449688950327",
         "1.1131996658312446"
        ],
        [
         "canon",
         "1.0",
         "0.1962476547842401",
         "1.2441643323996265"
        ],
        [
         "cardinal",
         "0.7567567567567568",
         "-0.04699558845900309",
         "0.9415297650591768"
        ],
        [
         "carina",
         "0.6071428571428571",
         "-0.1966094880729028",
         "0.7553854875283446"
        ],
        [
         "chromcraft",
         "0.42857142857142855",
         "-0.37518091664433134",
         "0.5332132853141256"
        ],
        [
         "cisco",
         "0.7446808510638298",
         "-0.05907149415193014",
         "0.9265053539146154"
        ],
        [
         "clearone",
         "0.8333333333333334",
         "0.02958098811757348",
         "1.036803610333022"
        ],
        [
         "clearsounds",
         "0.625",
         "-0.1787523452157599",
         "0.7776027077497666"
        ],
        [
         "crayola",
         "1.0",
         "0.1962476547842401",
         "1.2441643323996265"
        ],
        [
         "cubify",
         "0.5",
         "-0.3037523452157599",
         "0.6220821661998133"
        ],
        [
         "dana",
         "0.7142857142857143",
         "-0.08946663093004559",
         "0.8886888088568761"
        ],
        [
         "dax",
         "0.810126582278481",
         "0.006374237062721111",
         "1.0079305983996973"
        ],
        [
         "decoflex",
         "1.0",
         "0.1962476547842401",
         "1.2441643323996265"
        ],
        [
         "deflect-o",
         "0.7142857142857143",
         "-0.08946663093004559",
         "0.8886888088568761"
        ],
        [
         "dixon",
         "1.0",
         "0.1962476547842401",
         "1.2441643323996265"
        ]
       ],
       "shape": {
        "columns": 3,
        "rows": 182
       }
      },
      "text/html": [
       "<div>\n",
       "<style scoped>\n",
       "    .dataframe tbody tr th:only-of-type {\n",
       "        vertical-align: middle;\n",
       "    }\n",
       "\n",
       "    .dataframe tbody tr th {\n",
       "        vertical-align: top;\n",
       "    }\n",
       "\n",
       "    .dataframe thead th {\n",
       "        text-align: right;\n",
       "    }\n",
       "</style>\n",
       "<table border=\"1\" class=\"dataframe\">\n",
       "  <thead>\n",
       "    <tr style=\"text-align: right;\">\n",
       "      <th></th>\n",
       "      <th>mean</th>\n",
       "      <th>diff</th>\n",
       "      <th>rate</th>\n",
       "    </tr>\n",
       "    <tr>\n",
       "      <th>manufactory</th>\n",
       "      <th></th>\n",
       "      <th></th>\n",
       "      <th></th>\n",
       "    </tr>\n",
       "  </thead>\n",
       "  <tbody>\n",
       "    <tr>\n",
       "      <th>3-ring_staple_pack</th>\n",
       "      <td>1.000000</td>\n",
       "      <td>0.196248</td>\n",
       "      <td>1.244164</td>\n",
       "    </tr>\n",
       "    <tr>\n",
       "      <th>3d_systems</th>\n",
       "      <td>0.750000</td>\n",
       "      <td>-0.053752</td>\n",
       "      <td>0.933123</td>\n",
       "    </tr>\n",
       "    <tr>\n",
       "      <th>3m</th>\n",
       "      <td>0.750000</td>\n",
       "      <td>-0.053752</td>\n",
       "      <td>0.933123</td>\n",
       "    </tr>\n",
       "    <tr>\n",
       "      <th>acco</th>\n",
       "      <td>0.672515</td>\n",
       "      <td>-0.131238</td>\n",
       "      <td>0.836719</td>\n",
       "    </tr>\n",
       "    <tr>\n",
       "      <th>accohide</th>\n",
       "      <td>0.750000</td>\n",
       "      <td>-0.053752</td>\n",
       "      <td>0.933123</td>\n",
       "    </tr>\n",
       "    <tr>\n",
       "      <th>...</th>\n",
       "      <td>...</td>\n",
       "      <td>...</td>\n",
       "      <td>...</td>\n",
       "    </tr>\n",
       "    <tr>\n",
       "      <th>wirebound</th>\n",
       "      <td>1.000000</td>\n",
       "      <td>0.196248</td>\n",
       "      <td>1.244164</td>\n",
       "    </tr>\n",
       "    <tr>\n",
       "      <th>xerox</th>\n",
       "      <td>1.000000</td>\n",
       "      <td>0.196248</td>\n",
       "      <td>1.244164</td>\n",
       "    </tr>\n",
       "    <tr>\n",
       "      <th>xerox_1971</th>\n",
       "      <td>1.000000</td>\n",
       "      <td>0.196248</td>\n",
       "      <td>1.244164</td>\n",
       "    </tr>\n",
       "    <tr>\n",
       "      <th>xtralife</th>\n",
       "      <td>0.538462</td>\n",
       "      <td>-0.265291</td>\n",
       "      <td>0.669935</td>\n",
       "    </tr>\n",
       "    <tr>\n",
       "      <th>zebra</th>\n",
       "      <td>0.888889</td>\n",
       "      <td>0.085137</td>\n",
       "      <td>1.105924</td>\n",
       "    </tr>\n",
       "  </tbody>\n",
       "</table>\n",
       "<p>182 rows × 3 columns</p>\n",
       "</div>"
      ],
      "text/plain": [
       "                        mean      diff      rate\n",
       "manufactory                                     \n",
       "3-ring_staple_pack  1.000000  0.196248  1.244164\n",
       "3d_systems          0.750000 -0.053752  0.933123\n",
       "3m                  0.750000 -0.053752  0.933123\n",
       "acco                0.672515 -0.131238  0.836719\n",
       "accohide            0.750000 -0.053752  0.933123\n",
       "...                      ...       ...       ...\n",
       "wirebound           1.000000  0.196248  1.244164\n",
       "xerox               1.000000  0.196248  1.244164\n",
       "xerox_1971          1.000000  0.196248  1.244164\n",
       "xtralife            0.538462 -0.265291  0.669935\n",
       "zebra               0.888889  0.085137  1.105924\n",
       "\n",
       "[182 rows x 3 columns]"
      ]
     },
     "metadata": {},
     "output_type": "display_data"
    },
    {
     "data": {
      "application/vnd.microsoft.datawrangler.viewer.v0+json": {
       "columns": [
        {
         "name": "product_name_encoded",
         "rawType": "int64",
         "type": "integer"
        },
        {
         "name": "mean",
         "rawType": "float64",
         "type": "float"
        },
        {
         "name": "diff",
         "rawType": "float64",
         "type": "float"
        },
        {
         "name": "rate",
         "rawType": "float64",
         "type": "float"
        }
       ],
       "conversionMethod": "pd.DataFrame",
       "ref": "7c0f93ce-a17f-4d04-92bf-a9505ab4b654",
       "rows": [
        [
         "0",
         "1.0",
         "0.1962476547842401",
         "1.2441643323996265"
        ],
        [
         "1",
         "1.0",
         "0.1962476547842401",
         "1.2441643323996265"
        ],
        [
         "2",
         "1.0",
         "0.1962476547842401",
         "1.2441643323996265"
        ],
        [
         "3",
         "1.0",
         "0.1962476547842401",
         "1.2441643323996265"
        ],
        [
         "4",
         "1.0",
         "0.1962476547842401",
         "1.2441643323996265"
        ],
        [
         "5",
         "1.0",
         "0.1962476547842401",
         "1.2441643323996265"
        ],
        [
         "6",
         "1.0",
         "0.1962476547842401",
         "1.2441643323996265"
        ],
        [
         "7",
         "1.0",
         "0.1962476547842401",
         "1.2441643323996265"
        ],
        [
         "8",
         "1.0",
         "0.1962476547842401",
         "1.2441643323996265"
        ],
        [
         "9",
         "1.0",
         "0.1962476547842401",
         "1.2441643323996265"
        ],
        [
         "10",
         "0.5714285714285714",
         "-0.2323237737871885",
         "0.7109510470855008"
        ],
        [
         "11",
         "1.0",
         "0.1962476547842401",
         "1.2441643323996265"
        ],
        [
         "12",
         "1.0",
         "0.1962476547842401",
         "1.2441643323996265"
        ],
        [
         "13",
         "1.0",
         "0.1962476547842401",
         "1.2441643323996265"
        ],
        [
         "14",
         "1.0",
         "0.1962476547842401",
         "1.2441643323996265"
        ],
        [
         "15",
         "1.0",
         "0.1962476547842401",
         "1.2441643323996265"
        ],
        [
         "16",
         "1.0",
         "0.1962476547842401",
         "1.2441643323996265"
        ],
        [
         "17",
         "0.4",
         "-0.40375234521575987",
         "0.4976657329598506"
        ],
        [
         "18",
         "0.5",
         "-0.3037523452157599",
         "0.6220821661998133"
        ],
        [
         "19",
         "1.0",
         "0.1962476547842401",
         "1.2441643323996265"
        ],
        [
         "20",
         "0.5",
         "-0.3037523452157599",
         "0.6220821661998133"
        ],
        [
         "21",
         "0.8333333333333334",
         "0.02958098811757348",
         "1.036803610333022"
        ],
        [
         "22",
         "1.0",
         "0.1962476547842401",
         "1.2441643323996265"
        ],
        [
         "23",
         "0.6",
         "-0.2037523452157599",
         "0.7464985994397758"
        ],
        [
         "24",
         "0.5",
         "-0.3037523452157599",
         "0.6220821661998133"
        ],
        [
         "25",
         "1.0",
         "0.1962476547842401",
         "1.2441643323996265"
        ],
        [
         "26",
         "0.5",
         "-0.3037523452157599",
         "0.6220821661998133"
        ],
        [
         "27",
         "1.0",
         "0.1962476547842401",
         "1.2441643323996265"
        ],
        [
         "28",
         "1.0",
         "0.1962476547842401",
         "1.2441643323996265"
        ],
        [
         "29",
         "1.0",
         "0.1962476547842401",
         "1.2441643323996265"
        ],
        [
         "30",
         "0.75",
         "-0.05375234521575989",
         "0.9331232492997198"
        ],
        [
         "31",
         "1.0",
         "0.1962476547842401",
         "1.2441643323996265"
        ],
        [
         "32",
         "0.8333333333333334",
         "0.02958098811757348",
         "1.036803610333022"
        ],
        [
         "33",
         "0.8333333333333334",
         "0.02958098811757348",
         "1.036803610333022"
        ],
        [
         "34",
         "0.7777777777777778",
         "-0.0259745674379821",
         "0.9676833696441539"
        ],
        [
         "35",
         "1.0",
         "0.1962476547842401",
         "1.2441643323996265"
        ],
        [
         "36",
         "0.5",
         "-0.3037523452157599",
         "0.6220821661998133"
        ],
        [
         "37",
         "0.875",
         "0.07124765478424011",
         "1.088643790849673"
        ],
        [
         "38",
         "0.75",
         "-0.05375234521575989",
         "0.9331232492997198"
        ],
        [
         "39",
         "0.6666666666666666",
         "-0.13708567854909326",
         "0.8294428882664175"
        ],
        [
         "40",
         "1.0",
         "0.1962476547842401",
         "1.2441643323996265"
        ],
        [
         "41",
         "1.0",
         "0.1962476547842401",
         "1.2441643323996265"
        ],
        [
         "42",
         "0.25",
         "-0.5537523452157599",
         "0.31104108309990663"
        ],
        [
         "43",
         "0.7777777777777778",
         "-0.0259745674379821",
         "0.9676833696441539"
        ],
        [
         "44",
         "0.25",
         "-0.5537523452157599",
         "0.31104108309990663"
        ],
        [
         "45",
         "0.5",
         "-0.3037523452157599",
         "0.6220821661998133"
        ],
        [
         "46",
         "0.7142857142857143",
         "-0.08946663093004559",
         "0.8886888088568761"
        ],
        [
         "47",
         "0.6",
         "-0.2037523452157599",
         "0.7464985994397758"
        ],
        [
         "48",
         "1.0",
         "0.1962476547842401",
         "1.2441643323996265"
        ],
        [
         "49",
         "0.8",
         "-0.0037523452157598447",
         "0.9953314659197012"
        ]
       ],
       "shape": {
        "columns": 3,
        "rows": 1822
       }
      },
      "text/html": [
       "<div>\n",
       "<style scoped>\n",
       "    .dataframe tbody tr th:only-of-type {\n",
       "        vertical-align: middle;\n",
       "    }\n",
       "\n",
       "    .dataframe tbody tr th {\n",
       "        vertical-align: top;\n",
       "    }\n",
       "\n",
       "    .dataframe thead th {\n",
       "        text-align: right;\n",
       "    }\n",
       "</style>\n",
       "<table border=\"1\" class=\"dataframe\">\n",
       "  <thead>\n",
       "    <tr style=\"text-align: right;\">\n",
       "      <th></th>\n",
       "      <th>mean</th>\n",
       "      <th>diff</th>\n",
       "      <th>rate</th>\n",
       "    </tr>\n",
       "    <tr>\n",
       "      <th>product_name_encoded</th>\n",
       "      <th></th>\n",
       "      <th></th>\n",
       "      <th></th>\n",
       "    </tr>\n",
       "  </thead>\n",
       "  <tbody>\n",
       "    <tr>\n",
       "      <th>0</th>\n",
       "      <td>1.000000</td>\n",
       "      <td>0.196248</td>\n",
       "      <td>1.244164</td>\n",
       "    </tr>\n",
       "    <tr>\n",
       "      <th>1</th>\n",
       "      <td>1.000000</td>\n",
       "      <td>0.196248</td>\n",
       "      <td>1.244164</td>\n",
       "    </tr>\n",
       "    <tr>\n",
       "      <th>2</th>\n",
       "      <td>1.000000</td>\n",
       "      <td>0.196248</td>\n",
       "      <td>1.244164</td>\n",
       "    </tr>\n",
       "    <tr>\n",
       "      <th>3</th>\n",
       "      <td>1.000000</td>\n",
       "      <td>0.196248</td>\n",
       "      <td>1.244164</td>\n",
       "    </tr>\n",
       "    <tr>\n",
       "      <th>4</th>\n",
       "      <td>1.000000</td>\n",
       "      <td>0.196248</td>\n",
       "      <td>1.244164</td>\n",
       "    </tr>\n",
       "    <tr>\n",
       "      <th>...</th>\n",
       "      <td>...</td>\n",
       "      <td>...</td>\n",
       "      <td>...</td>\n",
       "    </tr>\n",
       "    <tr>\n",
       "      <th>1843</th>\n",
       "      <td>0.250000</td>\n",
       "      <td>-0.553752</td>\n",
       "      <td>0.311041</td>\n",
       "    </tr>\n",
       "    <tr>\n",
       "      <th>1845</th>\n",
       "      <td>0.666667</td>\n",
       "      <td>-0.137086</td>\n",
       "      <td>0.829443</td>\n",
       "    </tr>\n",
       "    <tr>\n",
       "      <th>1846</th>\n",
       "      <td>1.000000</td>\n",
       "      <td>0.196248</td>\n",
       "      <td>1.244164</td>\n",
       "    </tr>\n",
       "    <tr>\n",
       "      <th>1847</th>\n",
       "      <td>1.000000</td>\n",
       "      <td>0.196248</td>\n",
       "      <td>1.244164</td>\n",
       "    </tr>\n",
       "    <tr>\n",
       "      <th>1848</th>\n",
       "      <td>0.500000</td>\n",
       "      <td>-0.303752</td>\n",
       "      <td>0.622082</td>\n",
       "    </tr>\n",
       "  </tbody>\n",
       "</table>\n",
       "<p>1822 rows × 3 columns</p>\n",
       "</div>"
      ],
      "text/plain": [
       "                          mean      diff      rate\n",
       "product_name_encoded                              \n",
       "0                     1.000000  0.196248  1.244164\n",
       "1                     1.000000  0.196248  1.244164\n",
       "2                     1.000000  0.196248  1.244164\n",
       "3                     1.000000  0.196248  1.244164\n",
       "4                     1.000000  0.196248  1.244164\n",
       "...                        ...       ...       ...\n",
       "1843                  0.250000 -0.553752  0.311041\n",
       "1845                  0.666667 -0.137086  0.829443\n",
       "1846                  1.000000  0.196248  1.244164\n",
       "1847                  1.000000  0.196248  1.244164\n",
       "1848                  0.500000 -0.303752  0.622082\n",
       "\n",
       "[1822 rows x 3 columns]"
      ]
     },
     "metadata": {},
     "output_type": "display_data"
    },
    {
     "data": {
      "application/vnd.microsoft.datawrangler.viewer.v0+json": {
       "columns": [
        {
         "name": "segment",
         "rawType": "object",
         "type": "string"
        },
        {
         "name": "mean",
         "rawType": "float64",
         "type": "float"
        },
        {
         "name": "diff",
         "rawType": "float64",
         "type": "float"
        },
        {
         "name": "rate",
         "rawType": "float64",
         "type": "float"
        }
       ],
       "conversionMethod": "pd.DataFrame",
       "ref": "6e1e7e59-01de-4cd9-b2e7-31e7408a1464",
       "rows": [
        [
         "consumer",
         "0.7973102785782901",
         "-0.006442066637469823",
         "0.9919850104627185"
        ],
        [
         "corporate",
         "0.8083609271523179",
         "0.004608581936557998",
         "1.0057338332684067"
        ],
        [
         "home_office",
         "0.8148409893992933",
         "0.011088644183533392",
         "1.013796095587823"
        ]
       ],
       "shape": {
        "columns": 3,
        "rows": 3
       }
      },
      "text/html": [
       "<div>\n",
       "<style scoped>\n",
       "    .dataframe tbody tr th:only-of-type {\n",
       "        vertical-align: middle;\n",
       "    }\n",
       "\n",
       "    .dataframe tbody tr th {\n",
       "        vertical-align: top;\n",
       "    }\n",
       "\n",
       "    .dataframe thead th {\n",
       "        text-align: right;\n",
       "    }\n",
       "</style>\n",
       "<table border=\"1\" class=\"dataframe\">\n",
       "  <thead>\n",
       "    <tr style=\"text-align: right;\">\n",
       "      <th></th>\n",
       "      <th>mean</th>\n",
       "      <th>diff</th>\n",
       "      <th>rate</th>\n",
       "    </tr>\n",
       "    <tr>\n",
       "      <th>segment</th>\n",
       "      <th></th>\n",
       "      <th></th>\n",
       "      <th></th>\n",
       "    </tr>\n",
       "  </thead>\n",
       "  <tbody>\n",
       "    <tr>\n",
       "      <th>consumer</th>\n",
       "      <td>0.797310</td>\n",
       "      <td>-0.006442</td>\n",
       "      <td>0.991985</td>\n",
       "    </tr>\n",
       "    <tr>\n",
       "      <th>corporate</th>\n",
       "      <td>0.808361</td>\n",
       "      <td>0.004609</td>\n",
       "      <td>1.005734</td>\n",
       "    </tr>\n",
       "    <tr>\n",
       "      <th>home_office</th>\n",
       "      <td>0.814841</td>\n",
       "      <td>0.011089</td>\n",
       "      <td>1.013796</td>\n",
       "    </tr>\n",
       "  </tbody>\n",
       "</table>\n",
       "</div>"
      ],
      "text/plain": [
       "                 mean      diff      rate\n",
       "segment                                  \n",
       "consumer     0.797310 -0.006442  0.991985\n",
       "corporate    0.808361  0.004609  1.005734\n",
       "home_office  0.814841  0.011089  1.013796"
      ]
     },
     "metadata": {},
     "output_type": "display_data"
    },
    {
     "data": {
      "application/vnd.microsoft.datawrangler.viewer.v0+json": {
       "columns": [
        {
         "name": "category",
         "rawType": "object",
         "type": "string"
        },
        {
         "name": "mean",
         "rawType": "float64",
         "type": "float"
        },
        {
         "name": "diff",
         "rawType": "float64",
         "type": "float"
        },
        {
         "name": "rate",
         "rawType": "float64",
         "type": "float"
        }
       ],
       "conversionMethod": "pd.DataFrame",
       "ref": "690aff59-d423-460b-8531-510e391485d1",
       "rows": [
        [
         "furniture",
         "0.6461359674607786",
         "-0.15761637775498127",
         "0.8038993245952264"
        ],
        [
         "office_supplies",
         "0.8473060120657374",
         "0.043553666849977524",
         "1.054187918839958"
        ],
        [
         "technology",
         "0.8459441036128152",
         "0.04219175839705536",
         "1.0524934809188387"
        ]
       ],
       "shape": {
        "columns": 3,
        "rows": 3
       }
      },
      "text/html": [
       "<div>\n",
       "<style scoped>\n",
       "    .dataframe tbody tr th:only-of-type {\n",
       "        vertical-align: middle;\n",
       "    }\n",
       "\n",
       "    .dataframe tbody tr th {\n",
       "        vertical-align: top;\n",
       "    }\n",
       "\n",
       "    .dataframe thead th {\n",
       "        text-align: right;\n",
       "    }\n",
       "</style>\n",
       "<table border=\"1\" class=\"dataframe\">\n",
       "  <thead>\n",
       "    <tr style=\"text-align: right;\">\n",
       "      <th></th>\n",
       "      <th>mean</th>\n",
       "      <th>diff</th>\n",
       "      <th>rate</th>\n",
       "    </tr>\n",
       "    <tr>\n",
       "      <th>category</th>\n",
       "      <th></th>\n",
       "      <th></th>\n",
       "      <th></th>\n",
       "    </tr>\n",
       "  </thead>\n",
       "  <tbody>\n",
       "    <tr>\n",
       "      <th>furniture</th>\n",
       "      <td>0.646136</td>\n",
       "      <td>-0.157616</td>\n",
       "      <td>0.803899</td>\n",
       "    </tr>\n",
       "    <tr>\n",
       "      <th>office_supplies</th>\n",
       "      <td>0.847306</td>\n",
       "      <td>0.043554</td>\n",
       "      <td>1.054188</td>\n",
       "    </tr>\n",
       "    <tr>\n",
       "      <th>technology</th>\n",
       "      <td>0.845944</td>\n",
       "      <td>0.042192</td>\n",
       "      <td>1.052493</td>\n",
       "    </tr>\n",
       "  </tbody>\n",
       "</table>\n",
       "</div>"
      ],
      "text/plain": [
       "                     mean      diff      rate\n",
       "category                                     \n",
       "furniture        0.646136 -0.157616  0.803899\n",
       "office_supplies  0.847306  0.043554  1.054188\n",
       "technology       0.845944  0.042192  1.052493"
      ]
     },
     "metadata": {},
     "output_type": "display_data"
    },
    {
     "data": {
      "application/vnd.microsoft.datawrangler.viewer.v0+json": {
       "columns": [
        {
         "name": "subcategory",
         "rawType": "object",
         "type": "string"
        },
        {
         "name": "mean",
         "rawType": "float64",
         "type": "float"
        },
        {
         "name": "diff",
         "rawType": "float64",
         "type": "float"
        },
        {
         "name": "rate",
         "rawType": "float64",
         "type": "float"
        }
       ],
       "conversionMethod": "pd.DataFrame",
       "ref": "a9ded85c-79df-4612-8f8f-3850dcad66a8",
       "rows": [
        [
         "accessories",
         "0.8712871287128713",
         "0.0675347834971114",
         "1.084024368823437"
        ],
        [
         "appliances",
         "0.843501326259947",
         "0.039748981044187115",
         "1.0494542644644065"
        ],
        [
         "art",
         "1.0",
         "0.1962476547842401",
         "1.2441643323996265"
        ],
        [
         "binders",
         "0.5869565217391305",
         "-0.2167958234766294",
         "0.7302703690171721"
        ],
        [
         "bookcases",
         "0.526595744680851",
         "-0.27715660053490887",
         "0.6551716431253352"
        ],
        [
         "chairs",
         "0.5906313645621182",
         "-0.2131209806536417",
         "0.7348424773847082"
        ],
        [
         "copiers",
         "1.0",
         "0.1962476547842401",
         "1.2441643323996265"
        ],
        [
         "envelopes",
         "1.0",
         "0.1962476547842401",
         "1.2441643323996265"
        ],
        [
         "fasteners",
         "0.9428571428571428",
         "0.13910479764138295",
         "1.1730692276910764"
        ],
        [
         "furnishings",
         "0.8101910828025478",
         "0.006438737586787924",
         "1.0080108476511624"
        ],
        [
         "labels",
         "1.0",
         "0.1962476547842401",
         "1.2441643323996265"
        ],
        [
         "machines",
         "0.6111111111111112",
         "-0.19264123410464873",
         "0.7603226475775495"
        ],
        [
         "paper",
         "1.0",
         "0.1962476547842401",
         "1.2441643323996265"
        ],
        [
         "phones",
         "0.8428372739916551",
         "0.0390849287758952",
         "1.0486280743173486"
        ],
        [
         "storage",
         "0.7812971342383107",
         "-0.02245521097744918",
         "0.9720620274253492"
        ],
        [
         "supplies",
         "0.8243243243243243",
         "0.020571979108564453",
         "1.0255949226537462"
        ],
        [
         "tables",
         "0.33852140077821014",
         "-0.46523094443754975",
         "0.4211762526022082"
        ]
       ],
       "shape": {
        "columns": 3,
        "rows": 17
       }
      },
      "text/html": [
       "<div>\n",
       "<style scoped>\n",
       "    .dataframe tbody tr th:only-of-type {\n",
       "        vertical-align: middle;\n",
       "    }\n",
       "\n",
       "    .dataframe tbody tr th {\n",
       "        vertical-align: top;\n",
       "    }\n",
       "\n",
       "    .dataframe thead th {\n",
       "        text-align: right;\n",
       "    }\n",
       "</style>\n",
       "<table border=\"1\" class=\"dataframe\">\n",
       "  <thead>\n",
       "    <tr style=\"text-align: right;\">\n",
       "      <th></th>\n",
       "      <th>mean</th>\n",
       "      <th>diff</th>\n",
       "      <th>rate</th>\n",
       "    </tr>\n",
       "    <tr>\n",
       "      <th>subcategory</th>\n",
       "      <th></th>\n",
       "      <th></th>\n",
       "      <th></th>\n",
       "    </tr>\n",
       "  </thead>\n",
       "  <tbody>\n",
       "    <tr>\n",
       "      <th>accessories</th>\n",
       "      <td>0.871287</td>\n",
       "      <td>0.067535</td>\n",
       "      <td>1.084024</td>\n",
       "    </tr>\n",
       "    <tr>\n",
       "      <th>appliances</th>\n",
       "      <td>0.843501</td>\n",
       "      <td>0.039749</td>\n",
       "      <td>1.049454</td>\n",
       "    </tr>\n",
       "    <tr>\n",
       "      <th>art</th>\n",
       "      <td>1.000000</td>\n",
       "      <td>0.196248</td>\n",
       "      <td>1.244164</td>\n",
       "    </tr>\n",
       "    <tr>\n",
       "      <th>binders</th>\n",
       "      <td>0.586957</td>\n",
       "      <td>-0.216796</td>\n",
       "      <td>0.730270</td>\n",
       "    </tr>\n",
       "    <tr>\n",
       "      <th>bookcases</th>\n",
       "      <td>0.526596</td>\n",
       "      <td>-0.277157</td>\n",
       "      <td>0.655172</td>\n",
       "    </tr>\n",
       "    <tr>\n",
       "      <th>chairs</th>\n",
       "      <td>0.590631</td>\n",
       "      <td>-0.213121</td>\n",
       "      <td>0.734842</td>\n",
       "    </tr>\n",
       "    <tr>\n",
       "      <th>copiers</th>\n",
       "      <td>1.000000</td>\n",
       "      <td>0.196248</td>\n",
       "      <td>1.244164</td>\n",
       "    </tr>\n",
       "    <tr>\n",
       "      <th>envelopes</th>\n",
       "      <td>1.000000</td>\n",
       "      <td>0.196248</td>\n",
       "      <td>1.244164</td>\n",
       "    </tr>\n",
       "    <tr>\n",
       "      <th>fasteners</th>\n",
       "      <td>0.942857</td>\n",
       "      <td>0.139105</td>\n",
       "      <td>1.173069</td>\n",
       "    </tr>\n",
       "    <tr>\n",
       "      <th>furnishings</th>\n",
       "      <td>0.810191</td>\n",
       "      <td>0.006439</td>\n",
       "      <td>1.008011</td>\n",
       "    </tr>\n",
       "    <tr>\n",
       "      <th>labels</th>\n",
       "      <td>1.000000</td>\n",
       "      <td>0.196248</td>\n",
       "      <td>1.244164</td>\n",
       "    </tr>\n",
       "    <tr>\n",
       "      <th>machines</th>\n",
       "      <td>0.611111</td>\n",
       "      <td>-0.192641</td>\n",
       "      <td>0.760323</td>\n",
       "    </tr>\n",
       "    <tr>\n",
       "      <th>paper</th>\n",
       "      <td>1.000000</td>\n",
       "      <td>0.196248</td>\n",
       "      <td>1.244164</td>\n",
       "    </tr>\n",
       "    <tr>\n",
       "      <th>phones</th>\n",
       "      <td>0.842837</td>\n",
       "      <td>0.039085</td>\n",
       "      <td>1.048628</td>\n",
       "    </tr>\n",
       "    <tr>\n",
       "      <th>storage</th>\n",
       "      <td>0.781297</td>\n",
       "      <td>-0.022455</td>\n",
       "      <td>0.972062</td>\n",
       "    </tr>\n",
       "    <tr>\n",
       "      <th>supplies</th>\n",
       "      <td>0.824324</td>\n",
       "      <td>0.020572</td>\n",
       "      <td>1.025595</td>\n",
       "    </tr>\n",
       "    <tr>\n",
       "      <th>tables</th>\n",
       "      <td>0.338521</td>\n",
       "      <td>-0.465231</td>\n",
       "      <td>0.421176</td>\n",
       "    </tr>\n",
       "  </tbody>\n",
       "</table>\n",
       "</div>"
      ],
      "text/plain": [
       "                 mean      diff      rate\n",
       "subcategory                              \n",
       "accessories  0.871287  0.067535  1.084024\n",
       "appliances   0.843501  0.039749  1.049454\n",
       "art          1.000000  0.196248  1.244164\n",
       "binders      0.586957 -0.216796  0.730270\n",
       "bookcases    0.526596 -0.277157  0.655172\n",
       "chairs       0.590631 -0.213121  0.734842\n",
       "copiers      1.000000  0.196248  1.244164\n",
       "envelopes    1.000000  0.196248  1.244164\n",
       "fasteners    0.942857  0.139105  1.173069\n",
       "furnishings  0.810191  0.006439  1.008011\n",
       "labels       1.000000  0.196248  1.244164\n",
       "machines     0.611111 -0.192641  0.760323\n",
       "paper        1.000000  0.196248  1.244164\n",
       "phones       0.842837  0.039085  1.048628\n",
       "storage      0.781297 -0.022455  0.972062\n",
       "supplies     0.824324  0.020572  1.025595\n",
       "tables       0.338521 -0.465231  0.421176"
      ]
     },
     "metadata": {},
     "output_type": "display_data"
    },
    {
     "data": {
      "application/vnd.microsoft.datawrangler.viewer.v0+json": {
       "columns": [
        {
         "name": "region",
         "rawType": "object",
         "type": "string"
        },
        {
         "name": "mean",
         "rawType": "float64",
         "type": "float"
        },
        {
         "name": "diff",
         "rawType": "float64",
         "type": "float"
        },
        {
         "name": "rate",
         "rawType": "float64",
         "type": "float"
        }
       ],
       "conversionMethod": "pd.DataFrame",
       "ref": "47a83613-3573-4b66-a8e0-804dd9cee6bf",
       "rows": [
        [
         "central",
         "0.6668440659925492",
         "-0.1369082792232107",
         "0.8296636021802725"
        ],
        [
         "east",
         "0.7998251748251748",
         "-0.0039271703905851",
         "0.9951139546727781"
        ],
        [
         "south",
         "0.8338485316846986",
         "0.030096186468938746",
         "1.0374446017459018"
        ],
        [
         "west",
         "0.89344909234412",
         "0.08969674712836007",
         "1.1115974935093742"
        ]
       ],
       "shape": {
        "columns": 3,
        "rows": 4
       }
      },
      "text/html": [
       "<div>\n",
       "<style scoped>\n",
       "    .dataframe tbody tr th:only-of-type {\n",
       "        vertical-align: middle;\n",
       "    }\n",
       "\n",
       "    .dataframe tbody tr th {\n",
       "        vertical-align: top;\n",
       "    }\n",
       "\n",
       "    .dataframe thead th {\n",
       "        text-align: right;\n",
       "    }\n",
       "</style>\n",
       "<table border=\"1\" class=\"dataframe\">\n",
       "  <thead>\n",
       "    <tr style=\"text-align: right;\">\n",
       "      <th></th>\n",
       "      <th>mean</th>\n",
       "      <th>diff</th>\n",
       "      <th>rate</th>\n",
       "    </tr>\n",
       "    <tr>\n",
       "      <th>region</th>\n",
       "      <th></th>\n",
       "      <th></th>\n",
       "      <th></th>\n",
       "    </tr>\n",
       "  </thead>\n",
       "  <tbody>\n",
       "    <tr>\n",
       "      <th>central</th>\n",
       "      <td>0.666844</td>\n",
       "      <td>-0.136908</td>\n",
       "      <td>0.829664</td>\n",
       "    </tr>\n",
       "    <tr>\n",
       "      <th>east</th>\n",
       "      <td>0.799825</td>\n",
       "      <td>-0.003927</td>\n",
       "      <td>0.995114</td>\n",
       "    </tr>\n",
       "    <tr>\n",
       "      <th>south</th>\n",
       "      <td>0.833849</td>\n",
       "      <td>0.030096</td>\n",
       "      <td>1.037445</td>\n",
       "    </tr>\n",
       "    <tr>\n",
       "      <th>west</th>\n",
       "      <td>0.893449</td>\n",
       "      <td>0.089697</td>\n",
       "      <td>1.111597</td>\n",
       "    </tr>\n",
       "  </tbody>\n",
       "</table>\n",
       "</div>"
      ],
      "text/plain": [
       "             mean      diff      rate\n",
       "region                               \n",
       "central  0.666844 -0.136908  0.829664\n",
       "east     0.799825 -0.003927  0.995114\n",
       "south    0.833849  0.030096  1.037445\n",
       "west     0.893449  0.089697  1.111597"
      ]
     },
     "metadata": {},
     "output_type": "display_data"
    },
    {
     "data": {
      "application/vnd.microsoft.datawrangler.viewer.v0+json": {
       "columns": [
        {
         "name": "city",
         "rawType": "object",
         "type": "string"
        },
        {
         "name": "mean",
         "rawType": "float64",
         "type": "float"
        },
        {
         "name": "diff",
         "rawType": "float64",
         "type": "float"
        },
        {
         "name": "rate",
         "rawType": "float64",
         "type": "float"
        }
       ],
       "conversionMethod": "pd.DataFrame",
       "ref": "b263ddc8-e600-4a6d-9524-1e9ce3b01684",
       "rows": [
        [
         "aberdeen",
         "1.0",
         "0.1962476547842401",
         "1.2441643323996265"
        ],
        [
         "abilene",
         "0.0",
         "-0.8037523452157599",
         "0.0"
        ],
        [
         "akron",
         "0.5714285714285714",
         "-0.2323237737871885",
         "0.7109510470855008"
        ],
        [
         "albuquerque",
         "0.9",
         "0.09624765478424013",
         "1.1197478991596639"
        ],
        [
         "alexandria",
         "0.9230769230769231",
         "0.11932457786116324",
         "1.1484593837535013"
        ],
        [
         "allen",
         "0.0",
         "-0.8037523452157599",
         "0.0"
        ],
        [
         "allentown",
         "0.6",
         "-0.2037523452157599",
         "0.7464985994397758"
        ],
        [
         "altoona",
         "0.5",
         "-0.3037523452157599",
         "0.6220821661998133"
        ],
        [
         "amarillo",
         "0.5714285714285714",
         "-0.2323237737871885",
         "0.7109510470855008"
        ],
        [
         "anaheim",
         "1.0",
         "0.1962476547842401",
         "1.2441643323996265"
        ],
        [
         "andover",
         "1.0",
         "0.1962476547842401",
         "1.2441643323996265"
        ],
        [
         "ann_arbor",
         "1.0",
         "0.1962476547842401",
         "1.2441643323996265"
        ],
        [
         "antioch",
         "1.0",
         "0.1962476547842401",
         "1.2441643323996265"
        ],
        [
         "apopka",
         "0.5",
         "-0.3037523452157599",
         "0.6220821661998133"
        ],
        [
         "apple_valley",
         "1.0",
         "0.1962476547842401",
         "1.2441643323996265"
        ],
        [
         "appleton",
         "1.0",
         "0.1962476547842401",
         "1.2441643323996265"
        ],
        [
         "arlington",
         "0.7",
         "-0.10375234521575993",
         "0.8709150326797385"
        ],
        [
         "arlington_heights",
         "1.0",
         "0.1962476547842401",
         "1.2441643323996265"
        ],
        [
         "arvada",
         "1.0",
         "0.1962476547842401",
         "1.2441643323996265"
        ],
        [
         "asheville",
         "0.8333333333333334",
         "0.02958098811757348",
         "1.036803610333022"
        ],
        [
         "athens",
         "1.0",
         "0.1962476547842401",
         "1.2441643323996265"
        ],
        [
         "atlanta",
         "1.0",
         "0.1962476547842401",
         "1.2441643323996265"
        ],
        [
         "atlantic_city",
         "1.0",
         "0.1962476547842401",
         "1.2441643323996265"
        ],
        [
         "auburn",
         "1.0",
         "0.1962476547842401",
         "1.2441643323996265"
        ],
        [
         "aurora",
         "0.4716981132075472",
         "-0.3320542320082127",
         "0.5868699681130314"
        ],
        [
         "austin",
         "0.5666666666666667",
         "-0.23708567854909324",
         "0.705026455026455"
        ],
        [
         "avondale",
         "0.75",
         "-0.05375234521575989",
         "0.9331232492997198"
        ],
        [
         "bakersfield",
         "0.8571428571428571",
         "0.053390511927097206",
         "1.0664265706282512"
        ],
        [
         "baltimore",
         "0.9696969696969697",
         "0.16594462448120983",
         "1.206462382932971"
        ],
        [
         "bangor",
         "1.0",
         "0.1962476547842401",
         "1.2441643323996265"
        ],
        [
         "bayonne",
         "1.0",
         "0.1962476547842401",
         "1.2441643323996265"
        ],
        [
         "baytown",
         "1.0",
         "0.1962476547842401",
         "1.2441643323996265"
        ],
        [
         "beaumont",
         "0.6666666666666666",
         "-0.13708567854909326",
         "0.8294428882664175"
        ],
        [
         "bedford",
         "0.75",
         "-0.05375234521575989",
         "0.9331232492997198"
        ],
        [
         "belleville",
         "1.0",
         "0.1962476547842401",
         "1.2441643323996265"
        ],
        [
         "bellevue",
         "1.0",
         "0.1962476547842401",
         "1.2441643323996265"
        ],
        [
         "bellingham",
         "1.0",
         "0.1962476547842401",
         "1.2441643323996265"
        ],
        [
         "bethlehem",
         "0.5",
         "-0.3037523452157599",
         "0.6220821661998133"
        ],
        [
         "beverly",
         "1.0",
         "0.1962476547842401",
         "1.2441643323996265"
        ],
        [
         "billings",
         "1.0",
         "0.1962476547842401",
         "1.2441643323996265"
        ],
        [
         "bloomington",
         "0.7272727272727273",
         "-0.0764796179430326",
         "0.9048467871997283"
        ],
        [
         "boca_raton",
         "0.6666666666666666",
         "-0.13708567854909326",
         "0.8294428882664175"
        ],
        [
         "boise",
         "1.0",
         "0.1962476547842401",
         "1.2441643323996265"
        ],
        [
         "bolingbrook",
         "0.6666666666666666",
         "-0.13708567854909326",
         "0.8294428882664175"
        ],
        [
         "bossier_city",
         "1.0",
         "0.1962476547842401",
         "1.2441643323996265"
        ],
        [
         "bowling_green",
         "0.8333333333333334",
         "0.02958098811757348",
         "1.036803610333022"
        ],
        [
         "boynton_beach",
         "0.8333333333333334",
         "0.02958098811757348",
         "1.036803610333022"
        ],
        [
         "bozeman",
         "1.0",
         "0.1962476547842401",
         "1.2441643323996265"
        ],
        [
         "brentwood",
         "1.0",
         "0.1962476547842401",
         "1.2441643323996265"
        ],
        [
         "bridgeton",
         "1.0",
         "0.1962476547842401",
         "1.2441643323996265"
        ]
       ],
       "shape": {
        "columns": 3,
        "rows": 513
       }
      },
      "text/html": [
       "<div>\n",
       "<style scoped>\n",
       "    .dataframe tbody tr th:only-of-type {\n",
       "        vertical-align: middle;\n",
       "    }\n",
       "\n",
       "    .dataframe tbody tr th {\n",
       "        vertical-align: top;\n",
       "    }\n",
       "\n",
       "    .dataframe thead th {\n",
       "        text-align: right;\n",
       "    }\n",
       "</style>\n",
       "<table border=\"1\" class=\"dataframe\">\n",
       "  <thead>\n",
       "    <tr style=\"text-align: right;\">\n",
       "      <th></th>\n",
       "      <th>mean</th>\n",
       "      <th>diff</th>\n",
       "      <th>rate</th>\n",
       "    </tr>\n",
       "    <tr>\n",
       "      <th>city</th>\n",
       "      <th></th>\n",
       "      <th></th>\n",
       "      <th></th>\n",
       "    </tr>\n",
       "  </thead>\n",
       "  <tbody>\n",
       "    <tr>\n",
       "      <th>aberdeen</th>\n",
       "      <td>1.000000</td>\n",
       "      <td>0.196248</td>\n",
       "      <td>1.244164</td>\n",
       "    </tr>\n",
       "    <tr>\n",
       "      <th>abilene</th>\n",
       "      <td>0.000000</td>\n",
       "      <td>-0.803752</td>\n",
       "      <td>0.000000</td>\n",
       "    </tr>\n",
       "    <tr>\n",
       "      <th>akron</th>\n",
       "      <td>0.571429</td>\n",
       "      <td>-0.232324</td>\n",
       "      <td>0.710951</td>\n",
       "    </tr>\n",
       "    <tr>\n",
       "      <th>albuquerque</th>\n",
       "      <td>0.900000</td>\n",
       "      <td>0.096248</td>\n",
       "      <td>1.119748</td>\n",
       "    </tr>\n",
       "    <tr>\n",
       "      <th>alexandria</th>\n",
       "      <td>0.923077</td>\n",
       "      <td>0.119325</td>\n",
       "      <td>1.148459</td>\n",
       "    </tr>\n",
       "    <tr>\n",
       "      <th>...</th>\n",
       "      <td>...</td>\n",
       "      <td>...</td>\n",
       "      <td>...</td>\n",
       "    </tr>\n",
       "    <tr>\n",
       "      <th>woonsocket</th>\n",
       "      <td>1.000000</td>\n",
       "      <td>0.196248</td>\n",
       "      <td>1.244164</td>\n",
       "    </tr>\n",
       "    <tr>\n",
       "      <th>yonkers</th>\n",
       "      <td>0.900000</td>\n",
       "      <td>0.096248</td>\n",
       "      <td>1.119748</td>\n",
       "    </tr>\n",
       "    <tr>\n",
       "      <th>york</th>\n",
       "      <td>0.000000</td>\n",
       "      <td>-0.803752</td>\n",
       "      <td>0.000000</td>\n",
       "    </tr>\n",
       "    <tr>\n",
       "      <th>yucaipa</th>\n",
       "      <td>1.000000</td>\n",
       "      <td>0.196248</td>\n",
       "      <td>1.244164</td>\n",
       "    </tr>\n",
       "    <tr>\n",
       "      <th>yuma</th>\n",
       "      <td>0.500000</td>\n",
       "      <td>-0.303752</td>\n",
       "      <td>0.622082</td>\n",
       "    </tr>\n",
       "  </tbody>\n",
       "</table>\n",
       "<p>513 rows × 3 columns</p>\n",
       "</div>"
      ],
      "text/plain": [
       "                 mean      diff      rate\n",
       "city                                     \n",
       "aberdeen     1.000000  0.196248  1.244164\n",
       "abilene      0.000000 -0.803752  0.000000\n",
       "akron        0.571429 -0.232324  0.710951\n",
       "albuquerque  0.900000  0.096248  1.119748\n",
       "alexandria   0.923077  0.119325  1.148459\n",
       "...               ...       ...       ...\n",
       "woonsocket   1.000000  0.196248  1.244164\n",
       "yonkers      0.900000  0.096248  1.119748\n",
       "york         0.000000 -0.803752  0.000000\n",
       "yucaipa      1.000000  0.196248  1.244164\n",
       "yuma         0.500000 -0.303752  0.622082\n",
       "\n",
       "[513 rows x 3 columns]"
      ]
     },
     "metadata": {},
     "output_type": "display_data"
    },
    {
     "data": {
      "application/vnd.microsoft.datawrangler.viewer.v0+json": {
       "columns": [
        {
         "name": "state",
         "rawType": "object",
         "type": "string"
        },
        {
         "name": "mean",
         "rawType": "float64",
         "type": "float"
        },
        {
         "name": "diff",
         "rawType": "float64",
         "type": "float"
        },
        {
         "name": "rate",
         "rawType": "float64",
         "type": "float"
        }
       ],
       "conversionMethod": "pd.DataFrame",
       "ref": "a65dcb3f-83af-4a0a-9406-56f2d0961270",
       "rows": [
        [
         "alabama",
         "0.9795918367346939",
         "0.17583949151893397",
         "1.2187732235751443"
        ],
        [
         "arizona",
         "0.6368715083798883",
         "-0.16688083683587163",
         "0.7923728150478068"
        ],
        [
         "arkansas",
         "1.0",
         "0.1962476547842401",
         "1.2441643323996265"
        ],
        [
         "california",
         "0.9380139152435167",
         "0.13426157002775685",
         "1.16704345664051"
        ],
        [
         "colorado",
         "0.6180555555555556",
         "-0.1856967896602043",
         "0.768962677663658"
        ],
        [
         "connecticut",
         "0.9672131147540983",
         "0.16346076953833844",
         "1.203372059206196"
        ],
        [
         "delaware",
         "0.9743589743589743",
         "0.17060662914321445",
         "1.212262682850918"
        ],
        [
         "district_of_columbia",
         "1.0",
         "0.1962476547842401",
         "1.2441643323996265"
        ],
        [
         "florida",
         "0.6580645161290323",
         "-0.14568782908672762",
         "0.8187403993855606"
        ],
        [
         "georgia",
         "1.0",
         "0.1962476547842401",
         "1.2441643323996265"
        ],
        [
         "idaho",
         "1.0",
         "0.1962476547842401",
         "1.2441643323996265"
        ],
        [
         "illinois",
         "0.4671717171717172",
         "-0.3365806280440427",
         "0.5812383876109366"
        ],
        [
         "indiana",
         "1.0",
         "0.1962476547842401",
         "1.2441643323996265"
        ],
        [
         "iowa",
         "1.0",
         "0.1962476547842401",
         "1.2441643323996265"
        ],
        [
         "kansas",
         "1.0",
         "0.1962476547842401",
         "1.2441643323996265"
        ],
        [
         "kentucky",
         "0.9914529914529915",
         "0.1877006462372316",
         "1.2335304492167236"
        ],
        [
         "louisiana",
         "1.0",
         "0.1962476547842401",
         "1.2441643323996265"
        ],
        [
         "maine",
         "1.0",
         "0.1962476547842401",
         "1.2441643323996265"
        ],
        [
         "maryland",
         "0.9767441860465116",
         "0.1729918408307517",
         "1.2152302781577746"
        ],
        [
         "massachusetts",
         "0.9553571428571429",
         "0.15160479764138302",
         "1.1886212818460717"
        ],
        [
         "michigan",
         "0.9949748743718593",
         "0.19122252915609939",
         "1.2379122503272666"
        ],
        [
         "minnesota",
         "1.0",
         "0.1962476547842401",
         "1.2441643323996265"
        ],
        [
         "mississippi",
         "0.9772727272727273",
         "0.1735203820569674",
         "1.215887870299635"
        ],
        [
         "missouri",
         "1.0",
         "0.1962476547842401",
         "1.2441643323996265"
        ],
        [
         "montana",
         "1.0",
         "0.1962476547842401",
         "1.2441643323996265"
        ],
        [
         "nebraska",
         "1.0",
         "0.1962476547842401",
         "1.2441643323996265"
        ],
        [
         "nevada",
         "0.9333333333333333",
         "0.12958098811757346",
         "1.1612200435729847"
        ],
        [
         "new_hampshire",
         "0.9565217391304348",
         "0.15276939391467492",
         "1.190070230990947"
        ],
        [
         "new_jersey",
         "0.9716981132075472",
         "0.1679457679917873",
         "1.2089521343128447"
        ],
        [
         "new_mexico",
         "0.9642857142857143",
         "0.1605333690699544",
         "1.1997298919567827"
        ],
        [
         "new_york",
         "0.9525909592061742",
         "0.14883861399041431",
         "1.1851796948106694"
        ],
        [
         "north_carolina",
         "0.7360406091370558",
         "-0.06771173607870407",
         "0.9157554730860195"
        ],
        [
         "north_dakota",
         "1.0",
         "0.1962476547842401",
         "1.2441643323996265"
        ],
        [
         "ohio",
         "0.5399449035812672",
         "-0.26380744163449266",
         "0.6717801904967681"
        ],
        [
         "oklahoma",
         "1.0",
         "0.1962476547842401",
         "1.2441643323996265"
        ],
        [
         "oregon",
         "0.6391752577319587",
         "-0.16457708748380118",
         "0.7952390578224416"
        ],
        [
         "pennsylvania",
         "0.5209205020920502",
         "-0.2828318431237097",
         "0.6481107087186339"
        ],
        [
         "rhode_island",
         "0.9130434782608695",
         "0.10929113304510962",
         "1.1359761295822675"
        ],
        [
         "south_carolina",
         "1.0",
         "0.1962476547842401",
         "1.2441643323996265"
        ],
        [
         "south_dakota",
         "1.0",
         "0.1962476547842401",
         "1.2441643323996265"
        ],
        [
         "tennessee",
         "0.6312056737588653",
         "-0.17254667145689462",
         "0.785323585699055"
        ],
        [
         "texas",
         "0.48951911220715166",
         "-0.3142332330086082",
         "0.6090422194360687"
        ],
        [
         "utah",
         "1.0",
         "0.1962476547842401",
         "1.2441643323996265"
        ],
        [
         "vermont",
         "1.0",
         "0.1962476547842401",
         "1.2441643323996265"
        ],
        [
         "virginia",
         "0.989010989010989",
         "0.18525864379522916",
         "1.2304921968787514"
        ],
        [
         "washington",
         "0.9659367396593674",
         "0.16218439444360755",
         "1.2017840388385688"
        ],
        [
         "west_virginia",
         "1.0",
         "0.1962476547842401",
         "1.2441643323996265"
        ],
        [
         "wisconsin",
         "1.0",
         "0.1962476547842401",
         "1.2441643323996265"
        ]
       ],
       "shape": {
        "columns": 3,
        "rows": 48
       }
      },
      "text/html": [
       "<div>\n",
       "<style scoped>\n",
       "    .dataframe tbody tr th:only-of-type {\n",
       "        vertical-align: middle;\n",
       "    }\n",
       "\n",
       "    .dataframe tbody tr th {\n",
       "        vertical-align: top;\n",
       "    }\n",
       "\n",
       "    .dataframe thead th {\n",
       "        text-align: right;\n",
       "    }\n",
       "</style>\n",
       "<table border=\"1\" class=\"dataframe\">\n",
       "  <thead>\n",
       "    <tr style=\"text-align: right;\">\n",
       "      <th></th>\n",
       "      <th>mean</th>\n",
       "      <th>diff</th>\n",
       "      <th>rate</th>\n",
       "    </tr>\n",
       "    <tr>\n",
       "      <th>state</th>\n",
       "      <th></th>\n",
       "      <th></th>\n",
       "      <th></th>\n",
       "    </tr>\n",
       "  </thead>\n",
       "  <tbody>\n",
       "    <tr>\n",
       "      <th>alabama</th>\n",
       "      <td>0.979592</td>\n",
       "      <td>0.175839</td>\n",
       "      <td>1.218773</td>\n",
       "    </tr>\n",
       "    <tr>\n",
       "      <th>arizona</th>\n",
       "      <td>0.636872</td>\n",
       "      <td>-0.166881</td>\n",
       "      <td>0.792373</td>\n",
       "    </tr>\n",
       "    <tr>\n",
       "      <th>arkansas</th>\n",
       "      <td>1.000000</td>\n",
       "      <td>0.196248</td>\n",
       "      <td>1.244164</td>\n",
       "    </tr>\n",
       "    <tr>\n",
       "      <th>california</th>\n",
       "      <td>0.938014</td>\n",
       "      <td>0.134262</td>\n",
       "      <td>1.167043</td>\n",
       "    </tr>\n",
       "    <tr>\n",
       "      <th>colorado</th>\n",
       "      <td>0.618056</td>\n",
       "      <td>-0.185697</td>\n",
       "      <td>0.768963</td>\n",
       "    </tr>\n",
       "    <tr>\n",
       "      <th>connecticut</th>\n",
       "      <td>0.967213</td>\n",
       "      <td>0.163461</td>\n",
       "      <td>1.203372</td>\n",
       "    </tr>\n",
       "    <tr>\n",
       "      <th>delaware</th>\n",
       "      <td>0.974359</td>\n",
       "      <td>0.170607</td>\n",
       "      <td>1.212263</td>\n",
       "    </tr>\n",
       "    <tr>\n",
       "      <th>district_of_columbia</th>\n",
       "      <td>1.000000</td>\n",
       "      <td>0.196248</td>\n",
       "      <td>1.244164</td>\n",
       "    </tr>\n",
       "    <tr>\n",
       "      <th>florida</th>\n",
       "      <td>0.658065</td>\n",
       "      <td>-0.145688</td>\n",
       "      <td>0.818740</td>\n",
       "    </tr>\n",
       "    <tr>\n",
       "      <th>georgia</th>\n",
       "      <td>1.000000</td>\n",
       "      <td>0.196248</td>\n",
       "      <td>1.244164</td>\n",
       "    </tr>\n",
       "    <tr>\n",
       "      <th>idaho</th>\n",
       "      <td>1.000000</td>\n",
       "      <td>0.196248</td>\n",
       "      <td>1.244164</td>\n",
       "    </tr>\n",
       "    <tr>\n",
       "      <th>illinois</th>\n",
       "      <td>0.467172</td>\n",
       "      <td>-0.336581</td>\n",
       "      <td>0.581238</td>\n",
       "    </tr>\n",
       "    <tr>\n",
       "      <th>indiana</th>\n",
       "      <td>1.000000</td>\n",
       "      <td>0.196248</td>\n",
       "      <td>1.244164</td>\n",
       "    </tr>\n",
       "    <tr>\n",
       "      <th>iowa</th>\n",
       "      <td>1.000000</td>\n",
       "      <td>0.196248</td>\n",
       "      <td>1.244164</td>\n",
       "    </tr>\n",
       "    <tr>\n",
       "      <th>kansas</th>\n",
       "      <td>1.000000</td>\n",
       "      <td>0.196248</td>\n",
       "      <td>1.244164</td>\n",
       "    </tr>\n",
       "    <tr>\n",
       "      <th>kentucky</th>\n",
       "      <td>0.991453</td>\n",
       "      <td>0.187701</td>\n",
       "      <td>1.233530</td>\n",
       "    </tr>\n",
       "    <tr>\n",
       "      <th>louisiana</th>\n",
       "      <td>1.000000</td>\n",
       "      <td>0.196248</td>\n",
       "      <td>1.244164</td>\n",
       "    </tr>\n",
       "    <tr>\n",
       "      <th>maine</th>\n",
       "      <td>1.000000</td>\n",
       "      <td>0.196248</td>\n",
       "      <td>1.244164</td>\n",
       "    </tr>\n",
       "    <tr>\n",
       "      <th>maryland</th>\n",
       "      <td>0.976744</td>\n",
       "      <td>0.172992</td>\n",
       "      <td>1.215230</td>\n",
       "    </tr>\n",
       "    <tr>\n",
       "      <th>massachusetts</th>\n",
       "      <td>0.955357</td>\n",
       "      <td>0.151605</td>\n",
       "      <td>1.188621</td>\n",
       "    </tr>\n",
       "    <tr>\n",
       "      <th>michigan</th>\n",
       "      <td>0.994975</td>\n",
       "      <td>0.191223</td>\n",
       "      <td>1.237912</td>\n",
       "    </tr>\n",
       "    <tr>\n",
       "      <th>minnesota</th>\n",
       "      <td>1.000000</td>\n",
       "      <td>0.196248</td>\n",
       "      <td>1.244164</td>\n",
       "    </tr>\n",
       "    <tr>\n",
       "      <th>mississippi</th>\n",
       "      <td>0.977273</td>\n",
       "      <td>0.173520</td>\n",
       "      <td>1.215888</td>\n",
       "    </tr>\n",
       "    <tr>\n",
       "      <th>missouri</th>\n",
       "      <td>1.000000</td>\n",
       "      <td>0.196248</td>\n",
       "      <td>1.244164</td>\n",
       "    </tr>\n",
       "    <tr>\n",
       "      <th>montana</th>\n",
       "      <td>1.000000</td>\n",
       "      <td>0.196248</td>\n",
       "      <td>1.244164</td>\n",
       "    </tr>\n",
       "    <tr>\n",
       "      <th>nebraska</th>\n",
       "      <td>1.000000</td>\n",
       "      <td>0.196248</td>\n",
       "      <td>1.244164</td>\n",
       "    </tr>\n",
       "    <tr>\n",
       "      <th>nevada</th>\n",
       "      <td>0.933333</td>\n",
       "      <td>0.129581</td>\n",
       "      <td>1.161220</td>\n",
       "    </tr>\n",
       "    <tr>\n",
       "      <th>new_hampshire</th>\n",
       "      <td>0.956522</td>\n",
       "      <td>0.152769</td>\n",
       "      <td>1.190070</td>\n",
       "    </tr>\n",
       "    <tr>\n",
       "      <th>new_jersey</th>\n",
       "      <td>0.971698</td>\n",
       "      <td>0.167946</td>\n",
       "      <td>1.208952</td>\n",
       "    </tr>\n",
       "    <tr>\n",
       "      <th>new_mexico</th>\n",
       "      <td>0.964286</td>\n",
       "      <td>0.160533</td>\n",
       "      <td>1.199730</td>\n",
       "    </tr>\n",
       "    <tr>\n",
       "      <th>new_york</th>\n",
       "      <td>0.952591</td>\n",
       "      <td>0.148839</td>\n",
       "      <td>1.185180</td>\n",
       "    </tr>\n",
       "    <tr>\n",
       "      <th>north_carolina</th>\n",
       "      <td>0.736041</td>\n",
       "      <td>-0.067712</td>\n",
       "      <td>0.915755</td>\n",
       "    </tr>\n",
       "    <tr>\n",
       "      <th>north_dakota</th>\n",
       "      <td>1.000000</td>\n",
       "      <td>0.196248</td>\n",
       "      <td>1.244164</td>\n",
       "    </tr>\n",
       "    <tr>\n",
       "      <th>ohio</th>\n",
       "      <td>0.539945</td>\n",
       "      <td>-0.263807</td>\n",
       "      <td>0.671780</td>\n",
       "    </tr>\n",
       "    <tr>\n",
       "      <th>oklahoma</th>\n",
       "      <td>1.000000</td>\n",
       "      <td>0.196248</td>\n",
       "      <td>1.244164</td>\n",
       "    </tr>\n",
       "    <tr>\n",
       "      <th>oregon</th>\n",
       "      <td>0.639175</td>\n",
       "      <td>-0.164577</td>\n",
       "      <td>0.795239</td>\n",
       "    </tr>\n",
       "    <tr>\n",
       "      <th>pennsylvania</th>\n",
       "      <td>0.520921</td>\n",
       "      <td>-0.282832</td>\n",
       "      <td>0.648111</td>\n",
       "    </tr>\n",
       "    <tr>\n",
       "      <th>rhode_island</th>\n",
       "      <td>0.913043</td>\n",
       "      <td>0.109291</td>\n",
       "      <td>1.135976</td>\n",
       "    </tr>\n",
       "    <tr>\n",
       "      <th>south_carolina</th>\n",
       "      <td>1.000000</td>\n",
       "      <td>0.196248</td>\n",
       "      <td>1.244164</td>\n",
       "    </tr>\n",
       "    <tr>\n",
       "      <th>south_dakota</th>\n",
       "      <td>1.000000</td>\n",
       "      <td>0.196248</td>\n",
       "      <td>1.244164</td>\n",
       "    </tr>\n",
       "    <tr>\n",
       "      <th>tennessee</th>\n",
       "      <td>0.631206</td>\n",
       "      <td>-0.172547</td>\n",
       "      <td>0.785324</td>\n",
       "    </tr>\n",
       "    <tr>\n",
       "      <th>texas</th>\n",
       "      <td>0.489519</td>\n",
       "      <td>-0.314233</td>\n",
       "      <td>0.609042</td>\n",
       "    </tr>\n",
       "    <tr>\n",
       "      <th>utah</th>\n",
       "      <td>1.000000</td>\n",
       "      <td>0.196248</td>\n",
       "      <td>1.244164</td>\n",
       "    </tr>\n",
       "    <tr>\n",
       "      <th>vermont</th>\n",
       "      <td>1.000000</td>\n",
       "      <td>0.196248</td>\n",
       "      <td>1.244164</td>\n",
       "    </tr>\n",
       "    <tr>\n",
       "      <th>virginia</th>\n",
       "      <td>0.989011</td>\n",
       "      <td>0.185259</td>\n",
       "      <td>1.230492</td>\n",
       "    </tr>\n",
       "    <tr>\n",
       "      <th>washington</th>\n",
       "      <td>0.965937</td>\n",
       "      <td>0.162184</td>\n",
       "      <td>1.201784</td>\n",
       "    </tr>\n",
       "    <tr>\n",
       "      <th>west_virginia</th>\n",
       "      <td>1.000000</td>\n",
       "      <td>0.196248</td>\n",
       "      <td>1.244164</td>\n",
       "    </tr>\n",
       "    <tr>\n",
       "      <th>wisconsin</th>\n",
       "      <td>1.000000</td>\n",
       "      <td>0.196248</td>\n",
       "      <td>1.244164</td>\n",
       "    </tr>\n",
       "  </tbody>\n",
       "</table>\n",
       "</div>"
      ],
      "text/plain": [
       "                          mean      diff      rate\n",
       "state                                             \n",
       "alabama               0.979592  0.175839  1.218773\n",
       "arizona               0.636872 -0.166881  0.792373\n",
       "arkansas              1.000000  0.196248  1.244164\n",
       "california            0.938014  0.134262  1.167043\n",
       "colorado              0.618056 -0.185697  0.768963\n",
       "connecticut           0.967213  0.163461  1.203372\n",
       "delaware              0.974359  0.170607  1.212263\n",
       "district_of_columbia  1.000000  0.196248  1.244164\n",
       "florida               0.658065 -0.145688  0.818740\n",
       "georgia               1.000000  0.196248  1.244164\n",
       "idaho                 1.000000  0.196248  1.244164\n",
       "illinois              0.467172 -0.336581  0.581238\n",
       "indiana               1.000000  0.196248  1.244164\n",
       "iowa                  1.000000  0.196248  1.244164\n",
       "kansas                1.000000  0.196248  1.244164\n",
       "kentucky              0.991453  0.187701  1.233530\n",
       "louisiana             1.000000  0.196248  1.244164\n",
       "maine                 1.000000  0.196248  1.244164\n",
       "maryland              0.976744  0.172992  1.215230\n",
       "massachusetts         0.955357  0.151605  1.188621\n",
       "michigan              0.994975  0.191223  1.237912\n",
       "minnesota             1.000000  0.196248  1.244164\n",
       "mississippi           0.977273  0.173520  1.215888\n",
       "missouri              1.000000  0.196248  1.244164\n",
       "montana               1.000000  0.196248  1.244164\n",
       "nebraska              1.000000  0.196248  1.244164\n",
       "nevada                0.933333  0.129581  1.161220\n",
       "new_hampshire         0.956522  0.152769  1.190070\n",
       "new_jersey            0.971698  0.167946  1.208952\n",
       "new_mexico            0.964286  0.160533  1.199730\n",
       "new_york              0.952591  0.148839  1.185180\n",
       "north_carolina        0.736041 -0.067712  0.915755\n",
       "north_dakota          1.000000  0.196248  1.244164\n",
       "ohio                  0.539945 -0.263807  0.671780\n",
       "oklahoma              1.000000  0.196248  1.244164\n",
       "oregon                0.639175 -0.164577  0.795239\n",
       "pennsylvania          0.520921 -0.282832  0.648111\n",
       "rhode_island          0.913043  0.109291  1.135976\n",
       "south_carolina        1.000000  0.196248  1.244164\n",
       "south_dakota          1.000000  0.196248  1.244164\n",
       "tennessee             0.631206 -0.172547  0.785324\n",
       "texas                 0.489519 -0.314233  0.609042\n",
       "utah                  1.000000  0.196248  1.244164\n",
       "vermont               1.000000  0.196248  1.244164\n",
       "virginia              0.989011  0.185259  1.230492\n",
       "washington            0.965937  0.162184  1.201784\n",
       "west_virginia         1.000000  0.196248  1.244164\n",
       "wisconsin             1.000000  0.196248  1.244164"
      ]
     },
     "metadata": {},
     "output_type": "display_data"
    }
   ],
   "source": [
    "# ceating a function to calculate the mean of the churn rate for categorical columns with display\n",
    "\n",
    "from IPython.display import display \n",
    " \n",
    "for col in categorical_columns:\n",
    "    df_group = df_train_full.groupby(by=col).profit.agg(['mean'])\n",
    "    df_group['diff'] = df_group['mean'] - global_profit_mean\n",
    "    df_group['rate'] = df_group['mean'] / global_profit_mean\n",
    "    display(df_group)"
   ]
  },
  {
   "cell_type": "markdown",
   "metadata": {},
   "source": [
    "**Features Importance (categorical Data): Mutual Information**"
   ]
  },
  {
   "cell_type": "code",
   "execution_count": 65,
   "metadata": {},
   "outputs": [
    {
     "name": "stdout",
     "output_type": "stream",
     "text": [
      "0.00015842045695595164\n"
     ]
    }
   ],
   "source": [
    "mi_score = mutual_info_score(df_train_full.profit, df_train_full.segment)\n",
    "print(mi_score)"
   ]
  },
  {
   "cell_type": "markdown",
   "metadata": {},
   "source": [
    "Creating a function to calculate mutual information between categorical variables and the target variable"
   ]
  },
  {
   "cell_type": "code",
   "execution_count": 66,
   "metadata": {},
   "outputs": [
    {
     "data": {
      "text/plain": [
       "order_id                0.349769\n",
       "product_name_encoded    0.244446\n",
       "city                    0.142977\n",
       "state                   0.141887\n",
       "subcategory             0.114482\n",
       "manufactory             0.099892\n",
       "customer                0.081105\n",
       "region                  0.022005\n",
       "category                0.019491\n",
       "segment                 0.000158\n",
       "dtype: float64"
      ]
     },
     "execution_count": 66,
     "metadata": {},
     "output_type": "execute_result"
    }
   ],
   "source": [
    "# mutual info score function  between profit and dependents\n",
    "def calculate_mi(series):\n",
    "    return mutual_info_score(series, df_train_full.profit)\n",
    "\n",
    "\n",
    "\n",
    "# calculate mutual info score for all categorical columns\n",
    "mi = df_train_full[categorical_columns].apply(calculate_mi)\n",
    "mi.sort_values(ascending=False)"
   ]
  },
  {
   "cell_type": "markdown",
   "metadata": {},
   "source": [
    "**Feature importance (Numerical Data): Correlation**"
   ]
  },
  {
   "cell_type": "code",
   "execution_count": 180,
   "metadata": {},
   "outputs": [
    {
     "data": {
      "text/plain": [
       "quantity         0.005150\n",
       "sales            0.015479\n",
       "profit_margin    0.758745\n",
       "order_year       0.001168\n",
       "order_month      0.008412\n",
       "ship_year        0.000864\n",
       "ship_month       0.010259\n",
       "dtype: float64"
      ]
     },
     "execution_count": 180,
     "metadata": {},
     "output_type": "execute_result"
    }
   ],
   "source": [
    "df_train_full[numerical_columns].corrwith(df_train_full.profit).abs()"
   ]
  },
  {
   "cell_type": "markdown",
   "metadata": {},
   "source": [
    "### One-hot encoding"
   ]
  },
  {
   "cell_type": "code",
   "execution_count": 67,
   "metadata": {},
   "outputs": [
    {
     "name": "stdout",
     "output_type": "stream",
     "text": [
      "      category=furniture  category=office_supplies  category=technology  \\\n",
      "0                    0.0                       1.0                  0.0   \n",
      "1                    0.0                       0.0                  1.0   \n",
      "2                    0.0                       1.0                  0.0   \n",
      "3                    0.0                       0.0                  1.0   \n",
      "4                    0.0                       1.0                  0.0   \n",
      "...                  ...                       ...                  ...   \n",
      "5991                 0.0                       0.0                  1.0   \n",
      "5992                 0.0                       1.0                  0.0   \n",
      "5993                 0.0                       1.0                  0.0   \n",
      "5994                 0.0                       0.0                  1.0   \n",
      "5995                 0.0                       1.0                  0.0   \n",
      "\n",
      "      city=aberdeen  city=abilene  city=akron  city=albuquerque  \\\n",
      "0               0.0           0.0         0.0               0.0   \n",
      "1               0.0           0.0         0.0               0.0   \n",
      "2               0.0           0.0         0.0               0.0   \n",
      "3               0.0           0.0         0.0               0.0   \n",
      "4               0.0           0.0         0.0               0.0   \n",
      "...             ...           ...         ...               ...   \n",
      "5991            0.0           0.0         0.0               0.0   \n",
      "5992            0.0           0.0         0.0               0.0   \n",
      "5993            0.0           0.0         0.0               0.0   \n",
      "5994            0.0           0.0         0.0               0.0   \n",
      "5995            0.0           0.0         0.0               0.0   \n",
      "\n",
      "      city=alexandria  city=allen  city=allentown  ...  subcategory=envelopes  \\\n",
      "0                 0.0         0.0             0.0  ...                    0.0   \n",
      "1                 0.0         0.0             0.0  ...                    0.0   \n",
      "2                 0.0         0.0             0.0  ...                    0.0   \n",
      "3                 0.0         0.0             0.0  ...                    0.0   \n",
      "4                 0.0         0.0             0.0  ...                    0.0   \n",
      "...               ...         ...             ...  ...                    ...   \n",
      "5991              0.0         0.0             0.0  ...                    0.0   \n",
      "5992              0.0         0.0             0.0  ...                    0.0   \n",
      "5993              0.0         0.0             0.0  ...                    0.0   \n",
      "5994              0.0         0.0             0.0  ...                    0.0   \n",
      "5995              0.0         0.0             0.0  ...                    0.0   \n",
      "\n",
      "      subcategory=fasteners  subcategory=furnishings  subcategory=labels  \\\n",
      "0                       0.0                      0.0                 0.0   \n",
      "1                       0.0                      0.0                 0.0   \n",
      "2                       0.0                      0.0                 0.0   \n",
      "3                       0.0                      0.0                 0.0   \n",
      "4                       0.0                      0.0                 0.0   \n",
      "...                     ...                      ...                 ...   \n",
      "5991                    0.0                      0.0                 0.0   \n",
      "5992                    1.0                      0.0                 0.0   \n",
      "5993                    0.0                      0.0                 0.0   \n",
      "5994                    0.0                      0.0                 0.0   \n",
      "5995                    0.0                      0.0                 0.0   \n",
      "\n",
      "      subcategory=machines  subcategory=paper  subcategory=phones  \\\n",
      "0                      0.0                1.0                 0.0   \n",
      "1                      0.0                0.0                 1.0   \n",
      "2                      0.0                1.0                 0.0   \n",
      "3                      0.0                0.0                 1.0   \n",
      "4                      0.0                0.0                 0.0   \n",
      "...                    ...                ...                 ...   \n",
      "5991                   0.0                0.0                 0.0   \n",
      "5992                   0.0                0.0                 0.0   \n",
      "5993                   0.0                0.0                 0.0   \n",
      "5994                   0.0                0.0                 0.0   \n",
      "5995                   0.0                0.0                 0.0   \n",
      "\n",
      "      subcategory=storage  subcategory=supplies  subcategory=tables  \n",
      "0                     0.0                   0.0                 0.0  \n",
      "1                     0.0                   0.0                 0.0  \n",
      "2                     0.0                   0.0                 0.0  \n",
      "3                     0.0                   0.0                 0.0  \n",
      "4                     1.0                   0.0                 0.0  \n",
      "...                   ...                   ...                 ...  \n",
      "5991                  0.0                   0.0                 0.0  \n",
      "5992                  0.0                   0.0                 0.0  \n",
      "5993                  0.0                   0.0                 0.0  \n",
      "5994                  0.0                   0.0                 0.0  \n",
      "5995                  0.0                   0.0                 0.0  \n",
      "\n",
      "[5996 rows x 5287 columns]\n"
     ]
    }
   ],
   "source": [
    "# Initialize DictVectorizer\n",
    "dv = DictVectorizer(sparse=False)\n",
    "\n",
    "\n",
    "# Convert DataFrame to list of dictionaries\n",
    "train_dict = df_train[categorical_columns + numerical_columns].to_dict(orient='records')\n",
    "val_dict =  df_val[categorical_columns + numerical_columns].to_dict(orient='records')\n",
    "\n",
    "\n",
    "# Transform the list of dictionaries into a matrix\n",
    "X_train = dv.fit_transform(train_dict)\n",
    "X_val = dv.transform(val_dict)\n",
    "\n",
    "\n",
    "# # Get feature names\n",
    "feature_names = dv.get_feature_names_out()\n",
    "\n",
    "# Display the encoded matrix and feature names\n",
    "print(pd.DataFrame(X_train, columns=feature_names))"
   ]
  },
  {
   "cell_type": "markdown",
   "metadata": {},
   "source": [
    "## Building and Training the Model\n",
    "___"
   ]
  },
  {
   "cell_type": "markdown",
   "metadata": {},
   "source": [
    "### Building the model"
   ]
  },
  {
   "cell_type": "code",
   "execution_count": 183,
   "metadata": {},
   "outputs": [],
   "source": [
    "from sklearn.linear_model import LogisticRegression\n",
    "model = LogisticRegression(solver='liblinear', random_state=1)\n"
   ]
  },
  {
   "cell_type": "markdown",
   "metadata": {},
   "source": [
    "### Training the model"
   ]
  },
  {
   "cell_type": "code",
   "execution_count": 184,
   "metadata": {},
   "outputs": [
    {
     "data": {
      "text/html": [
       "<style>#sk-container-id-5 {\n",
       "  /* Definition of color scheme common for light and dark mode */\n",
       "  --sklearn-color-text: black;\n",
       "  --sklearn-color-line: gray;\n",
       "  /* Definition of color scheme for unfitted estimators */\n",
       "  --sklearn-color-unfitted-level-0: #fff5e6;\n",
       "  --sklearn-color-unfitted-level-1: #f6e4d2;\n",
       "  --sklearn-color-unfitted-level-2: #ffe0b3;\n",
       "  --sklearn-color-unfitted-level-3: chocolate;\n",
       "  /* Definition of color scheme for fitted estimators */\n",
       "  --sklearn-color-fitted-level-0: #f0f8ff;\n",
       "  --sklearn-color-fitted-level-1: #d4ebff;\n",
       "  --sklearn-color-fitted-level-2: #b3dbfd;\n",
       "  --sklearn-color-fitted-level-3: cornflowerblue;\n",
       "\n",
       "  /* Specific color for light theme */\n",
       "  --sklearn-color-text-on-default-background: var(--sg-text-color, var(--theme-code-foreground, var(--jp-content-font-color1, black)));\n",
       "  --sklearn-color-background: var(--sg-background-color, var(--theme-background, var(--jp-layout-color0, white)));\n",
       "  --sklearn-color-border-box: var(--sg-text-color, var(--theme-code-foreground, var(--jp-content-font-color1, black)));\n",
       "  --sklearn-color-icon: #696969;\n",
       "\n",
       "  @media (prefers-color-scheme: dark) {\n",
       "    /* Redefinition of color scheme for dark theme */\n",
       "    --sklearn-color-text-on-default-background: var(--sg-text-color, var(--theme-code-foreground, var(--jp-content-font-color1, white)));\n",
       "    --sklearn-color-background: var(--sg-background-color, var(--theme-background, var(--jp-layout-color0, #111)));\n",
       "    --sklearn-color-border-box: var(--sg-text-color, var(--theme-code-foreground, var(--jp-content-font-color1, white)));\n",
       "    --sklearn-color-icon: #878787;\n",
       "  }\n",
       "}\n",
       "\n",
       "#sk-container-id-5 {\n",
       "  color: var(--sklearn-color-text);\n",
       "}\n",
       "\n",
       "#sk-container-id-5 pre {\n",
       "  padding: 0;\n",
       "}\n",
       "\n",
       "#sk-container-id-5 input.sk-hidden--visually {\n",
       "  border: 0;\n",
       "  clip: rect(1px 1px 1px 1px);\n",
       "  clip: rect(1px, 1px, 1px, 1px);\n",
       "  height: 1px;\n",
       "  margin: -1px;\n",
       "  overflow: hidden;\n",
       "  padding: 0;\n",
       "  position: absolute;\n",
       "  width: 1px;\n",
       "}\n",
       "\n",
       "#sk-container-id-5 div.sk-dashed-wrapped {\n",
       "  border: 1px dashed var(--sklearn-color-line);\n",
       "  margin: 0 0.4em 0.5em 0.4em;\n",
       "  box-sizing: border-box;\n",
       "  padding-bottom: 0.4em;\n",
       "  background-color: var(--sklearn-color-background);\n",
       "}\n",
       "\n",
       "#sk-container-id-5 div.sk-container {\n",
       "  /* jupyter's `normalize.less` sets `[hidden] { display: none; }`\n",
       "     but bootstrap.min.css set `[hidden] { display: none !important; }`\n",
       "     so we also need the `!important` here to be able to override the\n",
       "     default hidden behavior on the sphinx rendered scikit-learn.org.\n",
       "     See: https://github.com/scikit-learn/scikit-learn/issues/21755 */\n",
       "  display: inline-block !important;\n",
       "  position: relative;\n",
       "}\n",
       "\n",
       "#sk-container-id-5 div.sk-text-repr-fallback {\n",
       "  display: none;\n",
       "}\n",
       "\n",
       "div.sk-parallel-item,\n",
       "div.sk-serial,\n",
       "div.sk-item {\n",
       "  /* draw centered vertical line to link estimators */\n",
       "  background-image: linear-gradient(var(--sklearn-color-text-on-default-background), var(--sklearn-color-text-on-default-background));\n",
       "  background-size: 2px 100%;\n",
       "  background-repeat: no-repeat;\n",
       "  background-position: center center;\n",
       "}\n",
       "\n",
       "/* Parallel-specific style estimator block */\n",
       "\n",
       "#sk-container-id-5 div.sk-parallel-item::after {\n",
       "  content: \"\";\n",
       "  width: 100%;\n",
       "  border-bottom: 2px solid var(--sklearn-color-text-on-default-background);\n",
       "  flex-grow: 1;\n",
       "}\n",
       "\n",
       "#sk-container-id-5 div.sk-parallel {\n",
       "  display: flex;\n",
       "  align-items: stretch;\n",
       "  justify-content: center;\n",
       "  background-color: var(--sklearn-color-background);\n",
       "  position: relative;\n",
       "}\n",
       "\n",
       "#sk-container-id-5 div.sk-parallel-item {\n",
       "  display: flex;\n",
       "  flex-direction: column;\n",
       "}\n",
       "\n",
       "#sk-container-id-5 div.sk-parallel-item:first-child::after {\n",
       "  align-self: flex-end;\n",
       "  width: 50%;\n",
       "}\n",
       "\n",
       "#sk-container-id-5 div.sk-parallel-item:last-child::after {\n",
       "  align-self: flex-start;\n",
       "  width: 50%;\n",
       "}\n",
       "\n",
       "#sk-container-id-5 div.sk-parallel-item:only-child::after {\n",
       "  width: 0;\n",
       "}\n",
       "\n",
       "/* Serial-specific style estimator block */\n",
       "\n",
       "#sk-container-id-5 div.sk-serial {\n",
       "  display: flex;\n",
       "  flex-direction: column;\n",
       "  align-items: center;\n",
       "  background-color: var(--sklearn-color-background);\n",
       "  padding-right: 1em;\n",
       "  padding-left: 1em;\n",
       "}\n",
       "\n",
       "\n",
       "/* Toggleable style: style used for estimator/Pipeline/ColumnTransformer box that is\n",
       "clickable and can be expanded/collapsed.\n",
       "- Pipeline and ColumnTransformer use this feature and define the default style\n",
       "- Estimators will overwrite some part of the style using the `sk-estimator` class\n",
       "*/\n",
       "\n",
       "/* Pipeline and ColumnTransformer style (default) */\n",
       "\n",
       "#sk-container-id-5 div.sk-toggleable {\n",
       "  /* Default theme specific background. It is overwritten whether we have a\n",
       "  specific estimator or a Pipeline/ColumnTransformer */\n",
       "  background-color: var(--sklearn-color-background);\n",
       "}\n",
       "\n",
       "/* Toggleable label */\n",
       "#sk-container-id-5 label.sk-toggleable__label {\n",
       "  cursor: pointer;\n",
       "  display: block;\n",
       "  width: 100%;\n",
       "  margin-bottom: 0;\n",
       "  padding: 0.5em;\n",
       "  box-sizing: border-box;\n",
       "  text-align: center;\n",
       "}\n",
       "\n",
       "#sk-container-id-5 label.sk-toggleable__label-arrow:before {\n",
       "  /* Arrow on the left of the label */\n",
       "  content: \"▸\";\n",
       "  float: left;\n",
       "  margin-right: 0.25em;\n",
       "  color: var(--sklearn-color-icon);\n",
       "}\n",
       "\n",
       "#sk-container-id-5 label.sk-toggleable__label-arrow:hover:before {\n",
       "  color: var(--sklearn-color-text);\n",
       "}\n",
       "\n",
       "/* Toggleable content - dropdown */\n",
       "\n",
       "#sk-container-id-5 div.sk-toggleable__content {\n",
       "  max-height: 0;\n",
       "  max-width: 0;\n",
       "  overflow: hidden;\n",
       "  text-align: left;\n",
       "  /* unfitted */\n",
       "  background-color: var(--sklearn-color-unfitted-level-0);\n",
       "}\n",
       "\n",
       "#sk-container-id-5 div.sk-toggleable__content.fitted {\n",
       "  /* fitted */\n",
       "  background-color: var(--sklearn-color-fitted-level-0);\n",
       "}\n",
       "\n",
       "#sk-container-id-5 div.sk-toggleable__content pre {\n",
       "  margin: 0.2em;\n",
       "  border-radius: 0.25em;\n",
       "  color: var(--sklearn-color-text);\n",
       "  /* unfitted */\n",
       "  background-color: var(--sklearn-color-unfitted-level-0);\n",
       "}\n",
       "\n",
       "#sk-container-id-5 div.sk-toggleable__content.fitted pre {\n",
       "  /* unfitted */\n",
       "  background-color: var(--sklearn-color-fitted-level-0);\n",
       "}\n",
       "\n",
       "#sk-container-id-5 input.sk-toggleable__control:checked~div.sk-toggleable__content {\n",
       "  /* Expand drop-down */\n",
       "  max-height: 200px;\n",
       "  max-width: 100%;\n",
       "  overflow: auto;\n",
       "}\n",
       "\n",
       "#sk-container-id-5 input.sk-toggleable__control:checked~label.sk-toggleable__label-arrow:before {\n",
       "  content: \"▾\";\n",
       "}\n",
       "\n",
       "/* Pipeline/ColumnTransformer-specific style */\n",
       "\n",
       "#sk-container-id-5 div.sk-label input.sk-toggleable__control:checked~label.sk-toggleable__label {\n",
       "  color: var(--sklearn-color-text);\n",
       "  background-color: var(--sklearn-color-unfitted-level-2);\n",
       "}\n",
       "\n",
       "#sk-container-id-5 div.sk-label.fitted input.sk-toggleable__control:checked~label.sk-toggleable__label {\n",
       "  background-color: var(--sklearn-color-fitted-level-2);\n",
       "}\n",
       "\n",
       "/* Estimator-specific style */\n",
       "\n",
       "/* Colorize estimator box */\n",
       "#sk-container-id-5 div.sk-estimator input.sk-toggleable__control:checked~label.sk-toggleable__label {\n",
       "  /* unfitted */\n",
       "  background-color: var(--sklearn-color-unfitted-level-2);\n",
       "}\n",
       "\n",
       "#sk-container-id-5 div.sk-estimator.fitted input.sk-toggleable__control:checked~label.sk-toggleable__label {\n",
       "  /* fitted */\n",
       "  background-color: var(--sklearn-color-fitted-level-2);\n",
       "}\n",
       "\n",
       "#sk-container-id-5 div.sk-label label.sk-toggleable__label,\n",
       "#sk-container-id-5 div.sk-label label {\n",
       "  /* The background is the default theme color */\n",
       "  color: var(--sklearn-color-text-on-default-background);\n",
       "}\n",
       "\n",
       "/* On hover, darken the color of the background */\n",
       "#sk-container-id-5 div.sk-label:hover label.sk-toggleable__label {\n",
       "  color: var(--sklearn-color-text);\n",
       "  background-color: var(--sklearn-color-unfitted-level-2);\n",
       "}\n",
       "\n",
       "/* Label box, darken color on hover, fitted */\n",
       "#sk-container-id-5 div.sk-label.fitted:hover label.sk-toggleable__label.fitted {\n",
       "  color: var(--sklearn-color-text);\n",
       "  background-color: var(--sklearn-color-fitted-level-2);\n",
       "}\n",
       "\n",
       "/* Estimator label */\n",
       "\n",
       "#sk-container-id-5 div.sk-label label {\n",
       "  font-family: monospace;\n",
       "  font-weight: bold;\n",
       "  display: inline-block;\n",
       "  line-height: 1.2em;\n",
       "}\n",
       "\n",
       "#sk-container-id-5 div.sk-label-container {\n",
       "  text-align: center;\n",
       "}\n",
       "\n",
       "/* Estimator-specific */\n",
       "#sk-container-id-5 div.sk-estimator {\n",
       "  font-family: monospace;\n",
       "  border: 1px dotted var(--sklearn-color-border-box);\n",
       "  border-radius: 0.25em;\n",
       "  box-sizing: border-box;\n",
       "  margin-bottom: 0.5em;\n",
       "  /* unfitted */\n",
       "  background-color: var(--sklearn-color-unfitted-level-0);\n",
       "}\n",
       "\n",
       "#sk-container-id-5 div.sk-estimator.fitted {\n",
       "  /* fitted */\n",
       "  background-color: var(--sklearn-color-fitted-level-0);\n",
       "}\n",
       "\n",
       "/* on hover */\n",
       "#sk-container-id-5 div.sk-estimator:hover {\n",
       "  /* unfitted */\n",
       "  background-color: var(--sklearn-color-unfitted-level-2);\n",
       "}\n",
       "\n",
       "#sk-container-id-5 div.sk-estimator.fitted:hover {\n",
       "  /* fitted */\n",
       "  background-color: var(--sklearn-color-fitted-level-2);\n",
       "}\n",
       "\n",
       "/* Specification for estimator info (e.g. \"i\" and \"?\") */\n",
       "\n",
       "/* Common style for \"i\" and \"?\" */\n",
       "\n",
       ".sk-estimator-doc-link,\n",
       "a:link.sk-estimator-doc-link,\n",
       "a:visited.sk-estimator-doc-link {\n",
       "  float: right;\n",
       "  font-size: smaller;\n",
       "  line-height: 1em;\n",
       "  font-family: monospace;\n",
       "  background-color: var(--sklearn-color-background);\n",
       "  border-radius: 1em;\n",
       "  height: 1em;\n",
       "  width: 1em;\n",
       "  text-decoration: none !important;\n",
       "  margin-left: 1ex;\n",
       "  /* unfitted */\n",
       "  border: var(--sklearn-color-unfitted-level-1) 1pt solid;\n",
       "  color: var(--sklearn-color-unfitted-level-1);\n",
       "}\n",
       "\n",
       ".sk-estimator-doc-link.fitted,\n",
       "a:link.sk-estimator-doc-link.fitted,\n",
       "a:visited.sk-estimator-doc-link.fitted {\n",
       "  /* fitted */\n",
       "  border: var(--sklearn-color-fitted-level-1) 1pt solid;\n",
       "  color: var(--sklearn-color-fitted-level-1);\n",
       "}\n",
       "\n",
       "/* On hover */\n",
       "div.sk-estimator:hover .sk-estimator-doc-link:hover,\n",
       ".sk-estimator-doc-link:hover,\n",
       "div.sk-label-container:hover .sk-estimator-doc-link:hover,\n",
       ".sk-estimator-doc-link:hover {\n",
       "  /* unfitted */\n",
       "  background-color: var(--sklearn-color-unfitted-level-3);\n",
       "  color: var(--sklearn-color-background);\n",
       "  text-decoration: none;\n",
       "}\n",
       "\n",
       "div.sk-estimator.fitted:hover .sk-estimator-doc-link.fitted:hover,\n",
       ".sk-estimator-doc-link.fitted:hover,\n",
       "div.sk-label-container:hover .sk-estimator-doc-link.fitted:hover,\n",
       ".sk-estimator-doc-link.fitted:hover {\n",
       "  /* fitted */\n",
       "  background-color: var(--sklearn-color-fitted-level-3);\n",
       "  color: var(--sklearn-color-background);\n",
       "  text-decoration: none;\n",
       "}\n",
       "\n",
       "/* Span, style for the box shown on hovering the info icon */\n",
       ".sk-estimator-doc-link span {\n",
       "  display: none;\n",
       "  z-index: 9999;\n",
       "  position: relative;\n",
       "  font-weight: normal;\n",
       "  right: .2ex;\n",
       "  padding: .5ex;\n",
       "  margin: .5ex;\n",
       "  width: min-content;\n",
       "  min-width: 20ex;\n",
       "  max-width: 50ex;\n",
       "  color: var(--sklearn-color-text);\n",
       "  box-shadow: 2pt 2pt 4pt #999;\n",
       "  /* unfitted */\n",
       "  background: var(--sklearn-color-unfitted-level-0);\n",
       "  border: .5pt solid var(--sklearn-color-unfitted-level-3);\n",
       "}\n",
       "\n",
       ".sk-estimator-doc-link.fitted span {\n",
       "  /* fitted */\n",
       "  background: var(--sklearn-color-fitted-level-0);\n",
       "  border: var(--sklearn-color-fitted-level-3);\n",
       "}\n",
       "\n",
       ".sk-estimator-doc-link:hover span {\n",
       "  display: block;\n",
       "}\n",
       "\n",
       "/* \"?\"-specific style due to the `<a>` HTML tag */\n",
       "\n",
       "#sk-container-id-5 a.estimator_doc_link {\n",
       "  float: right;\n",
       "  font-size: 1rem;\n",
       "  line-height: 1em;\n",
       "  font-family: monospace;\n",
       "  background-color: var(--sklearn-color-background);\n",
       "  border-radius: 1rem;\n",
       "  height: 1rem;\n",
       "  width: 1rem;\n",
       "  text-decoration: none;\n",
       "  /* unfitted */\n",
       "  color: var(--sklearn-color-unfitted-level-1);\n",
       "  border: var(--sklearn-color-unfitted-level-1) 1pt solid;\n",
       "}\n",
       "\n",
       "#sk-container-id-5 a.estimator_doc_link.fitted {\n",
       "  /* fitted */\n",
       "  border: var(--sklearn-color-fitted-level-1) 1pt solid;\n",
       "  color: var(--sklearn-color-fitted-level-1);\n",
       "}\n",
       "\n",
       "/* On hover */\n",
       "#sk-container-id-5 a.estimator_doc_link:hover {\n",
       "  /* unfitted */\n",
       "  background-color: var(--sklearn-color-unfitted-level-3);\n",
       "  color: var(--sklearn-color-background);\n",
       "  text-decoration: none;\n",
       "}\n",
       "\n",
       "#sk-container-id-5 a.estimator_doc_link.fitted:hover {\n",
       "  /* fitted */\n",
       "  background-color: var(--sklearn-color-fitted-level-3);\n",
       "}\n",
       "</style><div id=\"sk-container-id-5\" class=\"sk-top-container\"><div class=\"sk-text-repr-fallback\"><pre>LogisticRegression(random_state=1, solver=&#x27;liblinear&#x27;)</pre><b>In a Jupyter environment, please rerun this cell to show the HTML representation or trust the notebook. <br />On GitHub, the HTML representation is unable to render, please try loading this page with nbviewer.org.</b></div><div class=\"sk-container\" hidden><div class=\"sk-item\"><div class=\"sk-estimator fitted sk-toggleable\"><input class=\"sk-toggleable__control sk-hidden--visually\" id=\"sk-estimator-id-5\" type=\"checkbox\" checked><label for=\"sk-estimator-id-5\" class=\"sk-toggleable__label fitted sk-toggleable__label-arrow fitted\">&nbsp;&nbsp;LogisticRegression<a class=\"sk-estimator-doc-link fitted\" rel=\"noreferrer\" target=\"_blank\" href=\"https://scikit-learn.org/1.5/modules/generated/sklearn.linear_model.LogisticRegression.html\">?<span>Documentation for LogisticRegression</span></a><span class=\"sk-estimator-doc-link fitted\">i<span>Fitted</span></span></label><div class=\"sk-toggleable__content fitted\"><pre>LogisticRegression(random_state=1, solver=&#x27;liblinear&#x27;)</pre></div> </div></div></div></div>"
      ],
      "text/plain": [
       "LogisticRegression(random_state=1, solver='liblinear')"
      ]
     },
     "execution_count": 184,
     "metadata": {},
     "output_type": "execute_result"
    }
   ],
   "source": [
    "model.fit(X_train, y_train)"
   ]
  },
  {
   "cell_type": "code",
   "execution_count": 185,
   "metadata": {},
   "outputs": [
    {
     "name": "stdout",
     "output_type": "stream",
     "text": [
      "6.610395638665286e-05\n"
     ]
    }
   ],
   "source": [
    "# model intercept\n",
    "model_intercept = model.intercept_[0]\n",
    "print(model_intercept)"
   ]
  },
  {
   "cell_type": "code",
   "execution_count": 186,
   "metadata": {},
   "outputs": [
    {
     "name": "stdout",
     "output_type": "stream",
     "text": [
      "[-0.728  0.766 -0.037 ... -0.917 -0.17  -0.754]\n"
     ]
    }
   ],
   "source": [
    "# model coef\n",
    "model_coefiecient = model.coef_[0].round(3)\n",
    "print(model_coefiecient)"
   ]
  },
  {
   "cell_type": "markdown",
   "metadata": {},
   "source": [
    "### Making Predictions (Inference)"
   ]
  },
  {
   "cell_type": "code",
   "execution_count": 187,
   "metadata": {},
   "outputs": [
    {
     "data": {
      "text/plain": [
       "array([[0.07747036, 0.92252964],\n",
       "       [0.00152526, 0.99847474],\n",
       "       [0.00117144, 0.99882856],\n",
       "       ...,\n",
       "       [0.0128732 , 0.9871268 ],\n",
       "       [0.97286719, 0.02713281],\n",
       "       [0.01302524, 0.98697476]])"
      ]
     },
     "execution_count": 187,
     "metadata": {},
     "output_type": "execute_result"
    }
   ],
   "source": [
    "# predictiing the dependent variable \n",
    "y_pred = model.predict_proba(X_val)\n",
    "y_pred"
   ]
  },
  {
   "cell_type": "code",
   "execution_count": 188,
   "metadata": {},
   "outputs": [
    {
     "data": {
      "text/plain": [
       "array([0.92252964, 0.99847474, 0.99882856, ..., 0.9871268 , 0.02713281,\n",
       "       0.98697476])"
      ]
     },
     "execution_count": 188,
     "metadata": {},
     "output_type": "execute_result"
    }
   ],
   "source": [
    "# model prediction focusing on the soft prediction\n",
    "y_pred = model.predict_proba(X_val)[:, 1]\n",
    "y_pred"
   ]
  },
  {
   "cell_type": "code",
   "execution_count": 189,
   "metadata": {},
   "outputs": [],
   "source": [
    "# setting the threshold to 0.5\n",
    "profit_decision = (y_pred >= 0.5)"
   ]
  },
  {
   "cell_type": "code",
   "execution_count": 190,
   "metadata": {},
   "outputs": [
    {
     "name": "stdout",
     "output_type": "stream",
     "text": [
      "0.9724862431215607\n"
     ]
    }
   ],
   "source": [
    "# checking the accuracy of the model\n",
    "print((y_val == profit_decision).mean())"
   ]
  },
  {
   "cell_type": "code",
   "execution_count": 191,
   "metadata": {},
   "outputs": [],
   "source": [
    "df_pred = pd.DataFrame()\n",
    "df_pred['probability'] = y_pred\n",
    "df_pred['prediction'] = profit_decision.astype(int)\n",
    "df_pred['actual'] = y_val"
   ]
  },
  {
   "cell_type": "code",
   "execution_count": 192,
   "metadata": {},
   "outputs": [
    {
     "data": {
      "text/html": [
       "<div>\n",
       "<style scoped>\n",
       "    .dataframe tbody tr th:only-of-type {\n",
       "        vertical-align: middle;\n",
       "    }\n",
       "\n",
       "    .dataframe tbody tr th {\n",
       "        vertical-align: top;\n",
       "    }\n",
       "\n",
       "    .dataframe thead th {\n",
       "        text-align: right;\n",
       "    }\n",
       "</style>\n",
       "<table border=\"1\" class=\"dataframe\">\n",
       "  <thead>\n",
       "    <tr style=\"text-align: right;\">\n",
       "      <th></th>\n",
       "      <th>probability</th>\n",
       "      <th>prediction</th>\n",
       "      <th>actual</th>\n",
       "    </tr>\n",
       "  </thead>\n",
       "  <tbody>\n",
       "    <tr>\n",
       "      <th>0</th>\n",
       "      <td>0.922530</td>\n",
       "      <td>1</td>\n",
       "      <td>1</td>\n",
       "    </tr>\n",
       "    <tr>\n",
       "      <th>1</th>\n",
       "      <td>0.998475</td>\n",
       "      <td>1</td>\n",
       "      <td>1</td>\n",
       "    </tr>\n",
       "    <tr>\n",
       "      <th>2</th>\n",
       "      <td>0.998829</td>\n",
       "      <td>1</td>\n",
       "      <td>1</td>\n",
       "    </tr>\n",
       "    <tr>\n",
       "      <th>3</th>\n",
       "      <td>0.999453</td>\n",
       "      <td>1</td>\n",
       "      <td>1</td>\n",
       "    </tr>\n",
       "    <tr>\n",
       "      <th>4</th>\n",
       "      <td>0.938189</td>\n",
       "      <td>1</td>\n",
       "      <td>1</td>\n",
       "    </tr>\n",
       "    <tr>\n",
       "      <th>...</th>\n",
       "      <td>...</td>\n",
       "      <td>...</td>\n",
       "      <td>...</td>\n",
       "    </tr>\n",
       "    <tr>\n",
       "      <th>1994</th>\n",
       "      <td>0.864412</td>\n",
       "      <td>1</td>\n",
       "      <td>1</td>\n",
       "    </tr>\n",
       "    <tr>\n",
       "      <th>1995</th>\n",
       "      <td>0.969993</td>\n",
       "      <td>1</td>\n",
       "      <td>1</td>\n",
       "    </tr>\n",
       "    <tr>\n",
       "      <th>1996</th>\n",
       "      <td>0.987127</td>\n",
       "      <td>1</td>\n",
       "      <td>1</td>\n",
       "    </tr>\n",
       "    <tr>\n",
       "      <th>1997</th>\n",
       "      <td>0.027133</td>\n",
       "      <td>0</td>\n",
       "      <td>0</td>\n",
       "    </tr>\n",
       "    <tr>\n",
       "      <th>1998</th>\n",
       "      <td>0.986975</td>\n",
       "      <td>1</td>\n",
       "      <td>1</td>\n",
       "    </tr>\n",
       "  </tbody>\n",
       "</table>\n",
       "<p>1999 rows × 3 columns</p>\n",
       "</div>"
      ],
      "text/plain": [
       "      probability  prediction  actual\n",
       "0        0.922530           1       1\n",
       "1        0.998475           1       1\n",
       "2        0.998829           1       1\n",
       "3        0.999453           1       1\n",
       "4        0.938189           1       1\n",
       "...           ...         ...     ...\n",
       "1994     0.864412           1       1\n",
       "1995     0.969993           1       1\n",
       "1996     0.987127           1       1\n",
       "1997     0.027133           0       0\n",
       "1998     0.986975           1       1\n",
       "\n",
       "[1999 rows x 3 columns]"
      ]
     },
     "execution_count": 192,
     "metadata": {},
     "output_type": "execute_result"
    }
   ],
   "source": [
    "df_pred"
   ]
  },
  {
   "cell_type": "markdown",
   "metadata": {},
   "source": [
    "### Using the model to make predictions"
   ]
  },
  {
   "cell_type": "code",
   "execution_count": 193,
   "metadata": {},
   "outputs": [],
   "source": [
    "dicts_train_full = df_train_full[categorical_columns + numerical_columns].to_dict(orient='records')"
   ]
  },
  {
   "cell_type": "code",
   "execution_count": 194,
   "metadata": {},
   "outputs": [],
   "source": [
    "dv = DictVectorizer(sparse=False)\n",
    "X_train_full = dv.fit_transform(dicts_train_full)"
   ]
  },
  {
   "cell_type": "code",
   "execution_count": 195,
   "metadata": {},
   "outputs": [],
   "source": [
    "y_train_full = df_train_full.profit.values"
   ]
  },
  {
   "cell_type": "code",
   "execution_count": 196,
   "metadata": {},
   "outputs": [
    {
     "data": {
      "text/html": [
       "<style>#sk-container-id-6 {\n",
       "  /* Definition of color scheme common for light and dark mode */\n",
       "  --sklearn-color-text: black;\n",
       "  --sklearn-color-line: gray;\n",
       "  /* Definition of color scheme for unfitted estimators */\n",
       "  --sklearn-color-unfitted-level-0: #fff5e6;\n",
       "  --sklearn-color-unfitted-level-1: #f6e4d2;\n",
       "  --sklearn-color-unfitted-level-2: #ffe0b3;\n",
       "  --sklearn-color-unfitted-level-3: chocolate;\n",
       "  /* Definition of color scheme for fitted estimators */\n",
       "  --sklearn-color-fitted-level-0: #f0f8ff;\n",
       "  --sklearn-color-fitted-level-1: #d4ebff;\n",
       "  --sklearn-color-fitted-level-2: #b3dbfd;\n",
       "  --sklearn-color-fitted-level-3: cornflowerblue;\n",
       "\n",
       "  /* Specific color for light theme */\n",
       "  --sklearn-color-text-on-default-background: var(--sg-text-color, var(--theme-code-foreground, var(--jp-content-font-color1, black)));\n",
       "  --sklearn-color-background: var(--sg-background-color, var(--theme-background, var(--jp-layout-color0, white)));\n",
       "  --sklearn-color-border-box: var(--sg-text-color, var(--theme-code-foreground, var(--jp-content-font-color1, black)));\n",
       "  --sklearn-color-icon: #696969;\n",
       "\n",
       "  @media (prefers-color-scheme: dark) {\n",
       "    /* Redefinition of color scheme for dark theme */\n",
       "    --sklearn-color-text-on-default-background: var(--sg-text-color, var(--theme-code-foreground, var(--jp-content-font-color1, white)));\n",
       "    --sklearn-color-background: var(--sg-background-color, var(--theme-background, var(--jp-layout-color0, #111)));\n",
       "    --sklearn-color-border-box: var(--sg-text-color, var(--theme-code-foreground, var(--jp-content-font-color1, white)));\n",
       "    --sklearn-color-icon: #878787;\n",
       "  }\n",
       "}\n",
       "\n",
       "#sk-container-id-6 {\n",
       "  color: var(--sklearn-color-text);\n",
       "}\n",
       "\n",
       "#sk-container-id-6 pre {\n",
       "  padding: 0;\n",
       "}\n",
       "\n",
       "#sk-container-id-6 input.sk-hidden--visually {\n",
       "  border: 0;\n",
       "  clip: rect(1px 1px 1px 1px);\n",
       "  clip: rect(1px, 1px, 1px, 1px);\n",
       "  height: 1px;\n",
       "  margin: -1px;\n",
       "  overflow: hidden;\n",
       "  padding: 0;\n",
       "  position: absolute;\n",
       "  width: 1px;\n",
       "}\n",
       "\n",
       "#sk-container-id-6 div.sk-dashed-wrapped {\n",
       "  border: 1px dashed var(--sklearn-color-line);\n",
       "  margin: 0 0.4em 0.5em 0.4em;\n",
       "  box-sizing: border-box;\n",
       "  padding-bottom: 0.4em;\n",
       "  background-color: var(--sklearn-color-background);\n",
       "}\n",
       "\n",
       "#sk-container-id-6 div.sk-container {\n",
       "  /* jupyter's `normalize.less` sets `[hidden] { display: none; }`\n",
       "     but bootstrap.min.css set `[hidden] { display: none !important; }`\n",
       "     so we also need the `!important` here to be able to override the\n",
       "     default hidden behavior on the sphinx rendered scikit-learn.org.\n",
       "     See: https://github.com/scikit-learn/scikit-learn/issues/21755 */\n",
       "  display: inline-block !important;\n",
       "  position: relative;\n",
       "}\n",
       "\n",
       "#sk-container-id-6 div.sk-text-repr-fallback {\n",
       "  display: none;\n",
       "}\n",
       "\n",
       "div.sk-parallel-item,\n",
       "div.sk-serial,\n",
       "div.sk-item {\n",
       "  /* draw centered vertical line to link estimators */\n",
       "  background-image: linear-gradient(var(--sklearn-color-text-on-default-background), var(--sklearn-color-text-on-default-background));\n",
       "  background-size: 2px 100%;\n",
       "  background-repeat: no-repeat;\n",
       "  background-position: center center;\n",
       "}\n",
       "\n",
       "/* Parallel-specific style estimator block */\n",
       "\n",
       "#sk-container-id-6 div.sk-parallel-item::after {\n",
       "  content: \"\";\n",
       "  width: 100%;\n",
       "  border-bottom: 2px solid var(--sklearn-color-text-on-default-background);\n",
       "  flex-grow: 1;\n",
       "}\n",
       "\n",
       "#sk-container-id-6 div.sk-parallel {\n",
       "  display: flex;\n",
       "  align-items: stretch;\n",
       "  justify-content: center;\n",
       "  background-color: var(--sklearn-color-background);\n",
       "  position: relative;\n",
       "}\n",
       "\n",
       "#sk-container-id-6 div.sk-parallel-item {\n",
       "  display: flex;\n",
       "  flex-direction: column;\n",
       "}\n",
       "\n",
       "#sk-container-id-6 div.sk-parallel-item:first-child::after {\n",
       "  align-self: flex-end;\n",
       "  width: 50%;\n",
       "}\n",
       "\n",
       "#sk-container-id-6 div.sk-parallel-item:last-child::after {\n",
       "  align-self: flex-start;\n",
       "  width: 50%;\n",
       "}\n",
       "\n",
       "#sk-container-id-6 div.sk-parallel-item:only-child::after {\n",
       "  width: 0;\n",
       "}\n",
       "\n",
       "/* Serial-specific style estimator block */\n",
       "\n",
       "#sk-container-id-6 div.sk-serial {\n",
       "  display: flex;\n",
       "  flex-direction: column;\n",
       "  align-items: center;\n",
       "  background-color: var(--sklearn-color-background);\n",
       "  padding-right: 1em;\n",
       "  padding-left: 1em;\n",
       "}\n",
       "\n",
       "\n",
       "/* Toggleable style: style used for estimator/Pipeline/ColumnTransformer box that is\n",
       "clickable and can be expanded/collapsed.\n",
       "- Pipeline and ColumnTransformer use this feature and define the default style\n",
       "- Estimators will overwrite some part of the style using the `sk-estimator` class\n",
       "*/\n",
       "\n",
       "/* Pipeline and ColumnTransformer style (default) */\n",
       "\n",
       "#sk-container-id-6 div.sk-toggleable {\n",
       "  /* Default theme specific background. It is overwritten whether we have a\n",
       "  specific estimator or a Pipeline/ColumnTransformer */\n",
       "  background-color: var(--sklearn-color-background);\n",
       "}\n",
       "\n",
       "/* Toggleable label */\n",
       "#sk-container-id-6 label.sk-toggleable__label {\n",
       "  cursor: pointer;\n",
       "  display: block;\n",
       "  width: 100%;\n",
       "  margin-bottom: 0;\n",
       "  padding: 0.5em;\n",
       "  box-sizing: border-box;\n",
       "  text-align: center;\n",
       "}\n",
       "\n",
       "#sk-container-id-6 label.sk-toggleable__label-arrow:before {\n",
       "  /* Arrow on the left of the label */\n",
       "  content: \"▸\";\n",
       "  float: left;\n",
       "  margin-right: 0.25em;\n",
       "  color: var(--sklearn-color-icon);\n",
       "}\n",
       "\n",
       "#sk-container-id-6 label.sk-toggleable__label-arrow:hover:before {\n",
       "  color: var(--sklearn-color-text);\n",
       "}\n",
       "\n",
       "/* Toggleable content - dropdown */\n",
       "\n",
       "#sk-container-id-6 div.sk-toggleable__content {\n",
       "  max-height: 0;\n",
       "  max-width: 0;\n",
       "  overflow: hidden;\n",
       "  text-align: left;\n",
       "  /* unfitted */\n",
       "  background-color: var(--sklearn-color-unfitted-level-0);\n",
       "}\n",
       "\n",
       "#sk-container-id-6 div.sk-toggleable__content.fitted {\n",
       "  /* fitted */\n",
       "  background-color: var(--sklearn-color-fitted-level-0);\n",
       "}\n",
       "\n",
       "#sk-container-id-6 div.sk-toggleable__content pre {\n",
       "  margin: 0.2em;\n",
       "  border-radius: 0.25em;\n",
       "  color: var(--sklearn-color-text);\n",
       "  /* unfitted */\n",
       "  background-color: var(--sklearn-color-unfitted-level-0);\n",
       "}\n",
       "\n",
       "#sk-container-id-6 div.sk-toggleable__content.fitted pre {\n",
       "  /* unfitted */\n",
       "  background-color: var(--sklearn-color-fitted-level-0);\n",
       "}\n",
       "\n",
       "#sk-container-id-6 input.sk-toggleable__control:checked~div.sk-toggleable__content {\n",
       "  /* Expand drop-down */\n",
       "  max-height: 200px;\n",
       "  max-width: 100%;\n",
       "  overflow: auto;\n",
       "}\n",
       "\n",
       "#sk-container-id-6 input.sk-toggleable__control:checked~label.sk-toggleable__label-arrow:before {\n",
       "  content: \"▾\";\n",
       "}\n",
       "\n",
       "/* Pipeline/ColumnTransformer-specific style */\n",
       "\n",
       "#sk-container-id-6 div.sk-label input.sk-toggleable__control:checked~label.sk-toggleable__label {\n",
       "  color: var(--sklearn-color-text);\n",
       "  background-color: var(--sklearn-color-unfitted-level-2);\n",
       "}\n",
       "\n",
       "#sk-container-id-6 div.sk-label.fitted input.sk-toggleable__control:checked~label.sk-toggleable__label {\n",
       "  background-color: var(--sklearn-color-fitted-level-2);\n",
       "}\n",
       "\n",
       "/* Estimator-specific style */\n",
       "\n",
       "/* Colorize estimator box */\n",
       "#sk-container-id-6 div.sk-estimator input.sk-toggleable__control:checked~label.sk-toggleable__label {\n",
       "  /* unfitted */\n",
       "  background-color: var(--sklearn-color-unfitted-level-2);\n",
       "}\n",
       "\n",
       "#sk-container-id-6 div.sk-estimator.fitted input.sk-toggleable__control:checked~label.sk-toggleable__label {\n",
       "  /* fitted */\n",
       "  background-color: var(--sklearn-color-fitted-level-2);\n",
       "}\n",
       "\n",
       "#sk-container-id-6 div.sk-label label.sk-toggleable__label,\n",
       "#sk-container-id-6 div.sk-label label {\n",
       "  /* The background is the default theme color */\n",
       "  color: var(--sklearn-color-text-on-default-background);\n",
       "}\n",
       "\n",
       "/* On hover, darken the color of the background */\n",
       "#sk-container-id-6 div.sk-label:hover label.sk-toggleable__label {\n",
       "  color: var(--sklearn-color-text);\n",
       "  background-color: var(--sklearn-color-unfitted-level-2);\n",
       "}\n",
       "\n",
       "/* Label box, darken color on hover, fitted */\n",
       "#sk-container-id-6 div.sk-label.fitted:hover label.sk-toggleable__label.fitted {\n",
       "  color: var(--sklearn-color-text);\n",
       "  background-color: var(--sklearn-color-fitted-level-2);\n",
       "}\n",
       "\n",
       "/* Estimator label */\n",
       "\n",
       "#sk-container-id-6 div.sk-label label {\n",
       "  font-family: monospace;\n",
       "  font-weight: bold;\n",
       "  display: inline-block;\n",
       "  line-height: 1.2em;\n",
       "}\n",
       "\n",
       "#sk-container-id-6 div.sk-label-container {\n",
       "  text-align: center;\n",
       "}\n",
       "\n",
       "/* Estimator-specific */\n",
       "#sk-container-id-6 div.sk-estimator {\n",
       "  font-family: monospace;\n",
       "  border: 1px dotted var(--sklearn-color-border-box);\n",
       "  border-radius: 0.25em;\n",
       "  box-sizing: border-box;\n",
       "  margin-bottom: 0.5em;\n",
       "  /* unfitted */\n",
       "  background-color: var(--sklearn-color-unfitted-level-0);\n",
       "}\n",
       "\n",
       "#sk-container-id-6 div.sk-estimator.fitted {\n",
       "  /* fitted */\n",
       "  background-color: var(--sklearn-color-fitted-level-0);\n",
       "}\n",
       "\n",
       "/* on hover */\n",
       "#sk-container-id-6 div.sk-estimator:hover {\n",
       "  /* unfitted */\n",
       "  background-color: var(--sklearn-color-unfitted-level-2);\n",
       "}\n",
       "\n",
       "#sk-container-id-6 div.sk-estimator.fitted:hover {\n",
       "  /* fitted */\n",
       "  background-color: var(--sklearn-color-fitted-level-2);\n",
       "}\n",
       "\n",
       "/* Specification for estimator info (e.g. \"i\" and \"?\") */\n",
       "\n",
       "/* Common style for \"i\" and \"?\" */\n",
       "\n",
       ".sk-estimator-doc-link,\n",
       "a:link.sk-estimator-doc-link,\n",
       "a:visited.sk-estimator-doc-link {\n",
       "  float: right;\n",
       "  font-size: smaller;\n",
       "  line-height: 1em;\n",
       "  font-family: monospace;\n",
       "  background-color: var(--sklearn-color-background);\n",
       "  border-radius: 1em;\n",
       "  height: 1em;\n",
       "  width: 1em;\n",
       "  text-decoration: none !important;\n",
       "  margin-left: 1ex;\n",
       "  /* unfitted */\n",
       "  border: var(--sklearn-color-unfitted-level-1) 1pt solid;\n",
       "  color: var(--sklearn-color-unfitted-level-1);\n",
       "}\n",
       "\n",
       ".sk-estimator-doc-link.fitted,\n",
       "a:link.sk-estimator-doc-link.fitted,\n",
       "a:visited.sk-estimator-doc-link.fitted {\n",
       "  /* fitted */\n",
       "  border: var(--sklearn-color-fitted-level-1) 1pt solid;\n",
       "  color: var(--sklearn-color-fitted-level-1);\n",
       "}\n",
       "\n",
       "/* On hover */\n",
       "div.sk-estimator:hover .sk-estimator-doc-link:hover,\n",
       ".sk-estimator-doc-link:hover,\n",
       "div.sk-label-container:hover .sk-estimator-doc-link:hover,\n",
       ".sk-estimator-doc-link:hover {\n",
       "  /* unfitted */\n",
       "  background-color: var(--sklearn-color-unfitted-level-3);\n",
       "  color: var(--sklearn-color-background);\n",
       "  text-decoration: none;\n",
       "}\n",
       "\n",
       "div.sk-estimator.fitted:hover .sk-estimator-doc-link.fitted:hover,\n",
       ".sk-estimator-doc-link.fitted:hover,\n",
       "div.sk-label-container:hover .sk-estimator-doc-link.fitted:hover,\n",
       ".sk-estimator-doc-link.fitted:hover {\n",
       "  /* fitted */\n",
       "  background-color: var(--sklearn-color-fitted-level-3);\n",
       "  color: var(--sklearn-color-background);\n",
       "  text-decoration: none;\n",
       "}\n",
       "\n",
       "/* Span, style for the box shown on hovering the info icon */\n",
       ".sk-estimator-doc-link span {\n",
       "  display: none;\n",
       "  z-index: 9999;\n",
       "  position: relative;\n",
       "  font-weight: normal;\n",
       "  right: .2ex;\n",
       "  padding: .5ex;\n",
       "  margin: .5ex;\n",
       "  width: min-content;\n",
       "  min-width: 20ex;\n",
       "  max-width: 50ex;\n",
       "  color: var(--sklearn-color-text);\n",
       "  box-shadow: 2pt 2pt 4pt #999;\n",
       "  /* unfitted */\n",
       "  background: var(--sklearn-color-unfitted-level-0);\n",
       "  border: .5pt solid var(--sklearn-color-unfitted-level-3);\n",
       "}\n",
       "\n",
       ".sk-estimator-doc-link.fitted span {\n",
       "  /* fitted */\n",
       "  background: var(--sklearn-color-fitted-level-0);\n",
       "  border: var(--sklearn-color-fitted-level-3);\n",
       "}\n",
       "\n",
       ".sk-estimator-doc-link:hover span {\n",
       "  display: block;\n",
       "}\n",
       "\n",
       "/* \"?\"-specific style due to the `<a>` HTML tag */\n",
       "\n",
       "#sk-container-id-6 a.estimator_doc_link {\n",
       "  float: right;\n",
       "  font-size: 1rem;\n",
       "  line-height: 1em;\n",
       "  font-family: monospace;\n",
       "  background-color: var(--sklearn-color-background);\n",
       "  border-radius: 1rem;\n",
       "  height: 1rem;\n",
       "  width: 1rem;\n",
       "  text-decoration: none;\n",
       "  /* unfitted */\n",
       "  color: var(--sklearn-color-unfitted-level-1);\n",
       "  border: var(--sklearn-color-unfitted-level-1) 1pt solid;\n",
       "}\n",
       "\n",
       "#sk-container-id-6 a.estimator_doc_link.fitted {\n",
       "  /* fitted */\n",
       "  border: var(--sklearn-color-fitted-level-1) 1pt solid;\n",
       "  color: var(--sklearn-color-fitted-level-1);\n",
       "}\n",
       "\n",
       "/* On hover */\n",
       "#sk-container-id-6 a.estimator_doc_link:hover {\n",
       "  /* unfitted */\n",
       "  background-color: var(--sklearn-color-unfitted-level-3);\n",
       "  color: var(--sklearn-color-background);\n",
       "  text-decoration: none;\n",
       "}\n",
       "\n",
       "#sk-container-id-6 a.estimator_doc_link.fitted:hover {\n",
       "  /* fitted */\n",
       "  background-color: var(--sklearn-color-fitted-level-3);\n",
       "}\n",
       "</style><div id=\"sk-container-id-6\" class=\"sk-top-container\"><div class=\"sk-text-repr-fallback\"><pre>LogisticRegression(random_state=1, solver=&#x27;liblinear&#x27;)</pre><b>In a Jupyter environment, please rerun this cell to show the HTML representation or trust the notebook. <br />On GitHub, the HTML representation is unable to render, please try loading this page with nbviewer.org.</b></div><div class=\"sk-container\" hidden><div class=\"sk-item\"><div class=\"sk-estimator fitted sk-toggleable\"><input class=\"sk-toggleable__control sk-hidden--visually\" id=\"sk-estimator-id-6\" type=\"checkbox\" checked><label for=\"sk-estimator-id-6\" class=\"sk-toggleable__label fitted sk-toggleable__label-arrow fitted\">&nbsp;&nbsp;LogisticRegression<a class=\"sk-estimator-doc-link fitted\" rel=\"noreferrer\" target=\"_blank\" href=\"https://scikit-learn.org/1.5/modules/generated/sklearn.linear_model.LogisticRegression.html\">?<span>Documentation for LogisticRegression</span></a><span class=\"sk-estimator-doc-link fitted\">i<span>Fitted</span></span></label><div class=\"sk-toggleable__content fitted\"><pre>LogisticRegression(random_state=1, solver=&#x27;liblinear&#x27;)</pre></div> </div></div></div></div>"
      ],
      "text/plain": [
       "LogisticRegression(random_state=1, solver='liblinear')"
      ]
     },
     "execution_count": 196,
     "metadata": {},
     "output_type": "execute_result"
    }
   ],
   "source": [
    "model = LogisticRegression(solver='liblinear', random_state=1)\n",
    "model.fit(X_train_full, y_train_full)"
   ]
  },
  {
   "cell_type": "code",
   "execution_count": 197,
   "metadata": {},
   "outputs": [],
   "source": [
    "dicts_test = df_test[categorical_columns + numerical_columns].to_dict(orient='records')"
   ]
  },
  {
   "cell_type": "code",
   "execution_count": 198,
   "metadata": {},
   "outputs": [],
   "source": [
    "X_test = dv.transform(dicts_test)"
   ]
  },
  {
   "cell_type": "code",
   "execution_count": 199,
   "metadata": {},
   "outputs": [],
   "source": [
    "y_pred = model.predict_proba(X_test)[:, 1]"
   ]
  },
  {
   "cell_type": "code",
   "execution_count": 200,
   "metadata": {},
   "outputs": [],
   "source": [
    "profit_decision = (y_pred >= 0.5)"
   ]
  },
  {
   "cell_type": "code",
   "execution_count": 201,
   "metadata": {},
   "outputs": [
    {
     "name": "stdout",
     "output_type": "stream",
     "text": [
      "0.7073536768384192\n"
     ]
    }
   ],
   "source": [
    "# checking the accuracy of the model\n",
    "print((y_val == profit_decision).mean())"
   ]
  },
  {
   "cell_type": "code",
   "execution_count": 202,
   "metadata": {},
   "outputs": [
    {
     "data": {
      "text/plain": [
       "array([0, 0, 0, ..., 0, 1, 1])"
      ]
     },
     "execution_count": 202,
     "metadata": {},
     "output_type": "execute_result"
    }
   ],
   "source": [
    "y_test"
   ]
  },
  {
   "cell_type": "code",
   "execution_count": 89,
   "metadata": {},
   "outputs": [
    {
     "data": {
      "text/html": [
       "<div>\n",
       "<style scoped>\n",
       "    .dataframe tbody tr th:only-of-type {\n",
       "        vertical-align: middle;\n",
       "    }\n",
       "\n",
       "    .dataframe tbody tr th {\n",
       "        vertical-align: top;\n",
       "    }\n",
       "\n",
       "    .dataframe thead th {\n",
       "        text-align: right;\n",
       "    }\n",
       "</style>\n",
       "<table border=\"1\" class=\"dataframe\">\n",
       "  <thead>\n",
       "    <tr style=\"text-align: right;\">\n",
       "      <th></th>\n",
       "      <th>order_id</th>\n",
       "      <th>order_date</th>\n",
       "      <th>ship_date</th>\n",
       "      <th>customer</th>\n",
       "      <th>manufactory</th>\n",
       "      <th>segment</th>\n",
       "      <th>category</th>\n",
       "      <th>subcategory</th>\n",
       "      <th>region</th>\n",
       "      <th>city</th>\n",
       "      <th>...</th>\n",
       "      <th>discount</th>\n",
       "      <th>profit</th>\n",
       "      <th>quantity</th>\n",
       "      <th>sales</th>\n",
       "      <th>profit_margin</th>\n",
       "      <th>order_year</th>\n",
       "      <th>order_month</th>\n",
       "      <th>ship_year</th>\n",
       "      <th>ship_month</th>\n",
       "      <th>product_name_encoded</th>\n",
       "    </tr>\n",
       "  </thead>\n",
       "  <tbody>\n",
       "    <tr>\n",
       "      <th>0</th>\n",
       "      <td>us-2020-103800</td>\n",
       "      <td>2019-01-03</td>\n",
       "      <td>2019-01-07</td>\n",
       "      <td>darren_powers</td>\n",
       "      <td>message_book</td>\n",
       "      <td>consumer</td>\n",
       "      <td>office_supplies</td>\n",
       "      <td>paper</td>\n",
       "      <td>central</td>\n",
       "      <td>houston</td>\n",
       "      <td>...</td>\n",
       "      <td>0.2</td>\n",
       "      <td>1</td>\n",
       "      <td>2</td>\n",
       "      <td>2.859225</td>\n",
       "      <td>0.3375</td>\n",
       "      <td>2019</td>\n",
       "      <td>1</td>\n",
       "      <td>2019</td>\n",
       "      <td>1</td>\n",
       "      <td>1086</td>\n",
       "    </tr>\n",
       "    <tr>\n",
       "      <th>1</th>\n",
       "      <td>us-2020-112326</td>\n",
       "      <td>2019-01-04</td>\n",
       "      <td>2019-01-08</td>\n",
       "      <td>phillina_ober</td>\n",
       "      <td>gbc</td>\n",
       "      <td>home_office</td>\n",
       "      <td>office_supplies</td>\n",
       "      <td>binders</td>\n",
       "      <td>central</td>\n",
       "      <td>naperville</td>\n",
       "      <td>...</td>\n",
       "      <td>0.8</td>\n",
       "      <td>0</td>\n",
       "      <td>2</td>\n",
       "      <td>1.512927</td>\n",
       "      <td>-1.5500</td>\n",
       "      <td>2019</td>\n",
       "      <td>1</td>\n",
       "      <td>2019</td>\n",
       "      <td>1</td>\n",
       "      <td>708</td>\n",
       "    </tr>\n",
       "    <tr>\n",
       "      <th>2</th>\n",
       "      <td>us-2020-112326</td>\n",
       "      <td>2019-01-04</td>\n",
       "      <td>2019-01-08</td>\n",
       "      <td>phillina_ober</td>\n",
       "      <td>avery</td>\n",
       "      <td>home_office</td>\n",
       "      <td>office_supplies</td>\n",
       "      <td>labels</td>\n",
       "      <td>central</td>\n",
       "      <td>naperville</td>\n",
       "      <td>...</td>\n",
       "      <td>0.2</td>\n",
       "      <td>1</td>\n",
       "      <td>3</td>\n",
       "      <td>2.548194</td>\n",
       "      <td>0.3625</td>\n",
       "      <td>2019</td>\n",
       "      <td>1</td>\n",
       "      <td>2019</td>\n",
       "      <td>1</td>\n",
       "      <td>217</td>\n",
       "    </tr>\n",
       "    <tr>\n",
       "      <th>3</th>\n",
       "      <td>us-2020-112326</td>\n",
       "      <td>2019-01-04</td>\n",
       "      <td>2019-01-08</td>\n",
       "      <td>phillina_ober</td>\n",
       "      <td>safco</td>\n",
       "      <td>home_office</td>\n",
       "      <td>office_supplies</td>\n",
       "      <td>storage</td>\n",
       "      <td>central</td>\n",
       "      <td>naperville</td>\n",
       "      <td>...</td>\n",
       "      <td>0.2</td>\n",
       "      <td>0</td>\n",
       "      <td>3</td>\n",
       "      <td>5.612164</td>\n",
       "      <td>-0.2375</td>\n",
       "      <td>2019</td>\n",
       "      <td>1</td>\n",
       "      <td>2019</td>\n",
       "      <td>1</td>\n",
       "      <td>1371</td>\n",
       "    </tr>\n",
       "    <tr>\n",
       "      <th>4</th>\n",
       "      <td>us-2020-141817</td>\n",
       "      <td>2019-01-05</td>\n",
       "      <td>2019-01-12</td>\n",
       "      <td>mick_brown</td>\n",
       "      <td>avery</td>\n",
       "      <td>consumer</td>\n",
       "      <td>office_supplies</td>\n",
       "      <td>art</td>\n",
       "      <td>east</td>\n",
       "      <td>philadelphia</td>\n",
       "      <td>...</td>\n",
       "      <td>0.2</td>\n",
       "      <td>1</td>\n",
       "      <td>3</td>\n",
       "      <td>3.022179</td>\n",
       "      <td>0.2500</td>\n",
       "      <td>2019</td>\n",
       "      <td>1</td>\n",
       "      <td>2019</td>\n",
       "      <td>1</td>\n",
       "      <td>250</td>\n",
       "    </tr>\n",
       "  </tbody>\n",
       "</table>\n",
       "<p>5 rows × 21 columns</p>\n",
       "</div>"
      ],
      "text/plain": [
       "         order_id order_date  ship_date       customer   manufactory  \\\n",
       "0  us-2020-103800 2019-01-03 2019-01-07  darren_powers  message_book   \n",
       "1  us-2020-112326 2019-01-04 2019-01-08  phillina_ober           gbc   \n",
       "2  us-2020-112326 2019-01-04 2019-01-08  phillina_ober         avery   \n",
       "3  us-2020-112326 2019-01-04 2019-01-08  phillina_ober         safco   \n",
       "4  us-2020-141817 2019-01-05 2019-01-12     mick_brown         avery   \n",
       "\n",
       "       segment         category subcategory   region          city  ...  \\\n",
       "0     consumer  office_supplies       paper  central       houston  ...   \n",
       "1  home_office  office_supplies     binders  central    naperville  ...   \n",
       "2  home_office  office_supplies      labels  central    naperville  ...   \n",
       "3  home_office  office_supplies     storage  central    naperville  ...   \n",
       "4     consumer  office_supplies         art     east  philadelphia  ...   \n",
       "\n",
       "  discount  profit  quantity     sales  profit_margin  order_year  \\\n",
       "0      0.2       1         2  2.859225         0.3375        2019   \n",
       "1      0.8       0         2  1.512927        -1.5500        2019   \n",
       "2      0.2       1         3  2.548194         0.3625        2019   \n",
       "3      0.2       0         3  5.612164        -0.2375        2019   \n",
       "4      0.2       1         3  3.022179         0.2500        2019   \n",
       "\n",
       "   order_month  ship_year  ship_month  product_name_encoded  \n",
       "0            1       2019           1                  1086  \n",
       "1            1       2019           1                   708  \n",
       "2            1       2019           1                   217  \n",
       "3            1       2019           1                  1371  \n",
       "4            1       2019           1                   250  \n",
       "\n",
       "[5 rows x 21 columns]"
      ]
     },
     "execution_count": 89,
     "metadata": {},
     "output_type": "execute_result"
    }
   ],
   "source": [
    "df.head()"
   ]
  },
  {
   "cell_type": "code",
   "execution_count": 85,
   "metadata": {},
   "outputs": [
    {
     "data": {
      "text/plain": [
       "{'order_id': 'us-2022-154403',\n",
       " 'customer': 'anne_pryor',\n",
       " 'manufactory': 'xerox',\n",
       " 'product_name_encoded': 1743,\n",
       " 'segment': 'home_office',\n",
       " 'category': 'office_supplies',\n",
       " 'subcategory': 'paper',\n",
       " 'region': 'south',\n",
       " 'city': 'florence',\n",
       " 'state': 'alabama',\n",
       " 'quantity': 1,\n",
       " 'sales': 1.7884205679625405,\n",
       " 'profit_margin': 0.49,\n",
       " 'order_year': 2021,\n",
       " 'order_month': 5,\n",
       " 'ship_year': 2021,\n",
       " 'ship_month': 5}"
      ]
     },
     "execution_count": 85,
     "metadata": {},
     "output_type": "execute_result"
    }
   ],
   "source": [
    "order_id = dicts_test[-1]\n",
    "order_id"
   ]
  },
  {
   "cell_type": "code",
   "execution_count": 203,
   "metadata": {},
   "outputs": [],
   "source": [
    "X_small = dv.transform([order_id])"
   ]
  },
  {
   "cell_type": "code",
   "execution_count": 204,
   "metadata": {},
   "outputs": [
    {
     "data": {
      "text/plain": [
       "np.float64(0.9991837636008501)"
      ]
     },
     "execution_count": 204,
     "metadata": {},
     "output_type": "execute_result"
    }
   ],
   "source": [
    "model.predict_proba(X_small)[0, 1]"
   ]
  },
  {
   "cell_type": "code",
   "execution_count": 205,
   "metadata": {},
   "outputs": [
    {
     "data": {
      "text/plain": [
       "np.int64(1)"
      ]
     },
     "execution_count": 205,
     "metadata": {},
     "output_type": "execute_result"
    }
   ],
   "source": [
    "y_test[-1]"
   ]
  },
  {
   "cell_type": "markdown",
   "metadata": {},
   "source": [
    "## Model Evaluation\n",
    "____"
   ]
  },
  {
   "cell_type": "code",
   "execution_count": 643,
   "metadata": {},
   "outputs": [
    {
     "data": {
      "text/plain": [
       "np.float64(0.9724862431215607)"
      ]
     },
     "execution_count": 643,
     "metadata": {},
     "output_type": "execute_result"
    }
   ],
   "source": [
    "# commpute the accuracy of the model\n",
    "y_pred = model.predict_proba(X_val)[:, 1]\n",
    "profit = y_pred >= 0.5\n",
    "(profit == y_val).mean()"
   ]
  },
  {
   "cell_type": "code",
   "execution_count": 644,
   "metadata": {},
   "outputs": [],
   "source": [
    "# importing accuracy score from sklearn\n",
    "from sklearn.metrics import accuracy_score"
   ]
  },
  {
   "cell_type": "code",
   "execution_count": 645,
   "metadata": {},
   "outputs": [
    {
     "data": {
      "text/plain": [
       "0.9724862431215607"
      ]
     },
     "execution_count": 645,
     "metadata": {},
     "output_type": "execute_result"
    }
   ],
   "source": [
    "# computing the accuracy of the model using the accuracy_score from sklearn\n",
    "accuracy_score(y_val, y_pred >= 0.5)"
   ]
  },
  {
   "cell_type": "code",
   "execution_count": 646,
   "metadata": {},
   "outputs": [
    {
     "name": "stdout",
     "output_type": "stream",
     "text": [
      "0.00 0.801\n",
      "0.05 0.898\n",
      "0.10 0.908\n",
      "0.15 0.916\n",
      "0.20 0.925\n",
      "0.25 0.934\n",
      "0.30 0.945\n",
      "0.35 0.951\n",
      "0.40 0.961\n",
      "0.45 0.968\n",
      "0.50 0.972\n",
      "0.55 0.978\n",
      "0.60 0.978\n",
      "0.65 0.980\n",
      "0.70 0.976\n",
      "0.75 0.962\n",
      "0.80 0.945\n",
      "0.85 0.915\n",
      "0.90 0.869\n",
      "0.95 0.789\n",
      "1.00 0.199\n"
     ]
    }
   ],
   "source": [
    "# iterating through the threshold to get the best threshold\n",
    "thresholds = np.linspace(0, 1, 21)\n",
    "\n",
    "scores = []\n",
    "\n",
    "for t in thresholds:\n",
    "    score = accuracy_score(y_val, y_pred >= t)\n",
    "    print('%.2f %.3f' % (t, score))\n",
    "    scores.append(score)"
   ]
  },
  {
   "cell_type": "code",
   "execution_count": 647,
   "metadata": {},
   "outputs": [
    {
     "data": {
      "text/plain": [
       "[<matplotlib.lines.Line2D at 0x30185ceb0>]"
      ]
     },
     "execution_count": 647,
     "metadata": {},
     "output_type": "execute_result"
    },
    {
     "data": {
      "image/png": "[encoded data removed]",
      "text/plain": [
       "<Figure size 640x480 with 1 Axes>"
      ]
     },
     "metadata": {},
     "output_type": "display_data"
    }
   ],
   "source": [
    "# plotting the threshold against the accuracy score\n",
    "plt.plot(thresholds, scores)"
   ]
  },
  {
   "cell_type": "code",
   "execution_count": 648,
   "metadata": {},
   "outputs": [
    {
     "data": {
      "text/plain": [
       "Counter({np.False_: 1999})"
      ]
     },
     "execution_count": 648,
     "metadata": {},
     "output_type": "execute_result"
    }
   ],
   "source": [
    "from collections import Counter\n",
    "Counter(y_pred >= 1.0)"
   ]
  },
  {
   "cell_type": "code",
   "execution_count": 649,
   "metadata": {},
   "outputs": [
    {
     "data": {
      "text/plain": [
       "np.float64(0.19909954977488742)"
      ]
     },
     "execution_count": 649,
     "metadata": {},
     "output_type": "execute_result"
    }
   ],
   "source": [
    "1 - y_val.mean()"
   ]
  },
  {
   "cell_type": "markdown",
   "metadata": {},
   "source": [
    "### Confusion Matrix"
   ]
  },
  {
   "cell_type": "code",
   "execution_count": 650,
   "metadata": {},
   "outputs": [],
   "source": [
    "# confusion matrix for actual positive and actual negative\n",
    "actual_positive = (y_val == 1)\n",
    "actual_negative = (y_val == 0)"
   ]
  },
  {
   "cell_type": "code",
   "execution_count": 651,
   "metadata": {},
   "outputs": [],
   "source": [
    "# confusion matrix for predicted positive and predicted negative\n",
    "t = 0.6\n",
    "predict_positive = (y_pred >= t)\n",
    "predict_negative = (y_pred < t)"
   ]
  },
  {
   "cell_type": "code",
   "execution_count": 652,
   "metadata": {},
   "outputs": [],
   "source": [
    "# True positive\n",
    "tp = (predict_positive & actual_positive).sum()\n",
    "\n",
    "# True negative\n",
    "tn = (predict_negative & actual_negative).sum()\n",
    "\n",
    "# False positive\n",
    "fp = (predict_positive & actual_negative).sum()\n",
    "\n",
    "# False negative\n",
    "fn = (predict_negative & actual_positive).sum()"
   ]
  },
  {
   "cell_type": "code",
   "execution_count": 653,
   "metadata": {},
   "outputs": [
    {
     "data": {
      "text/plain": [
       "array([[ 368,   30],\n",
       "       [  13, 1588]])"
      ]
     },
     "execution_count": 653,
     "metadata": {},
     "output_type": "execute_result"
    }
   ],
   "source": [
    "# confusion matrix\n",
    "confusion_matrix = np.array([\n",
    "    [tn, fp],\n",
    "    [fn, tp]\n",
    "])\n",
    "confusion_matrix"
   ]
  },
  {
   "cell_type": "code",
   "execution_count": 654,
   "metadata": {},
   "outputs": [
    {
     "data": {
      "text/plain": [
       "array([[0.18, 0.02],\n",
       "       [0.01, 0.79]])"
      ]
     },
     "execution_count": 654,
     "metadata": {},
     "output_type": "execute_result"
    }
   ],
   "source": [
    "# converting the confusion matrix to a % value\n",
    "confusion_matrix_insight =  confusion_matrix / confusion_matrix.sum()\n",
    "\n",
    "confusion_matrix_insight.round(2)"
   ]
  },
  {
   "cell_type": "markdown",
   "metadata": {},
   "source": [
    "The values from the confusion table serve as the basis for many other evaluation metrics. For example, we can calculate accuracy by taking all the correct predictions—TN and TP together—and dividing that number by the total number of observations in all four cells of the table:"
   ]
  },
  {
   "cell_type": "markdown",
   "metadata": {},
   "source": [
    "### Precision and Recall"
   ]
  },
  {
   "cell_type": "code",
   "execution_count": 655,
   "metadata": {},
   "outputs": [
    {
     "name": "stdout",
     "output_type": "stream",
     "text": [
      "0.9814585908529048\n"
     ]
    }
   ],
   "source": [
    "p = tp / (tp + fp)\n",
    "print(p)"
   ]
  },
  {
   "cell_type": "code",
   "execution_count": 656,
   "metadata": {},
   "outputs": [
    {
     "name": "stdout",
     "output_type": "stream",
     "text": [
      "0.9918800749531543\n"
     ]
    }
   ],
   "source": [
    "r = tp / (tp + fn)\n",
    "print(r)"
   ]
  },
  {
   "cell_type": "markdown",
   "metadata": {},
   "source": [
    "While the **precison** measures the the correctness of positive predictions (profit predictions). Higher precision means fewer false positives.\n",
    "\n",
    "**Recall**: Measures how many of the actual churners were correctly identified. Higher recall means fewer false negatives.\n",
    "\n",
    "In imbalanced datasets, **accuracy** can be misleading, so precision and recall offer more insight into the model’s true performance."
   ]
  },
  {
   "cell_type": "markdown",
   "metadata": {},
   "source": [
    "### ROC Curves"
   ]
  },
  {
   "cell_type": "code",
   "execution_count": 657,
   "metadata": {},
   "outputs": [
    {
     "data": {
      "text/plain": [
       "np.float64(0.9918800749531543)"
      ]
     },
     "execution_count": 657,
     "metadata": {},
     "output_type": "execute_result"
    }
   ],
   "source": [
    "# compute the true positive rate\n",
    "tpr = tp / (tp + fn)\n",
    "tpr"
   ]
  },
  {
   "cell_type": "code",
   "execution_count": 658,
   "metadata": {},
   "outputs": [
    {
     "data": {
      "text/plain": [
       "np.float64(0.07537688442211055)"
      ]
     },
     "execution_count": 658,
     "metadata": {},
     "output_type": "execute_result"
    }
   ],
   "source": [
    "# compute the false positive rate\n",
    "fpr = fp / (fp + tn)\n",
    "fpr"
   ]
  },
  {
   "cell_type": "markdown",
   "metadata": {},
   "source": [
    "Evaluating a model at different thresholds can help us understand how the model performs at different levels of sensitivity and specificity. The ROC curve is a useful tool for visualizing this trade-off.\n",
    "The code  below shows how to compute the confusion matrix, precision, recall, and ROC curve for a classification model in Python."
   ]
  },
  {
   "cell_type": "code",
   "execution_count": 659,
   "metadata": {},
   "outputs": [],
   "source": [
    "scores = []\n",
    "\n",
    "thresholds = np.linspace(0, 1, 101)\n",
    "\n",
    "for t in thresholds:\n",
    "    actual_positive = (y_val == 1)\n",
    "    actual_negative = (y_val == 0)\n",
    "    \n",
    "    predict_positive = (y_pred >= t)\n",
    "    predict_negative = (y_pred < t)\n",
    "\n",
    "    tp = (predict_positive & actual_positive).sum()\n",
    "    tn = (predict_negative & actual_negative).sum()\n",
    "\n",
    "    fp = (predict_positive & actual_negative).sum()\n",
    "    fn = (predict_negative & actual_positive).sum()\n",
    "    \n",
    "    scores.append((t, tp, fp, fn, tn))"
   ]
  },
  {
   "cell_type": "code",
   "execution_count": 660,
   "metadata": {},
   "outputs": [
    {
     "data": {
      "text/plain": [
       "[(np.float64(0.0), np.int64(1601), np.int64(398), np.int64(0), np.int64(0)),\n",
       " (np.float64(0.01), np.int64(1601), np.int64(298), np.int64(0), np.int64(100)),\n",
       " (np.float64(0.02), np.int64(1601), np.int64(265), np.int64(0), np.int64(133)),\n",
       " (np.float64(0.03), np.int64(1601), np.int64(234), np.int64(0), np.int64(164)),\n",
       " (np.float64(0.04), np.int64(1601), np.int64(216), np.int64(0), np.int64(182)),\n",
       " (np.float64(0.05), np.int64(1601), np.int64(203), np.int64(0), np.int64(195)),\n",
       " (np.float64(0.06), np.int64(1601), np.int64(196), np.int64(0), np.int64(202)),\n",
       " (np.float64(0.07), np.int64(1601), np.int64(193), np.int64(0), np.int64(205)),\n",
       " (np.float64(0.08), np.int64(1601), np.int64(193), np.int64(0), np.int64(205)),\n",
       " (np.float64(0.09), np.int64(1601), np.int64(187), np.int64(0), np.int64(211)),\n",
       " (np.float64(0.1), np.int64(1601), np.int64(184), np.int64(0), np.int64(214)),\n",
       " (np.float64(0.11), np.int64(1601), np.int64(181), np.int64(0), np.int64(217)),\n",
       " (np.float64(0.12), np.int64(1601), np.int64(178), np.int64(0), np.int64(220)),\n",
       " (np.float64(0.13), np.int64(1601), np.int64(177), np.int64(0), np.int64(221)),\n",
       " (np.float64(0.14), np.int64(1601), np.int64(174), np.int64(0), np.int64(224)),\n",
       " (np.float64(0.15), np.int64(1601), np.int64(167), np.int64(0), np.int64(231)),\n",
       " (np.float64(0.16), np.int64(1601), np.int64(165), np.int64(0), np.int64(233)),\n",
       " (np.float64(0.17), np.int64(1601), np.int64(160), np.int64(0), np.int64(238)),\n",
       " (np.float64(0.18), np.int64(1601), np.int64(158), np.int64(0), np.int64(240)),\n",
       " (np.float64(0.19), np.int64(1601), np.int64(154), np.int64(0), np.int64(244)),\n",
       " (np.float64(0.2), np.int64(1601), np.int64(150), np.int64(0), np.int64(248)),\n",
       " (np.float64(0.21), np.int64(1601), np.int64(147), np.int64(0), np.int64(251)),\n",
       " (np.float64(0.22), np.int64(1601), np.int64(142), np.int64(0), np.int64(256)),\n",
       " (np.float64(0.23), np.int64(1601), np.int64(138), np.int64(0), np.int64(260)),\n",
       " (np.float64(0.24), np.int64(1601), np.int64(137), np.int64(0), np.int64(261)),\n",
       " (np.float64(0.25), np.int64(1601), np.int64(132), np.int64(0), np.int64(266)),\n",
       " (np.float64(0.26), np.int64(1601), np.int64(128), np.int64(0), np.int64(270)),\n",
       " (np.float64(0.27), np.int64(1601), np.int64(122), np.int64(0), np.int64(276)),\n",
       " (np.float64(0.28), np.int64(1601), np.int64(118), np.int64(0), np.int64(280)),\n",
       " (np.float64(0.29), np.int64(1601), np.int64(115), np.int64(0), np.int64(283)),\n",
       " (np.float64(0.3), np.int64(1601), np.int64(109), np.int64(0), np.int64(289)),\n",
       " (np.float64(0.31), np.int64(1601), np.int64(107), np.int64(0), np.int64(291)),\n",
       " (np.float64(0.32), np.int64(1601), np.int64(106), np.int64(0), np.int64(292)),\n",
       " (np.float64(0.33), np.int64(1601), np.int64(103), np.int64(0), np.int64(295)),\n",
       " (np.float64(0.34), np.int64(1601), np.int64(103), np.int64(0), np.int64(295)),\n",
       " (np.float64(0.35000000000000003),\n",
       "  np.int64(1601),\n",
       "  np.int64(98),\n",
       "  np.int64(0),\n",
       "  np.int64(300)),\n",
       " (np.float64(0.36), np.int64(1601), np.int64(92), np.int64(0), np.int64(306)),\n",
       " (np.float64(0.37), np.int64(1601), np.int64(90), np.int64(0), np.int64(308)),\n",
       " (np.float64(0.38), np.int64(1601), np.int64(86), np.int64(0), np.int64(312)),\n",
       " (np.float64(0.39), np.int64(1601), np.int64(80), np.int64(0), np.int64(318)),\n",
       " (np.float64(0.4), np.int64(1601), np.int64(78), np.int64(0), np.int64(320)),\n",
       " (np.float64(0.41000000000000003),\n",
       "  np.int64(1601),\n",
       "  np.int64(76),\n",
       "  np.int64(0),\n",
       "  np.int64(322)),\n",
       " (np.float64(0.42), np.int64(1601), np.int64(75), np.int64(0), np.int64(323)),\n",
       " (np.float64(0.43), np.int64(1601), np.int64(70), np.int64(0), np.int64(328)),\n",
       " (np.float64(0.44), np.int64(1601), np.int64(66), np.int64(0), np.int64(332)),\n",
       " (np.float64(0.45), np.int64(1601), np.int64(63), np.int64(0), np.int64(335)),\n",
       " (np.float64(0.46), np.int64(1601), np.int64(60), np.int64(0), np.int64(338)),\n",
       " (np.float64(0.47000000000000003),\n",
       "  np.int64(1601),\n",
       "  np.int64(57),\n",
       "  np.int64(0),\n",
       "  np.int64(341)),\n",
       " (np.float64(0.48), np.int64(1601), np.int64(55), np.int64(0), np.int64(343)),\n",
       " (np.float64(0.49), np.int64(1601), np.int64(55), np.int64(0), np.int64(343)),\n",
       " (np.float64(0.5), np.int64(1600), np.int64(54), np.int64(1), np.int64(344)),\n",
       " (np.float64(0.51), np.int64(1598), np.int64(52), np.int64(3), np.int64(346)),\n",
       " (np.float64(0.52), np.int64(1597), np.int64(48), np.int64(4), np.int64(350)),\n",
       " (np.float64(0.53), np.int64(1597), np.int64(44), np.int64(4), np.int64(354)),\n",
       " (np.float64(0.54), np.int64(1597), np.int64(44), np.int64(4), np.int64(354)),\n",
       " (np.float64(0.55), np.int64(1595), np.int64(38), np.int64(6), np.int64(360)),\n",
       " (np.float64(0.56), np.int64(1594), np.int64(36), np.int64(7), np.int64(362)),\n",
       " (np.float64(0.5700000000000001),\n",
       "  np.int64(1593),\n",
       "  np.int64(34),\n",
       "  np.int64(8),\n",
       "  np.int64(364)),\n",
       " (np.float64(0.58), np.int64(1593), np.int64(33), np.int64(8), np.int64(365)),\n",
       " (np.float64(0.59), np.int64(1592), np.int64(31), np.int64(9), np.int64(367)),\n",
       " (np.float64(0.6), np.int64(1588), np.int64(30), np.int64(13), np.int64(368)),\n",
       " (np.float64(0.61), np.int64(1587), np.int64(26), np.int64(14), np.int64(372)),\n",
       " (np.float64(0.62), np.int64(1585), np.int64(25), np.int64(16), np.int64(373)),\n",
       " (np.float64(0.63), np.int64(1585), np.int64(24), np.int64(16), np.int64(374)),\n",
       " (np.float64(0.64), np.int64(1582), np.int64(22), np.int64(19), np.int64(376)),\n",
       " (np.float64(0.65), np.int64(1579), np.int64(18), np.int64(22), np.int64(380)),\n",
       " (np.float64(0.66), np.int64(1577), np.int64(15), np.int64(24), np.int64(383)),\n",
       " (np.float64(0.67), np.int64(1574), np.int64(12), np.int64(27), np.int64(386)),\n",
       " (np.float64(0.68), np.int64(1572), np.int64(12), np.int64(29), np.int64(386)),\n",
       " (np.float64(0.6900000000000001),\n",
       "  np.int64(1567),\n",
       "  np.int64(10),\n",
       "  np.int64(34),\n",
       "  np.int64(388)),\n",
       " (np.float64(0.7000000000000001),\n",
       "  np.int64(1564),\n",
       "  np.int64(10),\n",
       "  np.int64(37),\n",
       "  np.int64(388)),\n",
       " (np.float64(0.71), np.int64(1561), np.int64(10), np.int64(40), np.int64(388)),\n",
       " (np.float64(0.72), np.int64(1553), np.int64(10), np.int64(48), np.int64(388)),\n",
       " (np.float64(0.73), np.int64(1546), np.int64(8), np.int64(55), np.int64(390)),\n",
       " (np.float64(0.74), np.int64(1537), np.int64(6), np.int64(64), np.int64(392)),\n",
       " (np.float64(0.75), np.int64(1529), np.int64(3), np.int64(72), np.int64(395)),\n",
       " (np.float64(0.76), np.int64(1524), np.int64(3), np.int64(77), np.int64(395)),\n",
       " (np.float64(0.77), np.int64(1513), np.int64(2), np.int64(88), np.int64(396)),\n",
       " (np.float64(0.78), np.int64(1505), np.int64(2), np.int64(96), np.int64(396)),\n",
       " (np.float64(0.79), np.int64(1498), np.int64(2), np.int64(103), np.int64(396)),\n",
       " (np.float64(0.8), np.int64(1493), np.int64(2), np.int64(108), np.int64(396)),\n",
       " (np.float64(0.81), np.int64(1488), np.int64(2), np.int64(113), np.int64(396)),\n",
       " (np.float64(0.8200000000000001),\n",
       "  np.int64(1479),\n",
       "  np.int64(2),\n",
       "  np.int64(122),\n",
       "  np.int64(396)),\n",
       " (np.float64(0.8300000000000001),\n",
       "  np.int64(1466),\n",
       "  np.int64(2),\n",
       "  np.int64(135),\n",
       "  np.int64(396)),\n",
       " (np.float64(0.84), np.int64(1453), np.int64(2), np.int64(148), np.int64(396)),\n",
       " (np.float64(0.85), np.int64(1434), np.int64(2), np.int64(167), np.int64(396)),\n",
       " (np.float64(0.86), np.int64(1419), np.int64(1), np.int64(182), np.int64(397)),\n",
       " (np.float64(0.87), np.int64(1398), np.int64(1), np.int64(203), np.int64(397)),\n",
       " (np.float64(0.88), np.int64(1383), np.int64(1), np.int64(218), np.int64(397)),\n",
       " (np.float64(0.89), np.int64(1366), np.int64(1), np.int64(235), np.int64(397)),\n",
       " (np.float64(0.9), np.int64(1341), np.int64(1), np.int64(260), np.int64(397)),\n",
       " (np.float64(0.91), np.int64(1319), np.int64(1), np.int64(282), np.int64(397)),\n",
       " (np.float64(0.92), np.int64(1296), np.int64(0), np.int64(305), np.int64(398)),\n",
       " (np.float64(0.93), np.int64(1275), np.int64(0), np.int64(326), np.int64(398)),\n",
       " (np.float64(0.9400000000000001),\n",
       "  np.int64(1235),\n",
       "  np.int64(0),\n",
       "  np.int64(366),\n",
       "  np.int64(398)),\n",
       " (np.float64(0.9500000000000001),\n",
       "  np.int64(1180),\n",
       "  np.int64(0),\n",
       "  np.int64(421),\n",
       "  np.int64(398)),\n",
       " (np.float64(0.96), np.int64(1134), np.int64(0), np.int64(467), np.int64(398)),\n",
       " (np.float64(0.97), np.int64(1075), np.int64(0), np.int64(526), np.int64(398)),\n",
       " (np.float64(0.98), np.int64(980), np.int64(0), np.int64(621), np.int64(398)),\n",
       " (np.float64(0.99), np.int64(737), np.int64(0), np.int64(864), np.int64(398)),\n",
       " (np.float64(1.0), np.int64(0), np.int64(0), np.int64(1601), np.int64(398))]"
      ]
     },
     "execution_count": 660,
     "metadata": {},
     "output_type": "execute_result"
    }
   ],
   "source": [
    "scores"
   ]
  },
  {
   "cell_type": "code",
   "execution_count": 661,
   "metadata": {},
   "outputs": [
    {
     "data": {
      "text/html": [
       "<div>\n",
       "<style scoped>\n",
       "    .dataframe tbody tr th:only-of-type {\n",
       "        vertical-align: middle;\n",
       "    }\n",
       "\n",
       "    .dataframe tbody tr th {\n",
       "        vertical-align: top;\n",
       "    }\n",
       "\n",
       "    .dataframe thead th {\n",
       "        text-align: right;\n",
       "    }\n",
       "</style>\n",
       "<table border=\"1\" class=\"dataframe\">\n",
       "  <thead>\n",
       "    <tr style=\"text-align: right;\">\n",
       "      <th></th>\n",
       "      <th>threshold</th>\n",
       "      <th>tp</th>\n",
       "      <th>fp</th>\n",
       "      <th>fn</th>\n",
       "      <th>tn</th>\n",
       "    </tr>\n",
       "  </thead>\n",
       "  <tbody>\n",
       "    <tr>\n",
       "      <th>0</th>\n",
       "      <td>0.00</td>\n",
       "      <td>1601</td>\n",
       "      <td>398</td>\n",
       "      <td>0</td>\n",
       "      <td>0</td>\n",
       "    </tr>\n",
       "    <tr>\n",
       "      <th>1</th>\n",
       "      <td>0.01</td>\n",
       "      <td>1601</td>\n",
       "      <td>298</td>\n",
       "      <td>0</td>\n",
       "      <td>100</td>\n",
       "    </tr>\n",
       "    <tr>\n",
       "      <th>2</th>\n",
       "      <td>0.02</td>\n",
       "      <td>1601</td>\n",
       "      <td>265</td>\n",
       "      <td>0</td>\n",
       "      <td>133</td>\n",
       "    </tr>\n",
       "    <tr>\n",
       "      <th>3</th>\n",
       "      <td>0.03</td>\n",
       "      <td>1601</td>\n",
       "      <td>234</td>\n",
       "      <td>0</td>\n",
       "      <td>164</td>\n",
       "    </tr>\n",
       "    <tr>\n",
       "      <th>4</th>\n",
       "      <td>0.04</td>\n",
       "      <td>1601</td>\n",
       "      <td>216</td>\n",
       "      <td>0</td>\n",
       "      <td>182</td>\n",
       "    </tr>\n",
       "    <tr>\n",
       "      <th>...</th>\n",
       "      <td>...</td>\n",
       "      <td>...</td>\n",
       "      <td>...</td>\n",
       "      <td>...</td>\n",
       "      <td>...</td>\n",
       "    </tr>\n",
       "    <tr>\n",
       "      <th>96</th>\n",
       "      <td>0.96</td>\n",
       "      <td>1134</td>\n",
       "      <td>0</td>\n",
       "      <td>467</td>\n",
       "      <td>398</td>\n",
       "    </tr>\n",
       "    <tr>\n",
       "      <th>97</th>\n",
       "      <td>0.97</td>\n",
       "      <td>1075</td>\n",
       "      <td>0</td>\n",
       "      <td>526</td>\n",
       "      <td>398</td>\n",
       "    </tr>\n",
       "    <tr>\n",
       "      <th>98</th>\n",
       "      <td>0.98</td>\n",
       "      <td>980</td>\n",
       "      <td>0</td>\n",
       "      <td>621</td>\n",
       "      <td>398</td>\n",
       "    </tr>\n",
       "    <tr>\n",
       "      <th>99</th>\n",
       "      <td>0.99</td>\n",
       "      <td>737</td>\n",
       "      <td>0</td>\n",
       "      <td>864</td>\n",
       "      <td>398</td>\n",
       "    </tr>\n",
       "    <tr>\n",
       "      <th>100</th>\n",
       "      <td>1.00</td>\n",
       "      <td>0</td>\n",
       "      <td>0</td>\n",
       "      <td>1601</td>\n",
       "      <td>398</td>\n",
       "    </tr>\n",
       "  </tbody>\n",
       "</table>\n",
       "<p>101 rows × 5 columns</p>\n",
       "</div>"
      ],
      "text/plain": [
       "     threshold    tp   fp    fn   tn\n",
       "0         0.00  1601  398     0    0\n",
       "1         0.01  1601  298     0  100\n",
       "2         0.02  1601  265     0  133\n",
       "3         0.03  1601  234     0  164\n",
       "4         0.04  1601  216     0  182\n",
       "..         ...   ...  ...   ...  ...\n",
       "96        0.96  1134    0   467  398\n",
       "97        0.97  1075    0   526  398\n",
       "98        0.98   980    0   621  398\n",
       "99        0.99   737    0   864  398\n",
       "100       1.00     0    0  1601  398\n",
       "\n",
       "[101 rows x 5 columns]"
      ]
     },
     "execution_count": 661,
     "metadata": {},
     "output_type": "execute_result"
    }
   ],
   "source": [
    "columns = ['threshold', 'tp', 'fp', 'fn', 'tn']\n",
    "df_scores = pd.DataFrame(scores, columns=columns)\n",
    "df_scores"
   ]
  },
  {
   "cell_type": "code",
   "execution_count": 662,
   "metadata": {},
   "outputs": [
    {
     "data": {
      "text/html": [
       "<div>\n",
       "<style scoped>\n",
       "    .dataframe tbody tr th:only-of-type {\n",
       "        vertical-align: middle;\n",
       "    }\n",
       "\n",
       "    .dataframe tbody tr th {\n",
       "        vertical-align: top;\n",
       "    }\n",
       "\n",
       "    .dataframe thead th {\n",
       "        text-align: right;\n",
       "    }\n",
       "</style>\n",
       "<table border=\"1\" class=\"dataframe\">\n",
       "  <thead>\n",
       "    <tr style=\"text-align: right;\">\n",
       "      <th></th>\n",
       "      <th>threshold</th>\n",
       "      <th>tp</th>\n",
       "      <th>fp</th>\n",
       "      <th>fn</th>\n",
       "      <th>tn</th>\n",
       "      <th>tpr</th>\n",
       "      <th>fpr</th>\n",
       "    </tr>\n",
       "  </thead>\n",
       "  <tbody>\n",
       "    <tr>\n",
       "      <th>0</th>\n",
       "      <td>0.0</td>\n",
       "      <td>1601</td>\n",
       "      <td>398</td>\n",
       "      <td>0</td>\n",
       "      <td>0</td>\n",
       "      <td>1.000000</td>\n",
       "      <td>1.000000</td>\n",
       "    </tr>\n",
       "    <tr>\n",
       "      <th>10</th>\n",
       "      <td>0.1</td>\n",
       "      <td>1601</td>\n",
       "      <td>184</td>\n",
       "      <td>0</td>\n",
       "      <td>214</td>\n",
       "      <td>1.000000</td>\n",
       "      <td>0.462312</td>\n",
       "    </tr>\n",
       "    <tr>\n",
       "      <th>20</th>\n",
       "      <td>0.2</td>\n",
       "      <td>1601</td>\n",
       "      <td>150</td>\n",
       "      <td>0</td>\n",
       "      <td>248</td>\n",
       "      <td>1.000000</td>\n",
       "      <td>0.376884</td>\n",
       "    </tr>\n",
       "    <tr>\n",
       "      <th>30</th>\n",
       "      <td>0.3</td>\n",
       "      <td>1601</td>\n",
       "      <td>109</td>\n",
       "      <td>0</td>\n",
       "      <td>289</td>\n",
       "      <td>1.000000</td>\n",
       "      <td>0.273869</td>\n",
       "    </tr>\n",
       "    <tr>\n",
       "      <th>40</th>\n",
       "      <td>0.4</td>\n",
       "      <td>1601</td>\n",
       "      <td>78</td>\n",
       "      <td>0</td>\n",
       "      <td>320</td>\n",
       "      <td>1.000000</td>\n",
       "      <td>0.195980</td>\n",
       "    </tr>\n",
       "    <tr>\n",
       "      <th>50</th>\n",
       "      <td>0.5</td>\n",
       "      <td>1600</td>\n",
       "      <td>54</td>\n",
       "      <td>1</td>\n",
       "      <td>344</td>\n",
       "      <td>0.999375</td>\n",
       "      <td>0.135678</td>\n",
       "    </tr>\n",
       "    <tr>\n",
       "      <th>60</th>\n",
       "      <td>0.6</td>\n",
       "      <td>1588</td>\n",
       "      <td>30</td>\n",
       "      <td>13</td>\n",
       "      <td>368</td>\n",
       "      <td>0.991880</td>\n",
       "      <td>0.075377</td>\n",
       "    </tr>\n",
       "    <tr>\n",
       "      <th>70</th>\n",
       "      <td>0.7</td>\n",
       "      <td>1564</td>\n",
       "      <td>10</td>\n",
       "      <td>37</td>\n",
       "      <td>388</td>\n",
       "      <td>0.976889</td>\n",
       "      <td>0.025126</td>\n",
       "    </tr>\n",
       "    <tr>\n",
       "      <th>80</th>\n",
       "      <td>0.8</td>\n",
       "      <td>1493</td>\n",
       "      <td>2</td>\n",
       "      <td>108</td>\n",
       "      <td>396</td>\n",
       "      <td>0.932542</td>\n",
       "      <td>0.005025</td>\n",
       "    </tr>\n",
       "    <tr>\n",
       "      <th>90</th>\n",
       "      <td>0.9</td>\n",
       "      <td>1341</td>\n",
       "      <td>1</td>\n",
       "      <td>260</td>\n",
       "      <td>397</td>\n",
       "      <td>0.837601</td>\n",
       "      <td>0.002513</td>\n",
       "    </tr>\n",
       "    <tr>\n",
       "      <th>100</th>\n",
       "      <td>1.0</td>\n",
       "      <td>0</td>\n",
       "      <td>0</td>\n",
       "      <td>1601</td>\n",
       "      <td>398</td>\n",
       "      <td>0.000000</td>\n",
       "      <td>0.000000</td>\n",
       "    </tr>\n",
       "  </tbody>\n",
       "</table>\n",
       "</div>"
      ],
      "text/plain": [
       "     threshold    tp   fp    fn   tn       tpr       fpr\n",
       "0          0.0  1601  398     0    0  1.000000  1.000000\n",
       "10         0.1  1601  184     0  214  1.000000  0.462312\n",
       "20         0.2  1601  150     0  248  1.000000  0.376884\n",
       "30         0.3  1601  109     0  289  1.000000  0.273869\n",
       "40         0.4  1601   78     0  320  1.000000  0.195980\n",
       "50         0.5  1600   54     1  344  0.999375  0.135678\n",
       "60         0.6  1588   30    13  368  0.991880  0.075377\n",
       "70         0.7  1564   10    37  388  0.976889  0.025126\n",
       "80         0.8  1493    2   108  396  0.932542  0.005025\n",
       "90         0.9  1341    1   260  397  0.837601  0.002513\n",
       "100        1.0     0    0  1601  398  0.000000  0.000000"
      ]
     },
     "execution_count": 662,
     "metadata": {},
     "output_type": "execute_result"
    }
   ],
   "source": [
    "df_scores['tpr'] = df_scores.tp / (df_scores.tp + df_scores.fn)\n",
    "df_scores['fpr'] = df_scores.fp / (df_scores.fp + df_scores.tn)\n",
    "df_scores[::10]"
   ]
  },
  {
   "cell_type": "code",
   "execution_count": 663,
   "metadata": {},
   "outputs": [
    {
     "data": {
      "text/plain": [
       "<matplotlib.legend.Legend at 0x16cb56500>"
      ]
     },
     "execution_count": 663,
     "metadata": {},
     "output_type": "execute_result"
    },
    {
     "data": {
      "image/png": "[encoded data removed]",
      "text/plain": [
       "<Figure size 640x480 with 1 Axes>"
      ]
     },
     "metadata": {},
     "output_type": "display_data"
    }
   ],
   "source": [
    "plt.plot(df_scores.threshold, df_scores['tpr'], label='TPR')\n",
    "plt.plot(df_scores.threshold, df_scores['fpr'], label='FPR')\n",
    "plt.legend()"
   ]
  },
  {
   "cell_type": "markdown",
   "metadata": {},
   "source": [
    "### Random Model ROC Curve"
   ]
  },
  {
   "cell_type": "code",
   "execution_count": 664,
   "metadata": {},
   "outputs": [
    {
     "data": {
      "text/plain": [
       "array([4.17022005e-01, 7.20324493e-01, 1.14374817e-04, ...,\n",
       "       1.84127556e-01, 8.28732852e-01, 3.09979598e-02])"
      ]
     },
     "execution_count": 664,
     "metadata": {},
     "output_type": "execute_result"
    }
   ],
   "source": [
    "# Generate a random array of values\n",
    "np.random.seed(1)\n",
    "y_rand = np.random.uniform(0, 1, size=len(y_val))\n",
    "y_rand"
   ]
  },
  {
   "cell_type": "code",
   "execution_count": 665,
   "metadata": {},
   "outputs": [
    {
     "data": {
      "text/plain": [
       "np.float64(0.4442221110555278)"
      ]
     },
     "execution_count": 665,
     "metadata": {},
     "output_type": "execute_result"
    }
   ],
   "source": [
    "# Compute the accuracy of the random model\n",
    "((y_rand >= 0.6) == y_val).mean()"
   ]
  },
  {
   "cell_type": "code",
   "execution_count": 666,
   "metadata": {},
   "outputs": [],
   "source": [
    "# compute the confusion matrix for the random model\n",
    "def tpr_fpr_dataframe(y_val, y_pred):\n",
    "    scores = []\n",
    "\n",
    "    thresholds = np.linspace(0, 1, 101)\n",
    "\n",
    "    for t in thresholds:\n",
    "        actual_positive = (y_val == 1)\n",
    "        actual_negative = (y_val == 0)\n",
    "\n",
    "        predict_positive = (y_pred >= t)\n",
    "        predict_negative = (y_pred < t)\n",
    "\n",
    "        tp = (predict_positive & actual_positive).sum()\n",
    "        tn = (predict_negative & actual_negative).sum()\n",
    "\n",
    "        fp = (predict_positive & actual_negative).sum()\n",
    "        fn = (predict_negative & actual_positive).sum()\n",
    "\n",
    "        scores.append((t, tp, fp, fn, tn))\n",
    "\n",
    "    columns = ['threshold', 'tp', 'fp', 'fn', 'tn']\n",
    "    df_scores = pd.DataFrame(scores, columns=columns)\n",
    "\n",
    "    df_scores['tpr'] = df_scores.tp / (df_scores.tp + df_scores.fn)\n",
    "    df_scores['fpr'] = df_scores.fp / (df_scores.fp + df_scores.tn)\n",
    "    \n",
    "    return df_scores\n",
    "\n"
   ]
  },
  {
   "cell_type": "code",
   "execution_count": 667,
   "metadata": {},
   "outputs": [
    {
     "data": {
      "text/html": [
       "<div>\n",
       "<style scoped>\n",
       "    .dataframe tbody tr th:only-of-type {\n",
       "        vertical-align: middle;\n",
       "    }\n",
       "\n",
       "    .dataframe tbody tr th {\n",
       "        vertical-align: top;\n",
       "    }\n",
       "\n",
       "    .dataframe thead th {\n",
       "        text-align: right;\n",
       "    }\n",
       "</style>\n",
       "<table border=\"1\" class=\"dataframe\">\n",
       "  <thead>\n",
       "    <tr style=\"text-align: right;\">\n",
       "      <th></th>\n",
       "      <th>threshold</th>\n",
       "      <th>tp</th>\n",
       "      <th>fp</th>\n",
       "      <th>fn</th>\n",
       "      <th>tn</th>\n",
       "      <th>tpr</th>\n",
       "      <th>fpr</th>\n",
       "    </tr>\n",
       "  </thead>\n",
       "  <tbody>\n",
       "    <tr>\n",
       "      <th>0</th>\n",
       "      <td>0.00</td>\n",
       "      <td>1601</td>\n",
       "      <td>398</td>\n",
       "      <td>0</td>\n",
       "      <td>0</td>\n",
       "      <td>1.000000</td>\n",
       "      <td>1.000000</td>\n",
       "    </tr>\n",
       "    <tr>\n",
       "      <th>1</th>\n",
       "      <td>0.01</td>\n",
       "      <td>1589</td>\n",
       "      <td>392</td>\n",
       "      <td>12</td>\n",
       "      <td>6</td>\n",
       "      <td>0.992505</td>\n",
       "      <td>0.984925</td>\n",
       "    </tr>\n",
       "    <tr>\n",
       "      <th>2</th>\n",
       "      <td>0.02</td>\n",
       "      <td>1563</td>\n",
       "      <td>388</td>\n",
       "      <td>38</td>\n",
       "      <td>10</td>\n",
       "      <td>0.976265</td>\n",
       "      <td>0.974874</td>\n",
       "    </tr>\n",
       "    <tr>\n",
       "      <th>3</th>\n",
       "      <td>0.03</td>\n",
       "      <td>1550</td>\n",
       "      <td>380</td>\n",
       "      <td>51</td>\n",
       "      <td>18</td>\n",
       "      <td>0.968145</td>\n",
       "      <td>0.954774</td>\n",
       "    </tr>\n",
       "    <tr>\n",
       "      <th>4</th>\n",
       "      <td>0.04</td>\n",
       "      <td>1536</td>\n",
       "      <td>374</td>\n",
       "      <td>65</td>\n",
       "      <td>24</td>\n",
       "      <td>0.959400</td>\n",
       "      <td>0.939698</td>\n",
       "    </tr>\n",
       "    <tr>\n",
       "      <th>...</th>\n",
       "      <td>...</td>\n",
       "      <td>...</td>\n",
       "      <td>...</td>\n",
       "      <td>...</td>\n",
       "      <td>...</td>\n",
       "      <td>...</td>\n",
       "      <td>...</td>\n",
       "    </tr>\n",
       "    <tr>\n",
       "      <th>96</th>\n",
       "      <td>0.96</td>\n",
       "      <td>68</td>\n",
       "      <td>14</td>\n",
       "      <td>1533</td>\n",
       "      <td>384</td>\n",
       "      <td>0.042473</td>\n",
       "      <td>0.035176</td>\n",
       "    </tr>\n",
       "    <tr>\n",
       "      <th>97</th>\n",
       "      <td>0.97</td>\n",
       "      <td>53</td>\n",
       "      <td>11</td>\n",
       "      <td>1548</td>\n",
       "      <td>387</td>\n",
       "      <td>0.033104</td>\n",
       "      <td>0.027638</td>\n",
       "    </tr>\n",
       "    <tr>\n",
       "      <th>98</th>\n",
       "      <td>0.98</td>\n",
       "      <td>32</td>\n",
       "      <td>8</td>\n",
       "      <td>1569</td>\n",
       "      <td>390</td>\n",
       "      <td>0.019988</td>\n",
       "      <td>0.020101</td>\n",
       "    </tr>\n",
       "    <tr>\n",
       "      <th>99</th>\n",
       "      <td>0.99</td>\n",
       "      <td>13</td>\n",
       "      <td>2</td>\n",
       "      <td>1588</td>\n",
       "      <td>396</td>\n",
       "      <td>0.008120</td>\n",
       "      <td>0.005025</td>\n",
       "    </tr>\n",
       "    <tr>\n",
       "      <th>100</th>\n",
       "      <td>1.00</td>\n",
       "      <td>0</td>\n",
       "      <td>0</td>\n",
       "      <td>1601</td>\n",
       "      <td>398</td>\n",
       "      <td>0.000000</td>\n",
       "      <td>0.000000</td>\n",
       "    </tr>\n",
       "  </tbody>\n",
       "</table>\n",
       "<p>101 rows × 7 columns</p>\n",
       "</div>"
      ],
      "text/plain": [
       "     threshold    tp   fp    fn   tn       tpr       fpr\n",
       "0         0.00  1601  398     0    0  1.000000  1.000000\n",
       "1         0.01  1589  392    12    6  0.992505  0.984925\n",
       "2         0.02  1563  388    38   10  0.976265  0.974874\n",
       "3         0.03  1550  380    51   18  0.968145  0.954774\n",
       "4         0.04  1536  374    65   24  0.959400  0.939698\n",
       "..         ...   ...  ...   ...  ...       ...       ...\n",
       "96        0.96    68   14  1533  384  0.042473  0.035176\n",
       "97        0.97    53   11  1548  387  0.033104  0.027638\n",
       "98        0.98    32    8  1569  390  0.019988  0.020101\n",
       "99        0.99    13    2  1588  396  0.008120  0.005025\n",
       "100       1.00     0    0  1601  398  0.000000  0.000000\n",
       "\n",
       "[101 rows x 7 columns]"
      ]
     },
     "execution_count": 667,
     "metadata": {},
     "output_type": "execute_result"
    }
   ],
   "source": [
    "# compute the confusion matrix for the random model\n",
    "df_rand = tpr_fpr_dataframe(y_val, y_rand)\n",
    "df_rand"
   ]
  },
  {
   "cell_type": "code",
   "execution_count": 668,
   "metadata": {},
   "outputs": [
    {
     "data": {
      "text/plain": [
       "<matplotlib.legend.Legend at 0x32bd54a60>"
      ]
     },
     "execution_count": 668,
     "metadata": {},
     "output_type": "execute_result"
    },
    {
     "data": {
      "image/png": "[encoded data removed]",
      "text/plain": [
       "<Figure size 640x480 with 1 Axes>"
      ]
     },
     "metadata": {},
     "output_type": "display_data"
    }
   ],
   "source": [
    "plt.plot(df_rand.threshold, df_rand['tpr'], label='TPR')\n",
    "plt.plot(df_rand.threshold, df_rand['fpr'], label='FPR')\n",
    "plt.legend()"
   ]
  },
  {
   "cell_type": "markdown",
   "metadata": {},
   "source": [
    "### ideal Model"
   ]
  },
  {
   "cell_type": "code",
   "execution_count": 669,
   "metadata": {},
   "outputs": [
    {
     "data": {
      "text/plain": [
       "(np.int64(398), np.int64(1601))"
      ]
     },
     "execution_count": 669,
     "metadata": {},
     "output_type": "execute_result"
    }
   ],
   "source": [
    "# number of positive and negative values in the validation set\n",
    "num_neg = (y_val == 0).sum()\n",
    "num_pos = (y_val == 1).sum()\n",
    "num_neg, num_pos"
   ]
  },
  {
   "cell_type": "code",
   "execution_count": 670,
   "metadata": {},
   "outputs": [
    {
     "data": {
      "text/plain": [
       "array([0, 0, 0, ..., 1, 1, 1])"
      ]
     },
     "execution_count": 670,
     "metadata": {},
     "output_type": "execute_result"
    }
   ],
   "source": [
    "# ideal model\n",
    "y_ideal = np.repeat([0, 1], [num_neg, num_pos])\n",
    "y_ideal"
   ]
  },
  {
   "cell_type": "code",
   "execution_count": 671,
   "metadata": {},
   "outputs": [
    {
     "data": {
      "text/plain": [
       "array([0.00000000e+00, 5.00500501e-04, 1.00100100e-03, ...,\n",
       "       9.98998999e-01, 9.99499499e-01, 1.00000000e+00])"
      ]
     },
     "execution_count": 671,
     "metadata": {},
     "output_type": "execute_result"
    }
   ],
   "source": [
    "y_ideal_pred = np.linspace(0, 1, len(y_val))\n",
    "y_ideal_pred"
   ]
  },
  {
   "cell_type": "code",
   "execution_count": 672,
   "metadata": {},
   "outputs": [
    {
     "data": {
      "text/plain": [
       "np.float64(0.19909954977488742)"
      ]
     },
     "execution_count": 672,
     "metadata": {},
     "output_type": "execute_result"
    }
   ],
   "source": [
    "1 - y_val.mean()"
   ]
  },
  {
   "cell_type": "code",
   "execution_count": 673,
   "metadata": {},
   "outputs": [
    {
     "data": {
      "text/plain": [
       "1.0"
      ]
     },
     "execution_count": 673,
     "metadata": {},
     "output_type": "execute_result"
    }
   ],
   "source": [
    "accuracy_score(y_ideal, y_ideal_pred >= 0.1990)"
   ]
  },
  {
   "cell_type": "code",
   "execution_count": 674,
   "metadata": {},
   "outputs": [
    {
     "data": {
      "text/html": [
       "<div>\n",
       "<style scoped>\n",
       "    .dataframe tbody tr th:only-of-type {\n",
       "        vertical-align: middle;\n",
       "    }\n",
       "\n",
       "    .dataframe tbody tr th {\n",
       "        vertical-align: top;\n",
       "    }\n",
       "\n",
       "    .dataframe thead th {\n",
       "        text-align: right;\n",
       "    }\n",
       "</style>\n",
       "<table border=\"1\" class=\"dataframe\">\n",
       "  <thead>\n",
       "    <tr style=\"text-align: right;\">\n",
       "      <th></th>\n",
       "      <th>threshold</th>\n",
       "      <th>tp</th>\n",
       "      <th>fp</th>\n",
       "      <th>fn</th>\n",
       "      <th>tn</th>\n",
       "      <th>tpr</th>\n",
       "      <th>fpr</th>\n",
       "    </tr>\n",
       "  </thead>\n",
       "  <tbody>\n",
       "    <tr>\n",
       "      <th>0</th>\n",
       "      <td>0.0</td>\n",
       "      <td>1601</td>\n",
       "      <td>398</td>\n",
       "      <td>0</td>\n",
       "      <td>0</td>\n",
       "      <td>1.000000</td>\n",
       "      <td>1.000000</td>\n",
       "    </tr>\n",
       "    <tr>\n",
       "      <th>10</th>\n",
       "      <td>0.1</td>\n",
       "      <td>1601</td>\n",
       "      <td>198</td>\n",
       "      <td>0</td>\n",
       "      <td>200</td>\n",
       "      <td>1.000000</td>\n",
       "      <td>0.497487</td>\n",
       "    </tr>\n",
       "    <tr>\n",
       "      <th>20</th>\n",
       "      <td>0.2</td>\n",
       "      <td>1599</td>\n",
       "      <td>0</td>\n",
       "      <td>2</td>\n",
       "      <td>398</td>\n",
       "      <td>0.998751</td>\n",
       "      <td>0.000000</td>\n",
       "    </tr>\n",
       "    <tr>\n",
       "      <th>30</th>\n",
       "      <td>0.3</td>\n",
       "      <td>1399</td>\n",
       "      <td>0</td>\n",
       "      <td>202</td>\n",
       "      <td>398</td>\n",
       "      <td>0.873829</td>\n",
       "      <td>0.000000</td>\n",
       "    </tr>\n",
       "    <tr>\n",
       "      <th>40</th>\n",
       "      <td>0.4</td>\n",
       "      <td>1199</td>\n",
       "      <td>0</td>\n",
       "      <td>402</td>\n",
       "      <td>398</td>\n",
       "      <td>0.748907</td>\n",
       "      <td>0.000000</td>\n",
       "    </tr>\n",
       "    <tr>\n",
       "      <th>50</th>\n",
       "      <td>0.5</td>\n",
       "      <td>1000</td>\n",
       "      <td>0</td>\n",
       "      <td>601</td>\n",
       "      <td>398</td>\n",
       "      <td>0.624610</td>\n",
       "      <td>0.000000</td>\n",
       "    </tr>\n",
       "    <tr>\n",
       "      <th>60</th>\n",
       "      <td>0.6</td>\n",
       "      <td>800</td>\n",
       "      <td>0</td>\n",
       "      <td>801</td>\n",
       "      <td>398</td>\n",
       "      <td>0.499688</td>\n",
       "      <td>0.000000</td>\n",
       "    </tr>\n",
       "    <tr>\n",
       "      <th>70</th>\n",
       "      <td>0.7</td>\n",
       "      <td>600</td>\n",
       "      <td>0</td>\n",
       "      <td>1001</td>\n",
       "      <td>398</td>\n",
       "      <td>0.374766</td>\n",
       "      <td>0.000000</td>\n",
       "    </tr>\n",
       "    <tr>\n",
       "      <th>80</th>\n",
       "      <td>0.8</td>\n",
       "      <td>400</td>\n",
       "      <td>0</td>\n",
       "      <td>1201</td>\n",
       "      <td>398</td>\n",
       "      <td>0.249844</td>\n",
       "      <td>0.000000</td>\n",
       "    </tr>\n",
       "    <tr>\n",
       "      <th>90</th>\n",
       "      <td>0.9</td>\n",
       "      <td>200</td>\n",
       "      <td>0</td>\n",
       "      <td>1401</td>\n",
       "      <td>398</td>\n",
       "      <td>0.124922</td>\n",
       "      <td>0.000000</td>\n",
       "    </tr>\n",
       "    <tr>\n",
       "      <th>100</th>\n",
       "      <td>1.0</td>\n",
       "      <td>1</td>\n",
       "      <td>0</td>\n",
       "      <td>1600</td>\n",
       "      <td>398</td>\n",
       "      <td>0.000625</td>\n",
       "      <td>0.000000</td>\n",
       "    </tr>\n",
       "  </tbody>\n",
       "</table>\n",
       "</div>"
      ],
      "text/plain": [
       "     threshold    tp   fp    fn   tn       tpr       fpr\n",
       "0          0.0  1601  398     0    0  1.000000  1.000000\n",
       "10         0.1  1601  198     0  200  1.000000  0.497487\n",
       "20         0.2  1599    0     2  398  0.998751  0.000000\n",
       "30         0.3  1399    0   202  398  0.873829  0.000000\n",
       "40         0.4  1199    0   402  398  0.748907  0.000000\n",
       "50         0.5  1000    0   601  398  0.624610  0.000000\n",
       "60         0.6   800    0   801  398  0.499688  0.000000\n",
       "70         0.7   600    0  1001  398  0.374766  0.000000\n",
       "80         0.8   400    0  1201  398  0.249844  0.000000\n",
       "90         0.9   200    0  1401  398  0.124922  0.000000\n",
       "100        1.0     1    0  1600  398  0.000625  0.000000"
      ]
     },
     "execution_count": 674,
     "metadata": {},
     "output_type": "execute_result"
    }
   ],
   "source": [
    "df_ideal = tpr_fpr_dataframe(y_ideal, y_ideal_pred)\n",
    "df_ideal[::10]"
   ]
  },
  {
   "cell_type": "code",
   "execution_count": 675,
   "metadata": {},
   "outputs": [
    {
     "data": {
      "text/plain": [
       "<matplotlib.legend.Legend at 0x3123679d0>"
      ]
     },
     "execution_count": 675,
     "metadata": {},
     "output_type": "execute_result"
    },
    {
     "data": {
      "image/png": "[encoded data removed]",
      "text/plain": [
       "<Figure size 640x480 with 1 Axes>"
      ]
     },
     "metadata": {},
     "output_type": "display_data"
    }
   ],
   "source": [
    "plt.plot(df_ideal.threshold, df_ideal['tpr'], label='TPR')\n",
    "plt.plot(df_ideal.threshold, df_ideal['fpr'], label='FPR')\n",
    "plt.legend()"
   ]
  },
  {
   "cell_type": "code",
   "execution_count": 676,
   "metadata": {},
   "outputs": [
    {
     "data": {
      "text/plain": [
       "<matplotlib.legend.Legend at 0x3123ecf70>"
      ]
     },
     "execution_count": 676,
     "metadata": {},
     "output_type": "execute_result"
    },
    {
     "data": {
      "image/png": "[encoded data removed]",
      "text/plain": [
       "<Figure size 640x480 with 1 Axes>"
      ]
     },
     "metadata": {},
     "output_type": "display_data"
    }
   ],
   "source": [
    "plt.plot(df_scores.threshold, df_scores['tpr'], label='TPR')\n",
    "plt.plot(df_scores.threshold, df_scores['fpr'], label='FPR')\n",
    " \n",
    "#plt.plot(df_rand.threshold, df_rand['tpr'], label='TPR')\n",
    "#plt.plot(df_rand.threshold, df_rand['fpr'], label='FPR')\n",
    " \n",
    "plt.plot(df_ideal.threshold, df_ideal['tpr'], label='ideal TPR', color = 'black')\n",
    "plt.plot(df_ideal.threshold, df_ideal['fpr'], label='ideal FPR', color = 'black')\n",
    " \n",
    "plt.legend()"
   ]
  },
  {
   "cell_type": "code",
   "execution_count": 677,
   "metadata": {},
   "outputs": [
    {
     "data": {
      "text/plain": [
       "<matplotlib.legend.Legend at 0x3123ed600>"
      ]
     },
     "execution_count": 677,
     "metadata": {},
     "output_type": "execute_result"
    },
    {
     "data": {
      "image/png": "[encoded data removed]",
      "text/plain": [
       "<Figure size 500x500 with 1 Axes>"
      ]
     },
     "metadata": {},
     "output_type": "display_data"
    }
   ],
   "source": [
    "plt.figure(figsize=(5,5))\n",
    " \n",
    "plt.plot(df_scores.fpr, df_scores.tpr, label='model')\n",
    "plt.plot([0,1], [0,1], label='random')\n",
    "#plt.plot(df_rand.fpr, df_rand.tpr, label='random')\n",
    "#plt.plot(df_ideal.fpr, df_ideal.tpr, label='ideal')\n",
    " \n",
    "plt.xlabel('FPR')\n",
    "plt.ylabel('TPR')\n",
    " \n",
    "plt.legend()"
   ]
  },
  {
   "cell_type": "code",
   "execution_count": 678,
   "metadata": {},
   "outputs": [
    {
     "data": {
      "text/plain": [
       "<matplotlib.legend.Legend at 0x307b032b0>"
      ]
     },
     "execution_count": 678,
     "metadata": {},
     "output_type": "execute_result"
    },
    {
     "data": {
      "image/png": "[encoded data removed]",
      "text/plain": [
       "<Figure size 500x500 with 1 Axes>"
      ]
     },
     "metadata": {},
     "output_type": "display_data"
    }
   ],
   "source": [
    "# We can also use the ROC functionality of scikit learn package\n",
    "from sklearn.metrics import roc_curve\n",
    " \n",
    "fpr, tpr, thresholds = roc_curve(y_val, y_pred)\n",
    " \n",
    "plt.figure(figsize=(5,5))\n",
    " \n",
    "plt.plot(fpr, tpr, label='Model')\n",
    "plt.plot([0,1], [0,1], label='Random', linestyle='--')\n",
    " \n",
    "plt.xlabel('FPR')\n",
    "plt.ylabel('TPR')\n",
    " \n",
    "plt.legend()"
   ]
  },
  {
   "cell_type": "markdown",
   "metadata": {},
   "source": [
    "### Area Under the Curve"
   ]
  },
  {
   "cell_type": "code",
   "execution_count": 679,
   "metadata": {},
   "outputs": [
    {
     "name": "stdout",
     "output_type": "stream",
     "text": [
      "0.9976349580507158\n",
      "0.997621618398049\n",
      "0.9999717513237643\n"
     ]
    }
   ],
   "source": [
    "from sklearn.metrics import auc\n",
    "\n",
    "# calculating the area under the curve for all the models\n",
    "print(auc(fpr, tpr))\n",
    "\n",
    "print(auc(df_scores.fpr, df_scores.tpr))\n",
    "\n",
    "print(auc(df_ideal.fpr, df_ideal.tpr))"
   ]
  },
  {
   "cell_type": "code",
   "execution_count": 680,
   "metadata": {},
   "outputs": [
    {
     "data": {
      "text/plain": [
       "np.float64(0.9976349580507158)"
      ]
     },
     "execution_count": 680,
     "metadata": {},
     "output_type": "execute_result"
    }
   ],
   "source": [
    "\n",
    "# auc score using scikit learn\n",
    "from sklearn.metrics import roc_auc_score\n",
    " \n",
    "roc_auc_score(y_val, y_pred)\n"
   ]
  },
  {
   "cell_type": "markdown",
   "metadata": {},
   "source": [
    "### Cross Validation"
   ]
  },
  {
   "cell_type": "code",
   "execution_count": 681,
   "metadata": {},
   "outputs": [],
   "source": [
    "def train(df_train, y_train):\n",
    "    dicts = df_train[categorical_columns + numerical_columns].to_dict(orient='records')  # Prepare data for encoding\n",
    "    \n",
    "    dv = DictVectorizer(sparse=False)  # Encoder for one-hot encoding\n",
    "    X_train = dv.fit_transform(dicts)  # Transform data\n",
    "\n",
    "    model.fit(X_train, y_train)  # Train model on training data\n",
    "\n",
    "    return dv, model  # Return encoder and model\n"
   ]
  },
  {
   "cell_type": "code",
   "execution_count": 682,
   "metadata": {},
   "outputs": [],
   "source": [
    "dv, model = train(df_train, y_train)"
   ]
  },
  {
   "cell_type": "code",
   "execution_count": 683,
   "metadata": {},
   "outputs": [],
   "source": [
    "def predict(df, dv, model):\n",
    "     dicts = df[categorical_columns + numerical_columns].to_dict(orient='records')  # Prepare data for encoding\n",
    "     X = dv.transform(dicts)  # Transform data using existing encoder\n",
    "     y_pred = model.predict_proba(X)[:,1]  # Get prediction probabilities\n",
    "\n",
    "     return y_pred"
   ]
  },
  {
   "cell_type": "code",
   "execution_count": 684,
   "metadata": {},
   "outputs": [
    {
     "data": {
      "text/plain": [
       "array([0.92252964, 0.99847474, 0.99882856, ..., 0.9871268 , 0.02713281,\n",
       "       0.98697476])"
      ]
     },
     "execution_count": 684,
     "metadata": {},
     "output_type": "execute_result"
    }
   ],
   "source": [
    "y_pred = predict(df_val, dv, model)\n",
    "y_pred"
   ]
  },
  {
   "cell_type": "code",
   "execution_count": 685,
   "metadata": {},
   "outputs": [
    {
     "data": {
      "text/plain": [
       "<generator object _BaseKFold.split at 0x307401c40>"
      ]
     },
     "execution_count": 685,
     "metadata": {},
     "output_type": "execute_result"
    }
   ],
   "source": [
    "from sklearn.model_selection import KFold\n",
    " \n",
    "kfold = KFold(n_splits=10, shuffle=True, random_state=1) \n",
    "kfold.split(df_train_full)"
   ]
  },
  {
   "cell_type": "code",
   "execution_count": 686,
   "metadata": {},
   "outputs": [
    {
     "data": {
      "text/plain": [
       "(7195, 800)"
      ]
     },
     "execution_count": 686,
     "metadata": {},
     "output_type": "execute_result"
    }
   ],
   "source": [
    "train_idx, val_idx = next(kfold.split(df_train_full))\n",
    "len(train_idx), len(val_idx)"
   ]
  },
  {
   "cell_type": "code",
   "execution_count": 687,
   "metadata": {},
   "outputs": [
    {
     "data": {
      "text/plain": [
       "7995"
      ]
     },
     "execution_count": 687,
     "metadata": {},
     "output_type": "execute_result"
    }
   ],
   "source": [
    "len(df_train_full)"
   ]
  },
  {
   "cell_type": "code",
   "execution_count": 688,
   "metadata": {},
   "outputs": [],
   "source": [
    "# We can use iloc to select a part of this dataframe\n",
    "df_train = df_train_full.iloc[train_idx]\n",
    "df_val = df_train_full.iloc[val_idx]"
   ]
  },
  {
   "cell_type": "code",
   "execution_count": 689,
   "metadata": {},
   "outputs": [
    {
     "data": {
      "text/html": [
       "<div>\n",
       "<style scoped>\n",
       "    .dataframe tbody tr th:only-of-type {\n",
       "        vertical-align: middle;\n",
       "    }\n",
       "\n",
       "    .dataframe tbody tr th {\n",
       "        vertical-align: top;\n",
       "    }\n",
       "\n",
       "    .dataframe thead th {\n",
       "        text-align: right;\n",
       "    }\n",
       "</style>\n",
       "<table border=\"1\" class=\"dataframe\">\n",
       "  <thead>\n",
       "    <tr style=\"text-align: right;\">\n",
       "      <th></th>\n",
       "      <th>order_id</th>\n",
       "      <th>order_date</th>\n",
       "      <th>ship_date</th>\n",
       "      <th>customer</th>\n",
       "      <th>manufactory</th>\n",
       "      <th>segment</th>\n",
       "      <th>category</th>\n",
       "      <th>subcategory</th>\n",
       "      <th>region</th>\n",
       "      <th>city</th>\n",
       "      <th>...</th>\n",
       "      <th>discount</th>\n",
       "      <th>profit</th>\n",
       "      <th>quantity</th>\n",
       "      <th>sales</th>\n",
       "      <th>profit_margin</th>\n",
       "      <th>order_year</th>\n",
       "      <th>order_month</th>\n",
       "      <th>ship_year</th>\n",
       "      <th>ship_month</th>\n",
       "      <th>product_name_encoded</th>\n",
       "    </tr>\n",
       "  </thead>\n",
       "  <tbody>\n",
       "    <tr>\n",
       "      <th>0</th>\n",
       "      <td>us-2023-167395</td>\n",
       "      <td>2022-12-02</td>\n",
       "      <td>2022-12-04</td>\n",
       "      <td>kunst_miller</td>\n",
       "      <td>ge</td>\n",
       "      <td>consumer</td>\n",
       "      <td>technology</td>\n",
       "      <td>phones</td>\n",
       "      <td>east</td>\n",
       "      <td>lowell</td>\n",
       "      <td>...</td>\n",
       "      <td>0.0</td>\n",
       "      <td>1</td>\n",
       "      <td>5</td>\n",
       "      <td>6.888521</td>\n",
       "      <td>0.2900</td>\n",
       "      <td>2022</td>\n",
       "      <td>12</td>\n",
       "      <td>2022</td>\n",
       "      <td>12</td>\n",
       "      <td>724</td>\n",
       "    </tr>\n",
       "    <tr>\n",
       "      <th>1</th>\n",
       "      <td>us-2023-140480</td>\n",
       "      <td>2022-07-08</td>\n",
       "      <td>2022-07-12</td>\n",
       "      <td>harold_engle</td>\n",
       "      <td>hunt</td>\n",
       "      <td>corporate</td>\n",
       "      <td>office_supplies</td>\n",
       "      <td>art</td>\n",
       "      <td>east</td>\n",
       "      <td>newark</td>\n",
       "      <td>...</td>\n",
       "      <td>0.0</td>\n",
       "      <td>1</td>\n",
       "      <td>5</td>\n",
       "      <td>5.170200</td>\n",
       "      <td>0.2600</td>\n",
       "      <td>2022</td>\n",
       "      <td>7</td>\n",
       "      <td>2022</td>\n",
       "      <td>7</td>\n",
       "      <td>885</td>\n",
       "    </tr>\n",
       "    <tr>\n",
       "      <th>2</th>\n",
       "      <td>us-2021-111395</td>\n",
       "      <td>2020-11-23</td>\n",
       "      <td>2020-11-27</td>\n",
       "      <td>victoria_brennan</td>\n",
       "      <td>tenex</td>\n",
       "      <td>corporate</td>\n",
       "      <td>office_supplies</td>\n",
       "      <td>storage</td>\n",
       "      <td>central</td>\n",
       "      <td>san_antonio</td>\n",
       "      <td>...</td>\n",
       "      <td>0.2</td>\n",
       "      <td>1</td>\n",
       "      <td>2</td>\n",
       "      <td>3.334203</td>\n",
       "      <td>0.0875</td>\n",
       "      <td>2020</td>\n",
       "      <td>11</td>\n",
       "      <td>2020</td>\n",
       "      <td>11</td>\n",
       "      <td>1544</td>\n",
       "    </tr>\n",
       "    <tr>\n",
       "      <th>3</th>\n",
       "      <td>us-2023-100622</td>\n",
       "      <td>2022-11-03</td>\n",
       "      <td>2022-11-07</td>\n",
       "      <td>dave_kipp</td>\n",
       "      <td>hunt</td>\n",
       "      <td>consumer</td>\n",
       "      <td>office_supplies</td>\n",
       "      <td>art</td>\n",
       "      <td>south</td>\n",
       "      <td>orlando</td>\n",
       "      <td>...</td>\n",
       "      <td>0.2</td>\n",
       "      <td>1</td>\n",
       "      <td>2</td>\n",
       "      <td>4.042771</td>\n",
       "      <td>0.0750</td>\n",
       "      <td>2022</td>\n",
       "      <td>11</td>\n",
       "      <td>2022</td>\n",
       "      <td>11</td>\n",
       "      <td>885</td>\n",
       "    </tr>\n",
       "    <tr>\n",
       "      <th>4</th>\n",
       "      <td>us-2021-159513</td>\n",
       "      <td>2020-04-02</td>\n",
       "      <td>2020-04-09</td>\n",
       "      <td>john_dryer</td>\n",
       "      <td>other</td>\n",
       "      <td>consumer</td>\n",
       "      <td>technology</td>\n",
       "      <td>machines</td>\n",
       "      <td>west</td>\n",
       "      <td>los_angeles</td>\n",
       "      <td>...</td>\n",
       "      <td>0.2</td>\n",
       "      <td>1</td>\n",
       "      <td>3</td>\n",
       "      <td>4.290131</td>\n",
       "      <td>0.3375</td>\n",
       "      <td>2020</td>\n",
       "      <td>4</td>\n",
       "      <td>2020</td>\n",
       "      <td>4</td>\n",
       "      <td>1608</td>\n",
       "    </tr>\n",
       "  </tbody>\n",
       "</table>\n",
       "<p>5 rows × 21 columns</p>\n",
       "</div>"
      ],
      "text/plain": [
       "         order_id order_date  ship_date          customer manufactory  \\\n",
       "0  us-2023-167395 2022-12-02 2022-12-04      kunst_miller          ge   \n",
       "1  us-2023-140480 2022-07-08 2022-07-12      harold_engle        hunt   \n",
       "2  us-2021-111395 2020-11-23 2020-11-27  victoria_brennan       tenex   \n",
       "3  us-2023-100622 2022-11-03 2022-11-07         dave_kipp        hunt   \n",
       "4  us-2021-159513 2020-04-02 2020-04-09        john_dryer       other   \n",
       "\n",
       "     segment         category subcategory   region         city  ... discount  \\\n",
       "0   consumer       technology      phones     east       lowell  ...      0.0   \n",
       "1  corporate  office_supplies         art     east       newark  ...      0.0   \n",
       "2  corporate  office_supplies     storage  central  san_antonio  ...      0.2   \n",
       "3   consumer  office_supplies         art    south      orlando  ...      0.2   \n",
       "4   consumer       technology    machines     west  los_angeles  ...      0.2   \n",
       "\n",
       "   profit  quantity     sales  profit_margin  order_year  order_month  \\\n",
       "0       1         5  6.888521         0.2900        2022           12   \n",
       "1       1         5  5.170200         0.2600        2022            7   \n",
       "2       1         2  3.334203         0.0875        2020           11   \n",
       "3       1         2  4.042771         0.0750        2022           11   \n",
       "4       1         3  4.290131         0.3375        2020            4   \n",
       "\n",
       "   ship_year  ship_month  product_name_encoded  \n",
       "0       2022          12                   724  \n",
       "1       2022           7                   885  \n",
       "2       2020          11                  1544  \n",
       "3       2022          11                   885  \n",
       "4       2020           4                  1608  \n",
       "\n",
       "[5 rows x 21 columns]"
      ]
     },
     "execution_count": 689,
     "metadata": {},
     "output_type": "execute_result"
    }
   ],
   "source": [
    "df_train.head()"
   ]
  },
  {
   "cell_type": "code",
   "execution_count": 692,
   "metadata": {},
   "outputs": [
    {
     "data": {
      "text/plain": [
       "[np.float64(0.9974619747823259),\n",
       " np.float64(0.996574358974359),\n",
       " np.float64(0.9985808571234168),\n",
       " np.float64(0.9966082124557986),\n",
       " np.float64(0.9971692923230808),\n",
       " np.float64(0.9968107585062896),\n",
       " np.float64(0.9953113884757163),\n",
       " np.float64(0.9986553155110691),\n",
       " np.float64(0.9970335535845388),\n",
       " np.float64(0.9983884759586924)]"
      ]
     },
     "execution_count": 692,
     "metadata": {},
     "output_type": "execute_result"
    }
   ],
   "source": [
    "from sklearn.model_selection import KFold\n",
    "from sklearn.metrics import roc_auc_score\n",
    "\n",
    "kfold = KFold(n_splits=10, shuffle=True, random_state=1)\n",
    "\n",
    "scores = []\n",
    "\n",
    "for train_idx, val_idx in kfold.split(df_train_full):\n",
    "    df_train = df_train_full.iloc[train_idx]\n",
    "    df_val = df_train_full.iloc[val_idx]\n",
    "\n",
    "    y_train = df_train.profit.values\n",
    "    y_val = df_val.profit.values\n",
    "\n",
    "    dv, model = train(df_train, y_train)  # Train model\n",
    "    y_pred = predict(df_val, dv, model)   # Get predictions\n",
    "\n",
    "    auc = roc_auc_score(y_val, y_pred)    # Calculate AUC score for validation fold\n",
    "    scores.append(auc)                    # Store the score\n",
    "\n",
    "scores\n",
    "\n",
    "\n"
   ]
  },
  {
   "cell_type": "code",
   "execution_count": 696,
   "metadata": {},
   "outputs": [
    {
     "name": "stdout",
     "output_type": "stream",
     "text": [
      "Requirement already satisfied: tqdm in /Users/teslim/anaconda3/envs/machine-learning-env/lib/python3.10/site-packages (4.66.5)\n"
     ]
    },
    {
     "name": "stderr",
     "output_type": "stream",
     "text": [
      "10it [00:02,  4.02it/s]\n"
     ]
    },
    {
     "data": {
      "text/plain": [
       "[np.float64(0.9974619747823259),\n",
       " np.float64(0.996574358974359),\n",
       " np.float64(0.9985808571234168),\n",
       " np.float64(0.9966082124557986),\n",
       " np.float64(0.9971692923230808),\n",
       " np.float64(0.9968107585062896),\n",
       " np.float64(0.9953113884757163),\n",
       " np.float64(0.9986553155110691),\n",
       " np.float64(0.9970335535845388),\n",
       " np.float64(0.9983884759586924)]"
      ]
     },
     "execution_count": 696,
     "metadata": {},
     "output_type": "execute_result"
    }
   ],
   "source": [
    "from sklearn.model_selection import KFold\n",
    "!pip3 install tqdm\n",
    "from tqdm.auto import tqdm\n",
    "\n",
    "kfold = KFold(n_splits=10, shuffle=True, random_state=1)\n",
    "scores = []\n",
    "\n",
    "for train_idx, val_idx in tqdm(kfold.split(df_train_full)):\n",
    "    df_train = df_train_full.iloc[train_idx]\n",
    "    df_val = df_train_full.iloc[val_idx]\n",
    "\n",
    "    y_train = df_train.profit.values\n",
    "    y_val = df_val.profit.values\n",
    "\n",
    "    dv, model = train(df_train, y_train)\n",
    "    y_pred = predict(df_val, dv, model)\n",
    "\n",
    "    auc = roc_auc_score(y_val, y_pred)\n",
    "    scores.append(auc)\n",
    "\n",
    "scores\n"
   ]
  },
  {
   "cell_type": "code",
   "execution_count": 697,
   "metadata": {},
   "outputs": [
    {
     "name": "stdout",
     "output_type": "stream",
     "text": [
      "0.997 +- 0.001\n"
     ]
    }
   ],
   "source": [
    "print('%.3f +- %.3f' % (np.mean(scores), np.std(scores)))"
   ]
  },
  {
   "cell_type": "markdown",
   "metadata": {},
   "source": [
    "### Finding the best parameters"
   ]
  },
  {
   "cell_type": "code",
   "execution_count": null,
   "metadata": {},
   "outputs": [],
   "source": [
    "from sklearn.feature_extraction import DictVectorizer\n",
    "from sklearn.linear_model import LogisticRegression\n",
    "\n",
    "def train(df_train, y_train, C=1.0):\n",
    "    dicts = df_train[categorical_columns + numerical_columns].to_dict(orient='records')\n",
    "    \n",
    "    dv = DictVectorizer(sparse=False)\n",
    "    X_train = dv.fit_transform(dicts)\n",
    "\n",
    "    model = LogisticRegression(C=C, max_iter=1000)\n",
    "    model.fit(X_train, y_train)\n",
    "\n",
    "    return dv, model\n"
   ]
  },
  {
   "cell_type": "code",
   "execution_count": null,
   "metadata": {},
   "outputs": [],
   "source": [
    "from sklearn.model_selection import KFold\n",
    "from sklearn.metrics import roc_auc_score\n",
    "import numpy as np\n",
    "\n",
    "kfold = KFold(n_splits=10, shuffle=True, random_state=1)  \n",
    "\n",
    "for C in [0.001, 0.01, 0.1, 0.5, 1, 5, 10]:\n",
    "    scores = []\n",
    "    \n",
    "    for train_idx, val_idx in kfold.split(df_train_full):\n",
    "        df_train = df_train_full.iloc[train_idx]\n",
    "        df_val = df_train_full.iloc[val_idx]\n",
    "\n",
    "        y_train = df_train.profit.values\n",
    "        y_val = df_val.profit.values\n",
    "\n",
    "        dv, model = train(df_train, y_train, C=C)\n",
    "        y_pred = predict(df_val, dv, model)\n",
    "\n",
    "        auc = roc_auc_score(y_val, y_pred)\n",
    "        scores.append(auc)\n",
    "\n",
    "    print('C=%s %.3f ± %.3f' % (C, np.mean(scores), np.std(scores)))\n"
   ]
  },
  {
   "cell_type": "code",
   "execution_count": 702,
   "metadata": {},
   "outputs": [
    {
     "name": "stderr",
     "output_type": "stream",
     "text": [
      " 14%|█▍        | 1/7 [00:18<01:49, 18.32s/it]"
     ]
    },
    {
     "name": "stdout",
     "output_type": "stream",
     "text": [
      "C=0.001 0.966 ± 0.003\n"
     ]
    },
    {
     "name": "stderr",
     "output_type": "stream",
     "text": [
      " 29%|██▊       | 2/7 [01:43<04:47, 57.42s/it]"
     ]
    },
    {
     "name": "stdout",
     "output_type": "stream",
     "text": [
      "C=0.01 0.990 ± 0.001\n"
     ]
    },
    {
     "name": "stderr",
     "output_type": "stream",
     "text": [
      " 43%|████▎     | 3/7 [03:13<04:49, 72.41s/it]"
     ]
    },
    {
     "name": "stdout",
     "output_type": "stream",
     "text": [
      "C=0.1 0.997 ± 0.000\n"
     ]
    },
    {
     "name": "stderr",
     "output_type": "stream",
     "text": [
      " 57%|█████▋    | 4/7 [04:46<04:01, 80.48s/it]"
     ]
    },
    {
     "name": "stdout",
     "output_type": "stream",
     "text": [
      "C=0.5 0.999 ± 0.000\n"
     ]
    },
    {
     "name": "stderr",
     "output_type": "stream",
     "text": [
      " 71%|███████▏  | 5/7 [06:10<02:43, 81.97s/it]"
     ]
    },
    {
     "name": "stdout",
     "output_type": "stream",
     "text": [
      "C=1 0.999 ± 0.000\n"
     ]
    },
    {
     "name": "stderr",
     "output_type": "stream",
     "text": [
      " 86%|████████▌ | 6/7 [07:32<01:21, 81.85s/it]"
     ]
    },
    {
     "name": "stdout",
     "output_type": "stream",
     "text": [
      "C=5 0.999 ± 0.000\n"
     ]
    },
    {
     "name": "stderr",
     "output_type": "stream",
     "text": [
      "100%|██████████| 7/7 [08:57<00:00, 76.83s/it]"
     ]
    },
    {
     "name": "stdout",
     "output_type": "stream",
     "text": [
      "C=10 0.999 ± 0.000\n"
     ]
    },
    {
     "name": "stderr",
     "output_type": "stream",
     "text": [
      "\n"
     ]
    }
   ],
   "source": [
    "# Code for Cross-Validation with Different C Values:\n",
    "\n",
    "from tqdm.auto import tqdm\n",
    "\n",
    "for C in tqdm([0.001, 0.01, 0.1, 0.5, 1, 5, 10]):\n",
    "    scores = []\n",
    "    kfold = KFold(n_splits=5, shuffle=True, random_state=1)  \n",
    "    \n",
    "    for train_idx, val_idx in kfold.split(df_train_full):\n",
    "        df_train = df_train_full.iloc[train_idx]\n",
    "        df_val = df_train_full.iloc[val_idx]\n",
    "\n",
    "        y_train = df_train.profit.values\n",
    "        y_val = df_val.profit.values\n",
    "\n",
    "        dv, model = train(df_train, y_train, C=C)\n",
    "        y_pred = predict(df_val, dv, model)\n",
    "\n",
    "        auc = roc_auc_score(y_val, y_pred)\n",
    "        scores.append(auc)\n",
    "\n",
    "    print('C=%s %.3f ± %.3f' % (C, np.mean(scores), np.std(scores)))\n"
   ]
  }
 ],
 "metadata": {
  "kernelspec": {
   "display_name": "machine-learning-env",
   "language": "python",
   "name": "python3"
  },
  "language_info": {
   "codemirror_mode": {
    "name": "ipython",
    "version": 3
   },
   "file_extension": ".py",
   "mimetype": "text/x-python",
   "name": "python",
   "nbconvert_exporter": "python",
   "pygments_lexer": "ipython3",
   "version": "3.10.13"
  }
 },
 "nbformat": 4,
 "nbformat_minor": 2
}
